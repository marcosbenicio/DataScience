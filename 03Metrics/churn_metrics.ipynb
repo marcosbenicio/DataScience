{
 "cells": [
  {
   "cell_type": "code",
   "execution_count": 126,
   "metadata": {},
   "outputs": [],
   "source": [
    "import pandas as pd\n",
    "import numpy as np\n",
    "\n",
    "import seaborn as sns\n",
    "from matplotlib import pyplot as plt\n",
    "from sklearn.model_selection import train_test_split\n",
    "from sklearn.metrics import mutual_info_score, accuracy_score\n",
    "from sklearn.feature_extraction import DictVectorizer\n",
    "from sklearn.linear_model import LogisticRegression"
   ]
  },
  {
   "cell_type": "code",
   "execution_count": 127,
   "metadata": {},
   "outputs": [],
   "source": [
    "def printest(args, value):\n",
    "    return print( \"{} : \\n {} \\n\".format(args, value) )"
   ]
  },
  {
   "attachments": {},
   "cell_type": "markdown",
   "metadata": {},
   "source": [
    "# Logistic Regression - prepare data and train model"
   ]
  },
  {
   "attachments": {},
   "cell_type": "markdown",
   "metadata": {},
   "source": [
    "Churn prediction is about identifying customers who are likely to cancel their contracts soon. If the company can do that, it can offer discounts on these services in an effort to keep the users. Here we use the dataset of churn prediction for a telecom company.\n",
    "\n",
    "- A value of 0 indicates that the customer did not churn (they stayed with the service).\n",
    "- A value of 1 indicates that the customer did churn (they left the service)."
   ]
  },
  {
   "cell_type": "code",
   "execution_count": 128,
   "metadata": {},
   "outputs": [],
   "source": [
    "df = pd.read_csv('Data/WA_Fn-UseC_-Telco-Customer-Churn.csv')\n",
    "\n",
    "# Convert 'TotalCharges' to numeric, replace non-numeric with NaN\n",
    "df['TotalCharges'] = pd.to_numeric(df.TotalCharges, errors='coerce')\n",
    "# Fill NaN values with zero\n",
    "df['TotalCharges'] = df['TotalCharges'].fillna(0)\n",
    "\n",
    "# lowering columns name and replace spaces by _\n",
    "df.columns  = df.columns.str.lower().str.replace(' ', '_')\n",
    "\n",
    "\n",
    "# boolean mask to select columns with object type (string)\n",
    "obj_mask = df.dtypes == 'object' \n",
    "obj_columns = list(df.dtypes[obj_mask].index)\n",
    "\n",
    "# lowering rows strings and replace spaces by _\n",
    "for col in obj_columns:\n",
    "    df[col] = df[col].str.lower().str.replace(' ', '_')\n",
    "\n",
    "# turn 'no' into 0 and 'yes' into 1\n",
    "df.churn = (df.churn == 'yes').astype(int)"
   ]
  },
  {
   "cell_type": "code",
   "execution_count": 129,
   "metadata": {},
   "outputs": [],
   "source": [
    "# split data in train, test, validation\n",
    "df_train_full, df_test = train_test_split(df, test_size=0.2, random_state=1)\n",
    "df_train, df_val = train_test_split(df_train_full, test_size=0.33, random_state=11)\n",
    "\n",
    "# save target values\n",
    "y_train = df_train['churn'].values\n",
    "y_val = df_val['churn'].values\n",
    "\n",
    "# take out the target values from the dataframe\n",
    "del df_train['churn']\n",
    "del df_val['churn']"
   ]
  },
  {
   "cell_type": "code",
   "execution_count": 130,
   "metadata": {},
   "outputs": [
    {
     "name": "stdout",
     "output_type": "stream",
     "text": [
      "categorical : \n",
      " ['gender', 'partner', 'dependents', 'phoneservice', 'multiplelines', 'internetservice', 'onlinesecurity', 'onlinebackup', 'deviceprotection', 'techsupport', 'streamingtv', 'streamingmovies', 'contract', 'paperlessbilling', 'paymentmethod', 'seniorcitizen'] \n",
      "\n",
      "numerical : \n",
      " ['tenure', 'monthlycharges', 'totalcharges'] \n",
      "\n"
     ]
    }
   ],
   "source": [
    "# All categorical columns except 'customerid'\n",
    "categorical_mask = df_train.dtypes == 'object'\n",
    "categorical = list(df_train.dtypes[categorical_mask].index)\n",
    "categorical.remove('customerid') \n",
    "\n",
    "# Manually add 'seniorcitizen' because it's an int boolean (0 or 1)\n",
    "categorical.append('seniorcitizen')\n",
    "printest('categorical', categorical)\n",
    "\n",
    "# All numerical columns except 'seniorcitizen' because it's an int boolean\n",
    "numerical_mask = df_train.dtypes != 'object'\n",
    "numerical = list(df_train.dtypes[numerical_mask].index)\n",
    "numerical.remove('seniorcitizen')\n",
    "printest('numerical', numerical)"
   ]
  },
  {
   "cell_type": "code",
   "execution_count": 131,
   "metadata": {},
   "outputs": [
    {
     "data": {
      "text/html": [
       "<style>#sk-container-id-2 {color: black;background-color: white;}#sk-container-id-2 pre{padding: 0;}#sk-container-id-2 div.sk-toggleable {background-color: white;}#sk-container-id-2 label.sk-toggleable__label {cursor: pointer;display: block;width: 100%;margin-bottom: 0;padding: 0.3em;box-sizing: border-box;text-align: center;}#sk-container-id-2 label.sk-toggleable__label-arrow:before {content: \"▸\";float: left;margin-right: 0.25em;color: #696969;}#sk-container-id-2 label.sk-toggleable__label-arrow:hover:before {color: black;}#sk-container-id-2 div.sk-estimator:hover label.sk-toggleable__label-arrow:before {color: black;}#sk-container-id-2 div.sk-toggleable__content {max-height: 0;max-width: 0;overflow: hidden;text-align: left;background-color: #f0f8ff;}#sk-container-id-2 div.sk-toggleable__content pre {margin: 0.2em;color: black;border-radius: 0.25em;background-color: #f0f8ff;}#sk-container-id-2 input.sk-toggleable__control:checked~div.sk-toggleable__content {max-height: 200px;max-width: 100%;overflow: auto;}#sk-container-id-2 input.sk-toggleable__control:checked~label.sk-toggleable__label-arrow:before {content: \"▾\";}#sk-container-id-2 div.sk-estimator input.sk-toggleable__control:checked~label.sk-toggleable__label {background-color: #d4ebff;}#sk-container-id-2 div.sk-label input.sk-toggleable__control:checked~label.sk-toggleable__label {background-color: #d4ebff;}#sk-container-id-2 input.sk-hidden--visually {border: 0;clip: rect(1px 1px 1px 1px);clip: rect(1px, 1px, 1px, 1px);height: 1px;margin: -1px;overflow: hidden;padding: 0;position: absolute;width: 1px;}#sk-container-id-2 div.sk-estimator {font-family: monospace;background-color: #f0f8ff;border: 1px dotted black;border-radius: 0.25em;box-sizing: border-box;margin-bottom: 0.5em;}#sk-container-id-2 div.sk-estimator:hover {background-color: #d4ebff;}#sk-container-id-2 div.sk-parallel-item::after {content: \"\";width: 100%;border-bottom: 1px solid gray;flex-grow: 1;}#sk-container-id-2 div.sk-label:hover label.sk-toggleable__label {background-color: #d4ebff;}#sk-container-id-2 div.sk-serial::before {content: \"\";position: absolute;border-left: 1px solid gray;box-sizing: border-box;top: 0;bottom: 0;left: 50%;z-index: 0;}#sk-container-id-2 div.sk-serial {display: flex;flex-direction: column;align-items: center;background-color: white;padding-right: 0.2em;padding-left: 0.2em;position: relative;}#sk-container-id-2 div.sk-item {position: relative;z-index: 1;}#sk-container-id-2 div.sk-parallel {display: flex;align-items: stretch;justify-content: center;background-color: white;position: relative;}#sk-container-id-2 div.sk-item::before, #sk-container-id-2 div.sk-parallel-item::before {content: \"\";position: absolute;border-left: 1px solid gray;box-sizing: border-box;top: 0;bottom: 0;left: 50%;z-index: -1;}#sk-container-id-2 div.sk-parallel-item {display: flex;flex-direction: column;z-index: 1;position: relative;background-color: white;}#sk-container-id-2 div.sk-parallel-item:first-child::after {align-self: flex-end;width: 50%;}#sk-container-id-2 div.sk-parallel-item:last-child::after {align-self: flex-start;width: 50%;}#sk-container-id-2 div.sk-parallel-item:only-child::after {width: 0;}#sk-container-id-2 div.sk-dashed-wrapped {border: 1px dashed gray;margin: 0 0.4em 0.5em 0.4em;box-sizing: border-box;padding-bottom: 0.4em;background-color: white;}#sk-container-id-2 div.sk-label label {font-family: monospace;font-weight: bold;display: inline-block;line-height: 1.2em;}#sk-container-id-2 div.sk-label-container {text-align: center;}#sk-container-id-2 div.sk-container {/* jupyter's `normalize.less` sets `[hidden] { display: none; }` but bootstrap.min.css set `[hidden] { display: none !important; }` so we also need the `!important` here to be able to override the default hidden behavior on the sphinx rendered scikit-learn.org. See: https://github.com/scikit-learn/scikit-learn/issues/21755 */display: inline-block !important;position: relative;}#sk-container-id-2 div.sk-text-repr-fallback {display: none;}</style><div id=\"sk-container-id-2\" class=\"sk-top-container\"><div class=\"sk-text-repr-fallback\"><pre>LogisticRegression(random_state=1, solver=&#x27;liblinear&#x27;)</pre><b>In a Jupyter environment, please rerun this cell to show the HTML representation or trust the notebook. <br />On GitHub, the HTML representation is unable to render, please try loading this page with nbviewer.org.</b></div><div class=\"sk-container\" hidden><div class=\"sk-item\"><div class=\"sk-estimator sk-toggleable\"><input class=\"sk-toggleable__control sk-hidden--visually\" id=\"sk-estimator-id-2\" type=\"checkbox\" checked><label for=\"sk-estimator-id-2\" class=\"sk-toggleable__label sk-toggleable__label-arrow\">LogisticRegression</label><div class=\"sk-toggleable__content\"><pre>LogisticRegression(random_state=1, solver=&#x27;liblinear&#x27;)</pre></div></div></div></div></div>"
      ],
      "text/plain": [
       "LogisticRegression(random_state=1, solver='liblinear')"
      ]
     },
     "execution_count": 131,
     "metadata": {},
     "output_type": "execute_result"
    }
   ],
   "source": [
    "# transform dataframe to dict\n",
    "train_dict = df_train[categorical + numerical].to_dict(orient='records')\n",
    "\n",
    "# One-hot encoding\n",
    "dv = DictVectorizer(sparse=False)\n",
    "dv.fit(train_dict)\n",
    "X_train = dv.transform(train_dict)\n",
    "\n",
    "# Model train for all relevant features\n",
    "model = LogisticRegression(solver='liblinear', random_state=1)\n",
    "model.fit(X_train, y_train)"
   ]
  },
  {
   "cell_type": "code",
   "execution_count": 132,
   "metadata": {},
   "outputs": [
    {
     "name": "stdout",
     "output_type": "stream",
     "text": [
      "Prob Not churn| Prob Churn : \n",
      " [[0.76508893 0.23491107]\n",
      " [0.7311339  0.2688661 ]\n",
      " [0.6805482  0.3194518 ]\n",
      " ...\n",
      " [0.94274725 0.05725275]\n",
      " [0.38476961 0.61523039]\n",
      " [0.93872737 0.06127263]] \n",
      "\n"
     ]
    }
   ],
   "source": [
    "# validate the model\n",
    "val_dict = df_val[categorical + numerical].to_dict(orient='records')\n",
    "X_val = dv.transform(val_dict)\n",
    "y_pred = model.predict_proba(X_val)\n",
    "printest('Prob Not churn| Prob Churn',y_pred)"
   ]
  },
  {
   "cell_type": "code",
   "execution_count": 133,
   "metadata": {},
   "outputs": [
    {
     "name": "stdout",
     "output_type": "stream",
     "text": [
      "Prob Not churn| Prob Churn : \n",
      " [[0.76508893 0.23491107]\n",
      " [0.7311339  0.2688661 ]\n",
      " [0.6805482  0.3194518 ]\n",
      " ...\n",
      " [0.94274725 0.05725275]\n",
      " [0.38476961 0.61523039]\n",
      " [0.93872737 0.06127263]] \n",
      "\n"
     ]
    }
   ],
   "source": [
    "# training the model for a subset of features\n",
    "small_subset = ['contract', 'tenure', 'totalcharges']\n",
    "train_dict_small = df_train[small_subset].to_dict(orient='records')\n",
    "dv_small = DictVectorizer(sparse=False)\n",
    "dv_small.fit(train_dict_small)\n",
    "\n",
    "X_small_train = dv_small.transform(train_dict_small)\n",
    "\n",
    "model_small = LogisticRegression(solver='liblinear', random_state=1)\n",
    "model_small.fit(X_small_train, y_train)\n",
    "\n",
    "val_dict_small = df_val[small_subset].to_dict(orient='records')\n",
    "X_small_val = dv_small.transform(val_dict_small)\n",
    "\n",
    "y_pred_small = model_small.predict_proba(X_small_val)\n",
    "printest('Prob Not churn| Prob Churn',y_pred)"
   ]
  },
  {
   "attachments": {},
   "cell_type": "markdown",
   "metadata": {},
   "source": [
    "# Metrics\n",
    "\n",
    "Evaluation metrics serve as a critical tool for quantifying the performance of a model. They function by assessing the model's predictions against the actual observed values. This comparison yields a measurement that indicates the model's predictive accuracy. Therefore, evaluation metrics provide an essential insight into the model's proficiency and its ability to generalize to unseen data."
   ]
  },
  {
   "attachments": {},
   "cell_type": "markdown",
   "metadata": {},
   "source": [
    "## Classification accuracy"
   ]
  },
  {
   "attachments": {},
   "cell_type": "markdown",
   "metadata": {},
   "source": [
    "The accuracy of a binary classification model is determined by the proportion of predictions it correctly makes relative to the total number of predictions. In mathematical terms, this can be represented as:\n",
    "\n",
    "$$\\text{Accuracy} = \\frac{\\text{correct}}{\\text{total}} = \\frac{1491}{1860} = 80\\%$$\n",
    "\n",
    "This metric provides valuable insight into the model's performance. By tallying the instances where our model's predictions align with the actual results."
   ]
  },
  {
   "cell_type": "code",
   "execution_count": 134,
   "metadata": {},
   "outputs": [
    {
     "name": "stdout",
     "output_type": "stream",
     "text": [
      "Full Model Accuracy : \n",
      " 0.8016129032258065 \n",
      "\n"
     ]
    }
   ],
   "source": [
    "# calculate accuracy explicitly\n",
    "y_pred = model.predict_proba(X_val)[:, 1]\n",
    "# probability threshold\n",
    "churn = y_pred >= 0.5\n",
    "correct = (y_val == churn).sum()\n",
    "total = len(y_val)\n",
    "accuracy = correct/total\n",
    "printest('Full Model Accuracy', accuracy)"
   ]
  },
  {
   "cell_type": "code",
   "execution_count": 138,
   "metadata": {},
   "outputs": [
    {
     "name": "stdout",
     "output_type": "stream",
     "text": [
      "Small Model Accuracy : \n",
      " 0.7672043010752688 \n",
      "\n"
     ]
    }
   ],
   "source": [
    "# calculate accuracy explicitly\n",
    "y_pred_small = model_small.predict_proba(X_small_val)[:, 1]\n",
    "# probability threshold\n",
    "churn = y_pred_small >= 0.5\n",
    "correct = (y_val == churn).sum()\n",
    "total = len(y_val)\n",
    "accuracy = correct/total\n",
    "printest('Small Model Accuracy', accuracy)"
   ]
  },
  {
   "attachments": {},
   "cell_type": "markdown",
   "metadata": {},
   "source": [
    "In order to determine the optimal threshold, we can iteratively calculate the accuracy for a range of potential threshold values. This process allows us to assess the performance of our model at various decision boundaries, thereby enabling us to select the threshold that yields the highest accuracy."
   ]
  },
  {
   "cell_type": "code",
   "execution_count": null,
   "metadata": {},
   "outputs": [
    {
     "data": {
      "text/html": [
       "<div>\n",
       "<style scoped>\n",
       "    .dataframe tbody tr th:only-of-type {\n",
       "        vertical-align: middle;\n",
       "    }\n",
       "\n",
       "    .dataframe tbody tr th {\n",
       "        vertical-align: top;\n",
       "    }\n",
       "\n",
       "    .dataframe thead th {\n",
       "        text-align: right;\n",
       "    }\n",
       "</style>\n",
       "<table border=\"1\" class=\"dataframe\">\n",
       "  <thead>\n",
       "    <tr style=\"text-align: right;\">\n",
       "      <th></th>\n",
       "      <th>accuracy</th>\n",
       "    </tr>\n",
       "    <tr>\n",
       "      <th>threshold</th>\n",
       "      <th></th>\n",
       "    </tr>\n",
       "  </thead>\n",
       "  <tbody>\n",
       "    <tr>\n",
       "      <th>0.00</th>\n",
       "      <td>0.261290</td>\n",
       "    </tr>\n",
       "    <tr>\n",
       "      <th>0.05</th>\n",
       "      <td>0.501075</td>\n",
       "    </tr>\n",
       "    <tr>\n",
       "      <th>0.10</th>\n",
       "      <td>0.594624</td>\n",
       "    </tr>\n",
       "    <tr>\n",
       "      <th>0.15</th>\n",
       "      <td>0.640323</td>\n",
       "    </tr>\n",
       "    <tr>\n",
       "      <th>0.20</th>\n",
       "      <td>0.689785</td>\n",
       "    </tr>\n",
       "    <tr>\n",
       "      <th>0.25</th>\n",
       "      <td>0.729570</td>\n",
       "    </tr>\n",
       "    <tr>\n",
       "      <th>0.30</th>\n",
       "      <td>0.754839</td>\n",
       "    </tr>\n",
       "    <tr>\n",
       "      <th>0.35</th>\n",
       "      <td>0.767204</td>\n",
       "    </tr>\n",
       "    <tr>\n",
       "      <th>0.40</th>\n",
       "      <td>0.781720</td>\n",
       "    </tr>\n",
       "    <tr>\n",
       "      <th>0.45</th>\n",
       "      <td>0.795161</td>\n",
       "    </tr>\n",
       "    <tr>\n",
       "      <th>0.50</th>\n",
       "      <td>0.801613</td>\n",
       "    </tr>\n",
       "    <tr>\n",
       "      <th>0.55</th>\n",
       "      <td>0.790323</td>\n",
       "    </tr>\n",
       "    <tr>\n",
       "      <th>0.60</th>\n",
       "      <td>0.789785</td>\n",
       "    </tr>\n",
       "    <tr>\n",
       "      <th>0.65</th>\n",
       "      <td>0.788172</td>\n",
       "    </tr>\n",
       "    <tr>\n",
       "      <th>0.70</th>\n",
       "      <td>0.773656</td>\n",
       "    </tr>\n",
       "    <tr>\n",
       "      <th>0.75</th>\n",
       "      <td>0.752151</td>\n",
       "    </tr>\n",
       "    <tr>\n",
       "      <th>0.80</th>\n",
       "      <td>0.741935</td>\n",
       "    </tr>\n",
       "    <tr>\n",
       "      <th>0.85</th>\n",
       "      <td>0.738710</td>\n",
       "    </tr>\n",
       "    <tr>\n",
       "      <th>0.90</th>\n",
       "      <td>0.738710</td>\n",
       "    </tr>\n",
       "    <tr>\n",
       "      <th>0.95</th>\n",
       "      <td>0.738710</td>\n",
       "    </tr>\n",
       "    <tr>\n",
       "      <th>1.00</th>\n",
       "      <td>0.738710</td>\n",
       "    </tr>\n",
       "  </tbody>\n",
       "</table>\n",
       "</div>"
      ],
      "text/plain": [
       "           accuracy\n",
       "threshold          \n",
       "0.00       0.261290\n",
       "0.05       0.501075\n",
       "0.10       0.594624\n",
       "0.15       0.640323\n",
       "0.20       0.689785\n",
       "0.25       0.729570\n",
       "0.30       0.754839\n",
       "0.35       0.767204\n",
       "0.40       0.781720\n",
       "0.45       0.795161\n",
       "0.50       0.801613\n",
       "0.55       0.790323\n",
       "0.60       0.789785\n",
       "0.65       0.788172\n",
       "0.70       0.773656\n",
       "0.75       0.752151\n",
       "0.80       0.741935\n",
       "0.85       0.738710\n",
       "0.90       0.738710\n",
       "0.95       0.738710\n",
       "1.00       0.738710"
      ]
     },
     "metadata": {},
     "output_type": "display_data"
    }
   ],
   "source": [
    "thresholds = np.linspace(0, 1, 21)\n",
    "\n",
    "accuracies = []\n",
    "\n",
    "for t in thresholds:\n",
    "    acc = accuracy_score(y_val, y_pred >= t)\n",
    "    accuracies.append(acc)\n",
    "    #print('%0.2f %0.3f' % (t, acc))\n",
    "\n",
    "# Create a dictionary\n",
    "data = {'threshold': thresholds, 'accuracy': accuracies}\n",
    "\n",
    "# Create DataFrame\n",
    "df_acc = pd.DataFrame(data)\n",
    "\n",
    "# Print DataFrame\n",
    "display(df_acc.set_index('threshold'))"
   ]
  },
  {
   "attachments": {},
   "cell_type": "markdown",
   "metadata": {},
   "source": [
    "As we see, using the threshold of 0.5 gives us the best accuracy. Typically, 0.5 is a good\n",
    "threshold value to start with. To make it more visual, we can use Matplotlib to create a plot that shows how accuracy changes depending on the threshold"
   ]
  },
  {
   "cell_type": "code",
   "execution_count": null,
   "metadata": {},
   "outputs": [
    {
     "data": {
      "image/png": "[encoded data removed]",
      "text/plain": [
       "<Figure size 432x288 with 1 Axes>"
      ]
     },
     "metadata": {
      "needs_background": "light"
     },
     "output_type": "display_data"
    }
   ],
   "source": [
    "plt.figure(figsize=(6, 4))\n",
    "\n",
    "plt.plot(df_acc['threshold'].values, df_acc['accuracy'].values, color='black')\n",
    "\n",
    "plt.title('Threshold vs Accuracy')\n",
    "plt.xlabel('Threshold')\n",
    "plt.ylabel('Accuracy')\n",
    "\n",
    "plt.xticks(np.linspace(0, 1, 11))\n",
    "\n",
    "# plt.savefig('04_threshold_accuracy.svg')\n",
    "\n",
    "plt.show()"
   ]
  },
  {
   "attachments": {},
   "cell_type": "markdown",
   "metadata": {},
   "source": [
    "### Dummy baseline\n",
    "\n",
    "Establishing a baseline is an important step in evaluating the performance of our predictive models. For this purpose, we often use a dummy model — a simple construct which consistently predicts the same outcome, regardless of the input features. In our case, it consistently outputs 'False'. \n",
    "\n",
    "By comparing the performance of our complex models against this baseline, we gain a clear understanding of their incremental improvement in predictive accuracy. "
   ]
  },
  {
   "cell_type": "code",
   "execution_count": 140,
   "metadata": {},
   "outputs": [
    {
     "name": "stdout",
     "output_type": "stream",
     "text": [
      "Full Model Accuracy : \n",
      " 0.7672043010752688 \n",
      "\n",
      "Small Model Accuracy : \n",
      " 0.7672043010752688 \n",
      "\n",
      "Baseline accuracy : \n",
      " 0.7387096774193549 \n",
      "\n"
     ]
    }
   ],
   "source": [
    "# dummy model that outputs only False\n",
    "size_val = len(y_val)\n",
    "baseline = np.repeat(False, size_val)\n",
    "\n",
    "\n",
    "printest('Full Model Accuracy', accuracy)\n",
    "printest('Small Model Accuracy', accuracy)\n",
    "printest('Baseline accuracy', accuracy_score(baseline, y_val))"
   ]
  },
  {
   "attachments": {},
   "cell_type": "markdown",
   "metadata": {},
   "source": [
    "Observing the performance of our models, we notice that the smaller model surpasses the naive baseline by a marginal 2%, while the larger model achieves a slightly better improvement of 6%. According to accuracy metrics, our model only offers a marginal improvement over a rudimentary model that categorizes all customers as non-churning and makes no effort to retain them. \n",
    "\n",
    "This phenomenon often arises in scenarios where there is class imbalance, a condition wherein one class outnumbers the other. This imbalance is indeed apparent in our dataset, where 74% of customers didn't churn while only 26% did. For this we need another metric that validate the model."
   ]
  },
  {
   "attachments": {},
   "cell_type": "markdown",
   "metadata": {},
   "source": [
    "## Confusion Matrix and Measures\n"
   ]
  },
  {
   "attachments": {},
   "cell_type": "markdown",
   "metadata": {},
   "source": [
    "**Confusion Matrix for multiple classes**\n",
    "\n",
    "The accuracy is a global measure in that it does not explicitly consider the classes that contribute to the error. A more detailed understanding can be achieved by noting the agreement and disagreement for specific classes between the actual and predicted labels in the validation or test set. \n",
    "\n",
    "Consider a typical dataset for the validation points with multiple classes,\n",
    "$$\\mathbf{D} =\n",
    "\\left( \\begin{array}{c|cccc|c}\n",
    "~    &X_{0}&X_{1}&\\cdots & X_{d}  & Y\\\\\n",
    "\\hline\n",
    "\\mathbf{x}_{1} &1& x_{11}& \\cdots&x_{1d}&y_1 \\\\\n",
    "\\vdots&\\vdots&\\vdots&\\ddots&\\vdots&\\vdots\\\\\n",
    "\\mathbf{x}_{n}&1&x_{n1}&\\cdots&x_{nd}&y_n\n",
    "\\end{array} \\right).$$\n",
    "\n",
    "The target values, denoted as $\\mathbf{Y} = (y_1, \\cdots, y_i, \\cdots, y_n)$, are not binary; instead, each $y_i \\in \\{c_1, \\cdots, c_k\\}$ represents one of $k$ class labels. Here, $\\mathcal{D}= \\{\\mathbf{D}_1,\\mathbf{D}_2, \\cdots,\\mathbf{D}_k\\}$ denotes the division of validation data according to their true class labels $y$.\n",
    "\n",
    "The $j^{th}$ split for the target values $y_i$ on the validation set is defined as:\n",
    "\n",
    "$$\\mathbf{D}_j = \\{\\mathbf{x}_i | y_i = c_j\\}$$\n",
    "\n",
    "with $n_i = |\\mathbf{D}_i|$ as the count of the true class $c_i$ within the validation set.\n",
    "\n",
    "Another division is conducted based on the predicted values from the validation set, forming $\\mathcal{R} = \\{\\mathbf{R}_1, \\mathbf{R}_2, \\cdots, \\mathbf{R}_k\\}$. This denotes that the $j^{th}$ partition for the predicted target value $\\hat{y}_i$ on the validation set is:\n",
    "\n",
    "$$\\mathbf{R}_j = \\{\\mathbf{x}_i | \\hat{y}_i = c_j\\}$$\n",
    "\n",
    "and $m_i = |\\mathbf{R}_i|$ represents the quantity of the predicted class $c_j$.\n",
    "\n",
    "The divisions $\\mathcal{R}$ and $\\mathcal{D}$ yield a $k \\times k$ matrix $\\mathbf{N}$, better known as a confusion matrix. This matrix illustrates the intersections of each partition from the sets $\\mathcal{R}$ and $\\mathcal{D}$:\n",
    "\n",
    "$$\\mathbf{N}(i,j) = n_{ij} = |\\mathbf{R}_i \\cap \\mathbf{D}_j |  = |\\{\\mathbf{x}_a \\in \\mathbf{D}| \\hat{y}_a = c_j ~~\\text{and} ~~ y_a = c_i \\}|$$\n",
    "\n",
    "For $1\\leq i$, $j \\leq k$, $n_{ij}$ represents the count of instances with a predicted class of $c_i$ and an actual label of $c_j$. These matrix values account for the total instances in each intersection. The matrix is presented as:\n",
    "\n",
    "$$\\mathbf{N} =\n",
    "\\left( \\begin{array}{c|cccc}\n",
    "~  y_{i} |~~\\hat{y}_i  &c_{1}&c_{2}&\\cdots & c_{k} \\\\\n",
    "\\hline\n",
    "{c}_{1} &n_{11}& n_{12}& \\cdots&n_{1k} \\\\\n",
    "{c}_{2} &n_{21}& n_{22}& \\cdots&n_{2k} \\\\\n",
    "\\vdots&\\vdots&\\vdots&\\ddots&\\vdots&\\\\\n",
    "c_{k}&n_{k1}&n_{k2}&\\cdots&n_{kk}\n",
    "\\end{array} \\right).$$\n",
    "\n",
    "The diagonal elements, $n_{ii} = |\\mathbf{R}_i \\cap \\mathbf{D}_i|$ (for $1\\leq i \\leq k$), denote instances where the classifier correctly identifies the true label $c_i$. The size of $\\mathbf{R}_i$ (the set of instances predicted as class $c_i$) and $\\mathbf{D}i$ (the set of instances that are truly class $c_i$) and their relationship with $n_{ii}$ can provide further insights:\n",
    "\n",
    "- If the size of $\\mathbf{R}_i$ is equal to the size of $\\mathbf{D}_i$, and $n_{ii}$ equals to the size of these sets, then the classifier has made perfect predictions for class $c_i$.\n",
    "\n",
    "- If the size of $\\mathbf{R}_i$ is larger than the size of $\\mathbf{D}_i$, it means that the classifier has predicted more instances as class $c_i$ than there actually are.\n",
    "\n",
    "- If the size of $\\mathbf{R}_i$ is smaller than the size of $\\mathbf{D}_i$, it means that the classifier has predicted fewer instances as class $c_i$ than there actually are.\n",
    "\n",
    "The off-diagonal elements, $n_{ij} = |\\mathbf{R}_i \\cap \\mathbf{D}_j|$ where $i \\neq j$, represent instances where the classifier's predictions and the true labels diverge. If $n_{ij}$ is non-zero, it signifies that there are instances where the classifier predicted class $c_i$ while the true class was $c_j$, indicating a misclassification error.\n",
    "\n",
    "- If the size of $\\mathbf{R}_i$ is larger than the size of $\\mathbf{D}_j$, it suggests that the classifier has over-predicted instances as class $c_i$ when they are actually class $c_j$. \n",
    "\n",
    "- If the size of $\\mathbf{R}_i$ is smaller than the size of $\\mathbf{D}_j$, it implies that the classifier has under-predicted instances as class $c_i$ when they are actually class $c_j$. \n",
    "\n",
    "To measure the quality of the classifier, we can calculate rates with respect to the sizes of each subset and their intersection:\n",
    "\n",
    "**Accuracy/Precision**\n",
    "\n",
    "The precision for a specific class $c_i$ is defined as the proportion of accurate predictions out of all points predicted to belong to class $c_i$:\n",
    "\n",
    "$$\\text{acc}_i = \\text{prec}_i= \\frac{|\\mathbf{R}_i \\cap \\mathbf{D}_i | }{|\\mathbf{R}_i|}  = \\frac{n_{ii}}{m_i}$$\n",
    "\n",
    "Here, $m_i$ is the total number of predictions for class $c_i$, and $n_{ii}$ represents instances where the classifier correctly identifies the true label $c_i$. A high precision for class $c_i$ indicates a more effective classifier.\n",
    "\n",
    "**Covarage/Recall**\n",
    "\n",
    "Recall, also known as coverage, for class $c_i$ is determined by the ratio of correct predictions to all points actually in class $c_i$:\n",
    "\n",
    "$$\\text{coverage}_i= \\text{recall}_i = \\frac{|\\mathbf{R}_i \\cap \\mathbf{D}_i | }{|\\mathbf{D}_i|} =  \\frac{n_{ii}}{n_i}$$\n",
    "\n",
    "Here, $n_i$ denotes the number of instances in class $c_i$. A high recall for class $c_i$ implies a more capable classifier.\n",
    "\n",
    "**F-Measures**\n",
    "\n",
    "Precision and recall often present a trade-off when assessing classifier performance. The F-measure seeks to balance these values by calculating their harmonic mean for class $c_i$:\n",
    "\n",
    "- If $\\text{recall}_i = 1$, the classifier predicts all validation points as belonging to class $c_i$. However, this will usually result in a low precision $\\text{prec}_i$.\n",
    "\n",
    "- If $\\text{prec}_i$ is very high because the classifier predicts only a few points as $c_i$, the recall $\\text{recall}_i$ is likely to be low.\n",
    "\n",
    "The F-measure seeks to harmonize the precision and recall values by calculating their harmonic mean for class $c_i$:\n",
    "\n",
    "$$F_i = \\frac{2}{\\frac{1}{\\text{prec}_i} + \\frac{1}{\\text{recall}_i}} = \\frac{2\\text{prec}_i \\text{recall}_i}{\\text{prec}_i + \\text{recall}_i} = \\frac{2n_{ii}}{n_i + m_i}$$\n",
    "\n",
    "The higher the $F_i$ value, the more effective the classifier for the specific class.\n",
    "\n",
    "The overall F- measure for the classifier is the mean of the class-specific values:\n",
    "\n",
    "$$F = \\frac{1}{k}\\sum^r_{i=1}F_i$$\n",
    "\n",
    "For perfect classifier, the maximum value of F measure is 1.\n"
   ]
  },
  {
   "attachments": {},
   "cell_type": "markdown",
   "metadata": {},
   "source": [
    "**Confusion Matrix for Binary classes**\n",
    "\n",
    "After considering a general case of multiple classes, we now turn our focus to the specific instance of binary classification. In such a scenario, where $k = 2$, we designate $c_1 = c_+$ as the positive class and $c_2 = c_{~-}$ as the negative class. The target values are represented as $\\mathbf{Y} = (y_{~+}, y_{~-})$. Consequently, the sets of true values are denoted as $\\mathcal{D} = {\\mathbf{D}_{~-}, \\mathbf{D}_{~+}}$, and the predicted values are indicated as $\\mathcal{R} = {\\mathbf{R}_{~-}, \\mathbf{R}_{~+}}$. The divisions $\\mathcal{R}$ and $\\mathcal{D}$ form a $2 \\times 2$ matrix, as presented below:\n",
    "\n",
    "$$\\mathbf{N} =\n",
    "\\left( \\begin{array}{c|cc}\n",
    "~  y_{i} |~~\\hat{y}_i  &c_{~+}& c_{~-} \\\\\n",
    "\\hline\n",
    "{c}_{~+} &n_{11}& n_{12}&  \\\\\n",
    "{c}_{~-} &n_{21}& n_{22}&  \\\\\n",
    "\\end{array} \\right).$$\n",
    "\n",
    "Each entry of the matrix corresponds to the size of the intersection of the subsets $n_{ij} = |\\mathbf{R}_i \\cap \\mathbf{D}_j |$ for $i,j = \\{+,-\\}$. In the context of binary classification, each entry of the matrix is given a specific name:\n",
    "\n",
    "- **True Positives (TP)**: the number of points that the classifier correctly predicts as positive:\n",
    "  \n",
    "  $$\\text{TP} = n_{11} = |\\mathbf{R}_{~+} \\cap \\mathbf{D}_{~+} | = |\\{\\mathbf{x}_i|\\hat{y}_i = y_i = c_{~+}\\}|$$\n",
    "\n",
    "\n",
    "- **False Positives (FP)**:The number of points the classifier predicts to be positive, wich in fact belong to the negative class:\n",
    "\n",
    "  $$\\text{FP} = n_{12} = |\\mathbf{R}_{~+} \\cap \\mathbf{D}_{~-} | = |\\{\\mathbf{x}_i|\\hat{y}_i = c_{~+}~~\\text{and}~~ y_i = c_{~-}\\}|$$\n",
    " \n",
    "- **False Negatives (FN)**: The number of points the classifier predicts to be in the negative class, wich in fact belongs to the positive class:\n",
    "\n",
    "  $$\\text{FN} = n_{21} = |\\mathbf{R}_{~-} \\cap \\mathbf{D}_{~+} | = |\\{\\mathbf{x}_i|\\hat{y}_i = c_{~-}~~\\text{and}~~ y_i = c_{~+}\\}|$$\n",
    "\n",
    "- **True Negatives (TN)**: The number of points that the classifier correctly predicts as negative:\n",
    "\n",
    "  $$\\text{TN} = n_{22} = |\\mathbf{R}_{~-} \\cap \\mathbf{D}_{~-} | = |\\{\\mathbf{x}_i|\\hat{y}_i = y_i = c_{~-}\\}|$$\n",
    "\n",
    "\n",
    "**Global Measures**\n",
    "\n",
    "Global measures of the classifier performance\n",
    "\n",
    "- **Error rate**: The proportion of incorrect predictions:\n",
    "\n",
    "$$\\text{Error Rate} = \\frac{\\text{FP} + \\text{FN}}{n}$$\n",
    "\n",
    "- **Accuracy**: The proportion of correct predictions:\n",
    "\n",
    "$$\\text{Accuracy} = \\frac{\\text{TP} + \\text{TN}}{n}$$\n",
    "\n",
    "where $n$ is the total points in the validation dataset.\n",
    "\n",
    "**Class Specific Measures**\n",
    "\n",
    "- **Precision**: The ratio of correct predictions to all points predicted to belong to the positive or negative class\n",
    "\n",
    " $$\\text{prec}_i = \\frac{n_{ii}}{m_i} = \\left\\{ \\begin{array}{ll} \n",
    "\\frac{n_{11}}{m_{~+}} = \\frac{\\text{TP}}{\\text{TP}+\\text{FP}} \\\\\n",
    "\\\\\n",
    "\\\\\n",
    "\\frac{n_{22}}{m_{~-}} = \\frac{\\text{TN}}{\\text{TN}+\\text{FN}}\n",
    "\\end{array}\\right.$$\n",
    "\n",
    " where $m_i = |\\mathbf{R}_i|$ is the number of points predicted having class $c_i$\n",
    "\n",
    "- **Recall**: The proportion of correct predictions out of all points in the positive or negative class.\n",
    "  \n",
    "  - **True Positive Rate (Sensitivity)**: \n",
    "\n",
    "  $$\\text{recall}_{~+} = \\text{sensitivity}= \\frac{n_{11}}{n_{~+}} =\\frac{\\text{TP}}{\\text{TP}+\\text{FN}}  $$\n",
    "\n",
    "  where $n_{~+} = |\\mathbf{D}_{~+}|$  is the size of the positive class.\n",
    "\n",
    "  - **True Negative Rate (Specificity)**:\n",
    "\n",
    "  $$\\text{recall}_{~-} = \\text{specificity} = \\frac{n_{22}}{n_{~-}} = \\frac{\\text{TN}}{n_{~-}} = \\frac{\\text{TN}}{\\text{FP}+\\text{TN}} $$\n",
    "\n",
    "   where $n_{~-} = |\\mathbf{D}_{~-}|$ is the size of the negative class.\n",
    "\n",
    "- **$1 -$ Recall** : The ratio of incorrect predictions to all points in the positive or negative class.\n",
    "\n",
    "  - **False Negative Rate (FNR)**:\n",
    "    \n",
    "    $$1- \\text{sensitivity} = \\frac{n_{21}}{n_{~+}} =  \\frac{\\text{FN}}{\\text{TP}+\\text{FN}}$$\n",
    "    \n",
    "  - **False Positive Rate (FPR)**:\n",
    "\n",
    "    $$1- \\text{specificity} = \\frac{ n_{12} } {n_{~-}} =  \\frac{ \\text{FP} }{ \\text{FP}+\\text{TN} }$$"
   ]
  }
 ],
 "metadata": {
  "kernelspec": {
   "display_name": "Python 3",
   "language": "python",
   "name": "python3"
  },
  "language_info": {
   "codemirror_mode": {
    "name": "ipython",
    "version": 3
   },
   "file_extension": ".py",
   "mimetype": "text/x-python",
   "name": "python",
   "nbconvert_exporter": "python",
   "pygments_lexer": "ipython3",
   "version": "3.10.2"
  },
  "orig_nbformat": 4,
  "vscode": {
   "interpreter": {
    "hash": "0743c798041383927c03f3bae5eca888e94e4777f716cdd511cdff96fbdedc02"
   }
  }
 },
 "nbformat": 4,
 "nbformat_minor": 2
}
