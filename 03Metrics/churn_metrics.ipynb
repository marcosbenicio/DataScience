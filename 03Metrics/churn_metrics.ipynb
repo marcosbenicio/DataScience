{
 "cells": [
  {
   "cell_type": "code",
   "execution_count": 91,
   "metadata": {},
   "outputs": [],
   "source": [
    "import pandas as pd\n",
    "import numpy as np\n",
    "\n",
    "import seaborn as sns\n",
    "from matplotlib import pyplot as plt\n",
    "from sklearn.model_selection import train_test_split, KFold\n",
    "from sklearn.metrics import mutual_info_score, accuracy_score, roc_curve, auc, roc_auc_score\n",
    "from sklearn.feature_extraction import DictVectorizer\n",
    "from sklearn.linear_model import LogisticRegression"
   ]
  },
  {
   "cell_type": "code",
   "execution_count": 92,
   "metadata": {},
   "outputs": [],
   "source": [
    "def printest(args, value):\n",
    "    return print( \"{} : \\n {} \\n\".format(args, value) )"
   ]
  },
  {
   "attachments": {},
   "cell_type": "markdown",
   "metadata": {},
   "source": [
    "# Logistic Regression - data preparation and model training"
   ]
  },
  {
   "attachments": {},
   "cell_type": "markdown",
   "metadata": {},
   "source": [
    "Churn prediction is about identifying customers who are likely to cancel their contracts soon. If the company can do that, it can offer discounts on these services in an effort to keep the users. Here we use the dataset of churn prediction for a telecom company.\n",
    "\n",
    "- A value of 0 indicates that the customer did not churn (they stayed with the service).\n",
    "- A value of 1 indicates that the customer did churn (they left the service)."
   ]
  },
  {
   "cell_type": "code",
   "execution_count": 93,
   "metadata": {},
   "outputs": [],
   "source": [
    "df = pd.read_csv('Data/WA_Fn-UseC_-Telco-Customer-Churn.csv')\n",
    "\n",
    "# Convert 'TotalCharges' to numeric, replace non-numeric with NaN\n",
    "df['TotalCharges'] = pd.to_numeric(df.TotalCharges, errors='coerce')\n",
    "# Fill NaN values with zero\n",
    "df['TotalCharges'] = df['TotalCharges'].fillna(0)\n",
    "\n",
    "# lowering columns name and replace spaces by _\n",
    "df.columns  = df.columns.str.lower().str.replace(' ', '_')\n",
    "\n",
    "\n",
    "# boolean mask to select columns with object type (string)\n",
    "obj_mask = df.dtypes == 'object' \n",
    "obj_columns = list(df.dtypes[obj_mask].index)\n",
    "\n",
    "# lowering rows strings and replace spaces by _\n",
    "for col in obj_columns:\n",
    "    df[col] = df[col].str.lower().str.replace(' ', '_')\n",
    "\n",
    "# turn 'no' into 0 and 'yes' into 1\n",
    "df.churn = (df.churn == 'yes').astype(int)"
   ]
  },
  {
   "cell_type": "code",
   "execution_count": 94,
   "metadata": {},
   "outputs": [],
   "source": [
    "# split data in train, test, validation\n",
    "df_train_full, df_test = train_test_split(df, test_size=0.2, random_state=1)\n",
    "df_train, df_val = train_test_split(df_train_full, test_size=0.33, random_state=11)\n",
    "\n",
    "# save target values\n",
    "y_train = df_train['churn'].values\n",
    "y_val = df_val['churn'].values\n",
    "\n",
    "# take out the target values from the dataframe\n",
    "del df_train['churn']\n",
    "del df_val['churn']"
   ]
  },
  {
   "cell_type": "code",
   "execution_count": 95,
   "metadata": {},
   "outputs": [
    {
     "name": "stdout",
     "output_type": "stream",
     "text": [
      "categorical : \n",
      " ['gender', 'partner', 'dependents', 'phoneservice', 'multiplelines', 'internetservice', 'onlinesecurity', 'onlinebackup', 'deviceprotection', 'techsupport', 'streamingtv', 'streamingmovies', 'contract', 'paperlessbilling', 'paymentmethod', 'seniorcitizen'] \n",
      "\n",
      "numerical : \n",
      " ['tenure', 'monthlycharges', 'totalcharges'] \n",
      "\n"
     ]
    }
   ],
   "source": [
    "# All categorical columns except 'customerid'\n",
    "categorical_mask = df_train.dtypes == 'object'\n",
    "categorical = list(df_train.dtypes[categorical_mask].index)\n",
    "categorical.remove('customerid') \n",
    "\n",
    "# Manually add 'seniorcitizen' because it's an int boolean (0 or 1)\n",
    "categorical.append('seniorcitizen')\n",
    "printest('categorical', categorical)\n",
    "\n",
    "# All numerical columns except 'seniorcitizen' because it's an int boolean\n",
    "numerical_mask = df_train.dtypes != 'object'\n",
    "numerical = list(df_train.dtypes[numerical_mask].index)\n",
    "numerical.remove('seniorcitizen')\n",
    "printest('numerical', numerical)"
   ]
  },
  {
   "cell_type": "code",
   "execution_count": 96,
   "metadata": {},
   "outputs": [
    {
     "data": {
      "text/html": [
       "<style>#sk-container-id-3 {color: black;background-color: white;}#sk-container-id-3 pre{padding: 0;}#sk-container-id-3 div.sk-toggleable {background-color: white;}#sk-container-id-3 label.sk-toggleable__label {cursor: pointer;display: block;width: 100%;margin-bottom: 0;padding: 0.3em;box-sizing: border-box;text-align: center;}#sk-container-id-3 label.sk-toggleable__label-arrow:before {content: \"▸\";float: left;margin-right: 0.25em;color: #696969;}#sk-container-id-3 label.sk-toggleable__label-arrow:hover:before {color: black;}#sk-container-id-3 div.sk-estimator:hover label.sk-toggleable__label-arrow:before {color: black;}#sk-container-id-3 div.sk-toggleable__content {max-height: 0;max-width: 0;overflow: hidden;text-align: left;background-color: #f0f8ff;}#sk-container-id-3 div.sk-toggleable__content pre {margin: 0.2em;color: black;border-radius: 0.25em;background-color: #f0f8ff;}#sk-container-id-3 input.sk-toggleable__control:checked~div.sk-toggleable__content {max-height: 200px;max-width: 100%;overflow: auto;}#sk-container-id-3 input.sk-toggleable__control:checked~label.sk-toggleable__label-arrow:before {content: \"▾\";}#sk-container-id-3 div.sk-estimator input.sk-toggleable__control:checked~label.sk-toggleable__label {background-color: #d4ebff;}#sk-container-id-3 div.sk-label input.sk-toggleable__control:checked~label.sk-toggleable__label {background-color: #d4ebff;}#sk-container-id-3 input.sk-hidden--visually {border: 0;clip: rect(1px 1px 1px 1px);clip: rect(1px, 1px, 1px, 1px);height: 1px;margin: -1px;overflow: hidden;padding: 0;position: absolute;width: 1px;}#sk-container-id-3 div.sk-estimator {font-family: monospace;background-color: #f0f8ff;border: 1px dotted black;border-radius: 0.25em;box-sizing: border-box;margin-bottom: 0.5em;}#sk-container-id-3 div.sk-estimator:hover {background-color: #d4ebff;}#sk-container-id-3 div.sk-parallel-item::after {content: \"\";width: 100%;border-bottom: 1px solid gray;flex-grow: 1;}#sk-container-id-3 div.sk-label:hover label.sk-toggleable__label {background-color: #d4ebff;}#sk-container-id-3 div.sk-serial::before {content: \"\";position: absolute;border-left: 1px solid gray;box-sizing: border-box;top: 0;bottom: 0;left: 50%;z-index: 0;}#sk-container-id-3 div.sk-serial {display: flex;flex-direction: column;align-items: center;background-color: white;padding-right: 0.2em;padding-left: 0.2em;position: relative;}#sk-container-id-3 div.sk-item {position: relative;z-index: 1;}#sk-container-id-3 div.sk-parallel {display: flex;align-items: stretch;justify-content: center;background-color: white;position: relative;}#sk-container-id-3 div.sk-item::before, #sk-container-id-3 div.sk-parallel-item::before {content: \"\";position: absolute;border-left: 1px solid gray;box-sizing: border-box;top: 0;bottom: 0;left: 50%;z-index: -1;}#sk-container-id-3 div.sk-parallel-item {display: flex;flex-direction: column;z-index: 1;position: relative;background-color: white;}#sk-container-id-3 div.sk-parallel-item:first-child::after {align-self: flex-end;width: 50%;}#sk-container-id-3 div.sk-parallel-item:last-child::after {align-self: flex-start;width: 50%;}#sk-container-id-3 div.sk-parallel-item:only-child::after {width: 0;}#sk-container-id-3 div.sk-dashed-wrapped {border: 1px dashed gray;margin: 0 0.4em 0.5em 0.4em;box-sizing: border-box;padding-bottom: 0.4em;background-color: white;}#sk-container-id-3 div.sk-label label {font-family: monospace;font-weight: bold;display: inline-block;line-height: 1.2em;}#sk-container-id-3 div.sk-label-container {text-align: center;}#sk-container-id-3 div.sk-container {/* jupyter's `normalize.less` sets `[hidden] { display: none; }` but bootstrap.min.css set `[hidden] { display: none !important; }` so we also need the `!important` here to be able to override the default hidden behavior on the sphinx rendered scikit-learn.org. See: https://github.com/scikit-learn/scikit-learn/issues/21755 */display: inline-block !important;position: relative;}#sk-container-id-3 div.sk-text-repr-fallback {display: none;}</style><div id=\"sk-container-id-3\" class=\"sk-top-container\"><div class=\"sk-text-repr-fallback\"><pre>LogisticRegression(random_state=1, solver=&#x27;liblinear&#x27;)</pre><b>In a Jupyter environment, please rerun this cell to show the HTML representation or trust the notebook. <br />On GitHub, the HTML representation is unable to render, please try loading this page with nbviewer.org.</b></div><div class=\"sk-container\" hidden><div class=\"sk-item\"><div class=\"sk-estimator sk-toggleable\"><input class=\"sk-toggleable__control sk-hidden--visually\" id=\"sk-estimator-id-3\" type=\"checkbox\" checked><label for=\"sk-estimator-id-3\" class=\"sk-toggleable__label sk-toggleable__label-arrow\">LogisticRegression</label><div class=\"sk-toggleable__content\"><pre>LogisticRegression(random_state=1, solver=&#x27;liblinear&#x27;)</pre></div></div></div></div></div>"
      ],
      "text/plain": [
       "LogisticRegression(random_state=1, solver='liblinear')"
      ]
     },
     "execution_count": 96,
     "metadata": {},
     "output_type": "execute_result"
    }
   ],
   "source": [
    "# transform dataframe to dict\n",
    "train_dict = df_train[categorical + numerical].to_dict(orient='records')\n",
    "\n",
    "# One-hot encoding\n",
    "dv = DictVectorizer(sparse=False)\n",
    "dv.fit(train_dict)\n",
    "X_train = dv.transform(train_dict)\n",
    "\n",
    "# Model train for all relevant features\n",
    "model = LogisticRegression(solver='liblinear', random_state=1)\n",
    "model.fit(X_train, y_train)"
   ]
  },
  {
   "cell_type": "code",
   "execution_count": 97,
   "metadata": {},
   "outputs": [
    {
     "name": "stdout",
     "output_type": "stream",
     "text": [
      "Prob Not churn| Prob Churn : \n",
      " [[0.76508893 0.23491107]\n",
      " [0.7311339  0.2688661 ]\n",
      " [0.6805482  0.3194518 ]\n",
      " ...\n",
      " [0.94274725 0.05725275]\n",
      " [0.38476961 0.61523039]\n",
      " [0.93872737 0.06127263]] \n",
      "\n"
     ]
    }
   ],
   "source": [
    "# validate the model\n",
    "val_dict = df_val[categorical + numerical].to_dict(orient='records')\n",
    "X_val = dv.transform(val_dict)\n",
    "y_pred = model.predict_proba(X_val)\n",
    "printest('Prob Not churn| Prob Churn',y_pred)"
   ]
  },
  {
   "cell_type": "code",
   "execution_count": 98,
   "metadata": {},
   "outputs": [
    {
     "name": "stdout",
     "output_type": "stream",
     "text": [
      "Prob Not churn| Prob Churn : \n",
      " [[0.76508893 0.23491107]\n",
      " [0.7311339  0.2688661 ]\n",
      " [0.6805482  0.3194518 ]\n",
      " ...\n",
      " [0.94274725 0.05725275]\n",
      " [0.38476961 0.61523039]\n",
      " [0.93872737 0.06127263]] \n",
      "\n"
     ]
    }
   ],
   "source": [
    "# training the model for a subset of features\n",
    "small_subset = ['contract', 'tenure', 'totalcharges']\n",
    "train_dict_small = df_train[small_subset].to_dict(orient='records')\n",
    "dv_small = DictVectorizer(sparse=False)\n",
    "dv_small.fit(train_dict_small)\n",
    "\n",
    "X_small_train = dv_small.transform(train_dict_small)\n",
    "\n",
    "model_small = LogisticRegression(solver='liblinear', random_state=1)\n",
    "model_small.fit(X_small_train, y_train)\n",
    "\n",
    "val_dict_small = df_val[small_subset].to_dict(orient='records')\n",
    "X_small_val = dv_small.transform(val_dict_small)\n",
    "\n",
    "y_pred_small = model_small.predict_proba(X_small_val)\n",
    "printest('Prob Not churn| Prob Churn',y_pred)"
   ]
  },
  {
   "attachments": {},
   "cell_type": "markdown",
   "metadata": {},
   "source": [
    "# Metrics\n",
    "\n",
    "Evaluation metrics serve as a tool for quantifying the performance of a model. They function by assessing the model's predictions against the actual observed values. This comparison yields a measurement that indicates the model's predictive accuracy."
   ]
  },
  {
   "attachments": {},
   "cell_type": "markdown",
   "metadata": {},
   "source": [
    "# Classification accuracy"
   ]
  },
  {
   "attachments": {},
   "cell_type": "markdown",
   "metadata": {},
   "source": [
    "The accuracy of a binary classification model is determined by the proportion of predictions it correctly makes relative to the total number of predictions. In mathematical terms, this can be represented as:\n",
    "\n",
    "$$\\text{Accuracy} = \\frac{\\text{correct}}{\\text{total}} = \\frac{1491}{1860} = 80\\%$$\n",
    "\n",
    "This metric provides valuable insight into the model's performance. By tallying the instances where our model's predictions align with the actual results."
   ]
  },
  {
   "cell_type": "code",
   "execution_count": 99,
   "metadata": {},
   "outputs": [
    {
     "name": "stdout",
     "output_type": "stream",
     "text": [
      "Full Model Accuracy : \n",
      " 0.8016129032258065 \n",
      "\n"
     ]
    }
   ],
   "source": [
    "# calculate accuracy explicitly\n",
    "y_pred = model.predict_proba(X_val)[:, 1]\n",
    "# probability threshold\n",
    "churn = y_pred >= 0.5\n",
    "correct = (y_val == churn).sum()\n",
    "total = len(y_val)\n",
    "accuracy = correct/total\n",
    "printest('Full Model Accuracy', accuracy)"
   ]
  },
  {
   "cell_type": "code",
   "execution_count": 100,
   "metadata": {},
   "outputs": [
    {
     "name": "stdout",
     "output_type": "stream",
     "text": [
      "Small Model Accuracy : \n",
      " 0.7672043010752688 \n",
      "\n"
     ]
    }
   ],
   "source": [
    "# calculate accuracy explicitly\n",
    "y_pred_small = model_small.predict_proba(X_small_val)[:, 1]\n",
    "# probability threshold\n",
    "churn = y_pred_small >= 0.5\n",
    "correct = (y_val == churn).sum()\n",
    "total = len(y_val)\n",
    "accuracy = correct/total\n",
    "printest('Small Model Accuracy', accuracy)"
   ]
  },
  {
   "attachments": {},
   "cell_type": "markdown",
   "metadata": {},
   "source": [
    "In order to determine the optimal threshold, we can iteratively calculate the accuracy for a range of potential threshold values. This process allows us to assess the performance of our model at various decision boundaries, thereby enabling us to select the threshold that yields the highest accuracy."
   ]
  },
  {
   "cell_type": "code",
   "execution_count": 101,
   "metadata": {},
   "outputs": [
    {
     "data": {
      "text/html": [
       "<div>\n",
       "<style scoped>\n",
       "    .dataframe tbody tr th:only-of-type {\n",
       "        vertical-align: middle;\n",
       "    }\n",
       "\n",
       "    .dataframe tbody tr th {\n",
       "        vertical-align: top;\n",
       "    }\n",
       "\n",
       "    .dataframe thead th {\n",
       "        text-align: right;\n",
       "    }\n",
       "</style>\n",
       "<table border=\"1\" class=\"dataframe\">\n",
       "  <thead>\n",
       "    <tr style=\"text-align: right;\">\n",
       "      <th></th>\n",
       "      <th>accuracy</th>\n",
       "    </tr>\n",
       "    <tr>\n",
       "      <th>threshold</th>\n",
       "      <th></th>\n",
       "    </tr>\n",
       "  </thead>\n",
       "  <tbody>\n",
       "    <tr>\n",
       "      <th>0.00</th>\n",
       "      <td>0.261290</td>\n",
       "    </tr>\n",
       "    <tr>\n",
       "      <th>0.05</th>\n",
       "      <td>0.501075</td>\n",
       "    </tr>\n",
       "    <tr>\n",
       "      <th>0.10</th>\n",
       "      <td>0.594624</td>\n",
       "    </tr>\n",
       "    <tr>\n",
       "      <th>0.15</th>\n",
       "      <td>0.640323</td>\n",
       "    </tr>\n",
       "    <tr>\n",
       "      <th>0.20</th>\n",
       "      <td>0.689785</td>\n",
       "    </tr>\n",
       "    <tr>\n",
       "      <th>0.25</th>\n",
       "      <td>0.729570</td>\n",
       "    </tr>\n",
       "    <tr>\n",
       "      <th>0.30</th>\n",
       "      <td>0.754839</td>\n",
       "    </tr>\n",
       "    <tr>\n",
       "      <th>0.35</th>\n",
       "      <td>0.767204</td>\n",
       "    </tr>\n",
       "    <tr>\n",
       "      <th>0.40</th>\n",
       "      <td>0.781720</td>\n",
       "    </tr>\n",
       "    <tr>\n",
       "      <th>0.45</th>\n",
       "      <td>0.795161</td>\n",
       "    </tr>\n",
       "    <tr>\n",
       "      <th>0.50</th>\n",
       "      <td>0.801613</td>\n",
       "    </tr>\n",
       "    <tr>\n",
       "      <th>0.55</th>\n",
       "      <td>0.790323</td>\n",
       "    </tr>\n",
       "    <tr>\n",
       "      <th>0.60</th>\n",
       "      <td>0.789785</td>\n",
       "    </tr>\n",
       "    <tr>\n",
       "      <th>0.65</th>\n",
       "      <td>0.788172</td>\n",
       "    </tr>\n",
       "    <tr>\n",
       "      <th>0.70</th>\n",
       "      <td>0.773656</td>\n",
       "    </tr>\n",
       "    <tr>\n",
       "      <th>0.75</th>\n",
       "      <td>0.752151</td>\n",
       "    </tr>\n",
       "    <tr>\n",
       "      <th>0.80</th>\n",
       "      <td>0.741935</td>\n",
       "    </tr>\n",
       "    <tr>\n",
       "      <th>0.85</th>\n",
       "      <td>0.738710</td>\n",
       "    </tr>\n",
       "    <tr>\n",
       "      <th>0.90</th>\n",
       "      <td>0.738710</td>\n",
       "    </tr>\n",
       "    <tr>\n",
       "      <th>0.95</th>\n",
       "      <td>0.738710</td>\n",
       "    </tr>\n",
       "    <tr>\n",
       "      <th>1.00</th>\n",
       "      <td>0.738710</td>\n",
       "    </tr>\n",
       "  </tbody>\n",
       "</table>\n",
       "</div>"
      ],
      "text/plain": [
       "           accuracy\n",
       "threshold          \n",
       "0.00       0.261290\n",
       "0.05       0.501075\n",
       "0.10       0.594624\n",
       "0.15       0.640323\n",
       "0.20       0.689785\n",
       "0.25       0.729570\n",
       "0.30       0.754839\n",
       "0.35       0.767204\n",
       "0.40       0.781720\n",
       "0.45       0.795161\n",
       "0.50       0.801613\n",
       "0.55       0.790323\n",
       "0.60       0.789785\n",
       "0.65       0.788172\n",
       "0.70       0.773656\n",
       "0.75       0.752151\n",
       "0.80       0.741935\n",
       "0.85       0.738710\n",
       "0.90       0.738710\n",
       "0.95       0.738710\n",
       "1.00       0.738710"
      ]
     },
     "metadata": {},
     "output_type": "display_data"
    }
   ],
   "source": [
    "thresholds = np.linspace(0, 1, 21)\n",
    "\n",
    "accuracies = []\n",
    "\n",
    "for t in thresholds:\n",
    "    acc = accuracy_score(y_val, y_pred >= t)\n",
    "    accuracies.append(acc)\n",
    "    #print('%0.2f %0.3f' % (t, acc))\n",
    "\n",
    "# Create a dictionary\n",
    "data = {'threshold': thresholds, 'accuracy': accuracies}\n",
    "\n",
    "# Create DataFrame\n",
    "df_acc = pd.DataFrame(data)\n",
    "\n",
    "# Print DataFrame\n",
    "display(df_acc.set_index('threshold'))"
   ]
  },
  {
   "attachments": {},
   "cell_type": "markdown",
   "metadata": {},
   "source": [
    "As we see, using the threshold of 0.5 gives us the best accuracy. Typically, 0.5 is a good\n",
    "threshold value to start with. To make it more visual, we can use Matplotlib to create a plot that shows how accuracy changes depending on the threshold"
   ]
  },
  {
   "cell_type": "code",
   "execution_count": 102,
   "metadata": {},
   "outputs": [
    {
     "data": {
      "image/png": "[encoded data removed]",
      "text/plain": [
       "<Figure size 432x288 with 1 Axes>"
      ]
     },
     "metadata": {
      "needs_background": "light"
     },
     "output_type": "display_data"
    }
   ],
   "source": [
    "plt.figure(figsize=(6, 4))\n",
    "\n",
    "plt.plot(df_acc['threshold'].values, df_acc['accuracy'].values, color='black')\n",
    "\n",
    "plt.title('Threshold vs Accuracy')\n",
    "plt.xlabel('Threshold')\n",
    "plt.ylabel('Accuracy')\n",
    "\n",
    "plt.xticks(np.linspace(0, 1, 11))\n",
    "\n",
    "# plt.savefig('04_threshold_accuracy.svg')\n",
    "\n",
    "plt.show()"
   ]
  },
  {
   "attachments": {},
   "cell_type": "markdown",
   "metadata": {},
   "source": [
    "## Dummy baseline\n",
    "\n",
    "Establishing a baseline is an important step in evaluating the performance of our predictive models. For this purpose, we often use a dummy model — a simple construct which consistently predicts the same outcome, regardless of the input features. In our case, it consistently outputs 'False'. \n",
    "\n",
    "By comparing the performance of our complex models against this baseline, we gain a clear understanding of their incremental improvement in predictive accuracy. "
   ]
  },
  {
   "cell_type": "code",
   "execution_count": 103,
   "metadata": {},
   "outputs": [
    {
     "name": "stdout",
     "output_type": "stream",
     "text": [
      "Full Model Accuracy : \n",
      " 0.7672043010752688 \n",
      "\n",
      "Small Model Accuracy : \n",
      " 0.7672043010752688 \n",
      "\n",
      "Baseline accuracy : \n",
      " 0.7387096774193549 \n",
      "\n"
     ]
    }
   ],
   "source": [
    "# dummy model that outputs only False\n",
    "size_val = len(y_val)\n",
    "baseline = np.repeat(False, size_val)\n",
    "\n",
    "\n",
    "printest('Full Model Accuracy', accuracy)\n",
    "printest('Small Model Accuracy', accuracy)\n",
    "printest('Baseline accuracy', accuracy_score(baseline, y_val))"
   ]
  },
  {
   "attachments": {},
   "cell_type": "markdown",
   "metadata": {},
   "source": [
    "Observing the performance of our models, we notice that the smaller model surpasses the naive baseline by a marginal 2%, while the larger model achieves a slightly better improvement of 6%. According to accuracy metrics, our model only offers a marginal improvement over a rudimentary model that categorizes all customers as non-churning and makes no effort to retain them. \n",
    "\n",
    "This phenomenon often arises in scenarios where there is class imbalance, a condition wherein one class outnumbers the other. This imbalance is indeed apparent in our dataset, where 74% of customers didn't churn while only 26% did. For this we need another metric that validate the model."
   ]
  },
  {
   "attachments": {},
   "cell_type": "markdown",
   "metadata": {},
   "source": [
    "# Confusion Matrix and Measures\n"
   ]
  },
  {
   "attachments": {},
   "cell_type": "markdown",
   "metadata": {},
   "source": [
    "**Confusion Matrix for multiple classes**\n",
    "\n",
    "The accuracy is a global measure in that it does not explicitly consider the classes that contribute to the error. A more detailed understanding can be achieved by noting the agreement and disagreement for specific classes between the actual and predicted labels in the validation or test set. \n",
    "\n",
    "Consider a typical dataset for the validation points with multiple classes,\n",
    "$$\\mathbf{D} =\n",
    "\\left( \\begin{array}{c|cccc|c}\n",
    "~    &X_{0}&X_{1}&\\cdots & X_{d}  & Y\\\\\n",
    "\\hline\n",
    "\\mathbf{x}_{1} &1& x_{11}& \\cdots&x_{1d}&y_1 \\\\\n",
    "\\vdots&\\vdots&\\vdots&\\ddots&\\vdots&\\vdots\\\\\n",
    "\\mathbf{x}_{n}&1&x_{n1}&\\cdots&x_{nd}&y_n\n",
    "\\end{array} \\right).$$\n",
    "\n",
    "The target values, denoted as $\\mathbf{Y} = (y_1, \\cdots, y_i, \\cdots, y_n)$, are not binary; instead, each $y_i \\in \\{c_1, \\cdots, c_k\\}$ represents one of $k$ class labels. Here, $\\mathcal{D}= \\{\\mathbf{D}_1,\\mathbf{D}_2, \\cdots,\\mathbf{D}_k\\}$ denotes the division of validation data according to their true class labels $y$.\n",
    "\n",
    "The $j^{th}$ split for the target values $y_i$ on the validation set is defined as:\n",
    "\n",
    "$$\\mathbf{D}_j = \\{\\mathbf{x}_i | y_i = c_j\\}$$\n",
    "\n",
    "with $n_i = |\\mathbf{D}_i|$ as the count of the true class $c_i$ within the validation set.\n",
    "\n",
    "Another division is conducted based on the predicted values from the validation set, forming $\\mathcal{R} = \\{\\mathbf{R}_1, \\mathbf{R}_2, \\cdots, \\mathbf{R}_k\\}$. This denotes that the $j^{th}$ partition for the predicted target value $\\hat{y}_i$ on the validation set is:\n",
    "\n",
    "$$\\mathbf{R}_j = \\{\\mathbf{x}_i | \\hat{y}_i = c_j\\}$$\n",
    "\n",
    "and $m_i = |\\mathbf{R}_i|$ represents the quantity of the predicted class $c_j$.\n",
    "\n",
    "The divisions $\\mathcal{R}$ and $\\mathcal{D}$ yield a $k \\times k$ matrix $\\mathbf{N}$, better known as a confusion matrix. This matrix illustrates the intersections of each partition from the sets $\\mathcal{R}$ and $\\mathcal{D}$:\n",
    "\n",
    "$$\\mathbf{N}(i,j) = n_{ij} = |\\mathbf{R}_i \\cap \\mathbf{D}_j |  = |\\{\\mathbf{x}_a \\in \\mathbf{D}| \\hat{y}_a = c_j ~~\\text{and} ~~ y_a = c_i \\}|$$\n",
    "\n",
    "For $1\\leq i$, $j \\leq k$, $n_{ij}$ represents the count of instances with a predicted class of $c_i$ and an actual label of $c_j$. These matrix values account for the total instances in each intersection. The matrix is presented as:\n",
    "\n",
    "$$\\mathbf{N} =\n",
    "\\left( \\begin{array}{c|cccc}\n",
    "~  y_{i} |~~\\hat{y}_i  &c_{1}&c_{2}&\\cdots & c_{k} \\\\\n",
    "\\hline\n",
    "{c}_{1} &n_{11}& n_{12}& \\cdots&n_{1k} \\\\\n",
    "{c}_{2} &n_{21}& n_{22}& \\cdots&n_{2k} \\\\\n",
    "\\vdots&\\vdots&\\vdots&\\ddots&\\vdots&\\\\\n",
    "c_{k}&n_{k1}&n_{k2}&\\cdots&n_{kk}\n",
    "\\end{array} \\right).$$\n",
    "\n",
    "The diagonal elements, $n_{ii} = |\\mathbf{R}_i \\cap \\mathbf{D}_i|$ (for $1\\leq i \\leq k$), denote instances where the classifier correctly identifies the true label $c_i$. The size of $\\mathbf{R}_i$ (the set of instances predicted as class $c_i$) and $\\mathbf{D}i$ (the set of instances that are truly class $c_i$) and their relationship with $n_{ii}$ can provide further insights:\n",
    "\n",
    "- If the size of $\\mathbf{R}_i$ is equal to the size of $\\mathbf{D}_i$, and $n_{ii}$ equals to the size of these sets, then the classifier has made perfect predictions for class $c_i$.\n",
    "\n",
    "- If the size of $\\mathbf{R}_i$ is larger than the size of $\\mathbf{D}_i$, it means that the classifier has predicted more instances as class $c_i$ than there actually are.\n",
    "\n",
    "- If the size of $\\mathbf{R}_i$ is smaller than the size of $\\mathbf{D}_i$, it means that the classifier has predicted fewer instances as class $c_i$ than there actually are.\n",
    "\n",
    "The off-diagonal elements, $n_{ij} = |\\mathbf{R}_i \\cap \\mathbf{D}_j|$ where $i \\neq j$, represent instances where the classifier's predictions and the true labels diverge. If $n_{ij}$ is non-zero, it signifies that there are instances where the classifier predicted class $c_i$ while the true class was $c_j$, indicating a misclassification error.\n",
    "\n",
    "- If the size of $\\mathbf{R}_i$ is larger than the size of $\\mathbf{D}_j$, it suggests that the classifier has over-predicted instances as class $c_i$ when they are actually class $c_j$. \n",
    "\n",
    "- If the size of $\\mathbf{R}_i$ is smaller than the size of $\\mathbf{D}_j$, it implies that the classifier has under-predicted instances as class $c_i$ when they are actually class $c_j$. \n",
    "\n",
    "To measure the quality of the classifier, we can calculate rates with respect to the sizes of each subset and their intersection:\n",
    "\n",
    "**Accuracy/Precision**\n",
    "\n",
    "The precision for a specific class $c_i$ is defined as the proportion of accurate predictions out of all points predicted to belong to class $c_i$:\n",
    "\n",
    "$$\\text{acc}_i = \\text{prec}_i= \\frac{|\\mathbf{R}_i \\cap \\mathbf{D}_i | }{|\\mathbf{R}_i|}  = \\frac{n_{ii}}{m_i}$$\n",
    "\n",
    "Here, $m_i$ is the total number of predictions for class $c_i$, and $n_{ii}$ represents instances where the classifier correctly identifies the true label $c_i$. A high precision for class $c_i$ indicates a more effective classifier.\n",
    "\n",
    "**Covarage/Recall**\n",
    "\n",
    "Recall, also known as coverage, for class $c_i$ is determined by the ratio of correct predictions to all points actually in class $c_i$:\n",
    "\n",
    "$$\\text{coverage}_i= \\text{recall}_i = \\frac{|\\mathbf{R}_i \\cap \\mathbf{D}_i | }{|\\mathbf{D}_i|} =  \\frac{n_{ii}}{n_i}$$\n",
    "\n",
    "Here, $n_i$ denotes the number of instances in class $c_i$. A high recall for class $c_i$ implies a more capable classifier.\n",
    "\n",
    "**F-Measures**\n",
    "\n",
    "Precision and recall often present a trade-off when assessing classifier performance. The F-measure seeks to balance these values by calculating their harmonic mean for class $c_i$:\n",
    "\n",
    "- If $\\text{recall}_i = 1$, the classifier predicts all validation points as belonging to class $c_i$. However, this will usually result in a low precision $\\text{prec}_i$.\n",
    "\n",
    "- If $\\text{prec}_i$ is very high because the classifier predicts only a few points as $c_i$, the recall $\\text{recall}_i$ is likely to be low.\n",
    "\n",
    "The F-measure seeks to harmonize the precision and recall values by calculating their harmonic mean for class $c_i$:\n",
    "\n",
    "$$F_i = \\frac{2}{\\frac{1}{\\text{prec}_i} + \\frac{1}{\\text{recall}_i}} = \\frac{2\\text{prec}_i \\text{recall}_i}{\\text{prec}_i + \\text{recall}_i} = \\frac{2n_{ii}}{n_i + m_i}$$\n",
    "\n",
    "The higher the $F_i$ value, the more effective the classifier for the specific class.\n",
    "\n",
    "The overall F- measure for the classifier is the mean of the class-specific values:\n",
    "\n",
    "$$F = \\frac{1}{k}\\sum^r_{i=1}F_i$$\n",
    "\n",
    "For perfect classifier, the maximum value of F measure is 1.\n"
   ]
  },
  {
   "attachments": {},
   "cell_type": "markdown",
   "metadata": {},
   "source": [
    "**Confusion Matrix for Binary classes**\n",
    "\n",
    "After considering a general case of multiple classes, we now turn our focus to the specific instance of binary classification. In such a scenario, where $k = 2$, we designate $c_0 = c_{~-}$ as the negative class and $c_1 = c_{~+}$ as the positive class. The target values are represented as $\\mathbf{Y} = (c_{~-}, c_{~+})$. Consequently, the sets of true values are denoted as $\\mathcal{D} = \\{\\mathbf{D}_{~-}, \\mathbf{D}_{~+}\\}$, and the predicted values are indicated as $\\mathcal{R} = \\{\\mathbf{R}_{~-}, \\mathbf{R}_{~+}\\} $. The divisions $\\mathcal{R}$ and $\\mathcal{D}$ form a $2 \\times 2$ matrix, as presented below:\n",
    "\n",
    "$$\\mathbf{N} =\n",
    "\\left( \\begin{array}{c|cc}\n",
    "~  y_{i} |~~\\hat{y}_i  &c_{~-}& c_{~+} \\\\\n",
    "\\hline\n",
    "{c}_{~-} &n_{00}& n_{01}&  \\\\\n",
    "{c}_{~+} &n_{10}& n_{11}&  \\\\\n",
    "\\end{array} \\right).$$\n",
    "\n",
    "Each entry of the matrix corresponds to the size of the intersection of the subsets $n_{ij} = |\\mathbf{R}_i \\cap \\mathbf{D}_j |$ for $i,j = \\{-,+\\} = \\{0, 1\\}$. In the context of binary classification, each entry of the matrix is given a specific name:\n",
    "\n",
    "\n",
    "- **True Negatives (TN)**: The number of points that the classifier correctly predicts as negative:\n",
    "\n",
    "  $$\\text{TN} = n_{00} = |\\mathbf{R}_{~-} \\cap \\mathbf{D}_{~-} | = |\\{\\mathbf{x}_i|\\hat{y}_i = y_i = c_{~-}\\}|$$\n",
    "\n",
    "- **False Negatives (FN)**: The number of points the classifier predicts to be in the negative class, wich in fact belongs to the positive class: \n",
    "\n",
    "  $$\\text{FN} = n_{10} = |\\mathbf{R}_{~-} \\cap \\mathbf{D}_{~+} | = |\\{\\mathbf{x}_i|\\hat{y}_i = c_{~-}~~\\text{and}~~ y_i = c_{~+}\\}|$$\n",
    "\n",
    "- **False Positives (FP)**:The number of points the classifier predicts to be positive, wich in fact belong to the negative class:\n",
    "\n",
    "  $$\\text{FP} = n_{01} = |\\mathbf{R}_{~+} \\cap \\mathbf{D}_{~-} | = |\\{\\mathbf{x}_i|\\hat{y}_i = c_{~+}~~\\text{and}~~ y_i = c_{~-}\\}|$$\n",
    " \n",
    "\n",
    "\n",
    "- **True Positives (TP)**: the number of points that the classifier correctly predicts as positive:\n",
    "  \n",
    "  $$\\text{TP} = n_{11} = |\\mathbf{R}_{~+} \\cap \\mathbf{D}_{~+} | = |\\{\\mathbf{x}_i|\\hat{y}_i = y_i = c_{~+}\\}|$$\n",
    "As an example, let's consider a dataset of customers and their 'churn' status. Here, $c_{~-}$ represents no churn and $c_{~+}$ indicates churn. Using a validation dataset, we can distribute all customers across the categories defined above.\n",
    "\n",
    "<center><img src = \"Images/sets_confusion_matrix.png\" width=\"500\" height=\"400\"/></center>\n",
    "\n",
    "- **True Positives (TP)**: \"churn\" events correctly predicted as \"churn\".\n",
    "- **True Negatives (TN)**: \"not churn\" events correctly predicted as \"not churn\".\n",
    "- **False Positives (FP)**: \"not churn\" events incorrectly predicted as \"churn\".\n",
    "- **False Negatives (FN)**: \"churn\" events incorrectly predicted as \"not churn\".\n",
    "\n",
    "\n",
    "**Global Measures**\n",
    "\n",
    "Global measures of the classifier performance\n",
    "\n",
    "- **Error rate**: The proportion of incorrect predictions:\n",
    "\n",
    "$$\\text{Error Rate} = \\frac{\\text{FP} + \\text{FN}}{n}$$\n",
    "\n",
    "- **Accuracy**: The proportion of correct predictions:\n",
    "\n",
    "$$\\text{Accuracy} = \\frac{\\text{TP} + \\text{TN}}{n}$$\n",
    "\n",
    "where $n$ is the total points in the validation dataset.\n",
    "\n",
    "**Class Specific Measures**\n",
    "\n",
    "- **Precision**: The ratio of correct predictions to all points predicted to belong to the positive or negative class\n",
    "\n",
    " $$\\text{prec}_i = \\frac{n_{ii}}{m_i} = \\left\\{ \\begin{array}{ll} \n",
    "\\frac{n_{00}}{m_{~-}} = \\frac{\\text{TN}}{\\text{TN}+\\text{FN}} \\\\\n",
    "\\\\\n",
    "\\\\\n",
    "\\frac{n_{11}}{m_{~+}} = \\frac{\\text{TP}}{\\text{TP}+\\text{FP}}\n",
    "\\end{array}\\right.$$\n",
    "\n",
    " where $m_i = |\\mathbf{R}_i|$ is the size of the set for predicted class $c_i$\n",
    "\n",
    "- **Recall**: The ratio of correct predictions out of all points in the positive or negative class.\n",
    "  \n",
    "  - **True Negative Rate (Specificity)**: \n",
    "\n",
    "  $$\\text{recall}_{~-} = \\text{specificity}= \\frac{n_{00}}{n_{~-}} =\\frac{\\text{TN}}{\\text{TN} +\\text{FP}}  $$\n",
    "\n",
    "   where $n_{~-} = |\\mathbf{D}_{~-}| = \\text{TN} +\\text{FP}$ is the size of the set for true negative class.\n",
    "\n",
    "  - **True Positive Rate (Sensitivity)**:\n",
    "\n",
    "  $$\\text{recall}_{~+} = \\text{sensitivity} = \\frac{n_{11}}{n_{~+}}  = \\frac{\\text{TP}}{\\text{TP} +\\text{FN}} $$\n",
    "\n",
    "  where $n_{~+} = |\\mathbf{D}_{~+}| = \\text{TP} +\\text{FN}$  is the size of the set for true positive class.\n",
    "\n",
    "- **$1 -$ Recall** : The ratio of incorrect predictions to all points in the positive or negative class.\n",
    "\n",
    "  - **False Negative Rate (FNR)**:\n",
    "    \n",
    "    $$1- \\text{sensitivity} = \\frac{n_{10}}{n_{~+}} =  \\frac{\\text{FN}}{\\text{TP} +\\text{FN}}$$\n",
    "    \n",
    "  - **False Positive Rate (FPR)**:\n",
    "\n",
    "    $$1- \\text{specificity} = \\frac{ n_{01} } {n_{~-}} =  \\frac{ \\text{FP} }{\\text{TN} +\\text{FP} }$$\n",
    "\n",
    "\n",
    "Now let's translate all these to python code:"
   ]
  },
  {
   "cell_type": "code",
   "execution_count": 104,
   "metadata": {},
   "outputs": [
    {
     "name": "stdout",
     "output_type": "stream",
     "text": [
      "Confusion matrix : \n",
      " [[1202  172]\n",
      " [ 197  289]] \n",
      "\n",
      "Confusion matrix % : \n",
      " [[0.646 0.092]\n",
      " [0.106 0.155]] \n",
      "\n"
     ]
    }
   ],
   "source": [
    "# & stands as the intersection of the subsets\n",
    "predict_churn = (y_pred >= 0.5)\n",
    "predict_no_churn = (y_pred < 0.5)\n",
    "actual_churn = (y_val == 1)\n",
    "actual_no_churn = (y_val == 0)\n",
    "\n",
    "true_positive = (predict_churn & actual_churn).sum()\n",
    "false_positive = (predict_churn & actual_no_churn).sum()\n",
    "false_negative = (predict_no_churn & actual_churn).sum()\n",
    "true_negative = (predict_no_churn  & actual_no_churn).sum()\n",
    "\n",
    "confusion_matrix = np.array(\n",
    "     # predict neg    pos\n",
    "    [[true_negative, false_positive], # actual neg\n",
    "     [false_negative, true_positive]]) # actual pos\n",
    "\n",
    "printest('Confusion matrix', confusion_matrix)\n",
    "\n",
    "printest('Confusion matrix %', (confusion_matrix/confusion_matrix.sum()).round(3))"
   ]
  },
  {
   "attachments": {},
   "cell_type": "markdown",
   "metadata": {},
   "source": [
    "Our model performs reasonably well in predicting negative outcomes, correctly identifying them 65% of the time. However, there are still areas for improvement, as some errors do occur. The model incorrectly predicts positive outcomes 9% of the time and also misses positive outcomes 11% of the time.\n",
    "\n",
    "| | Predicted False| Predicted True|\n",
    "|---| --- | --- | \n",
    "|Actual False| 1202 (65%)  | 172 (9%)|\n",
    "|Actual True| 197 (11%) | 289 (15%)|\n",
    "\n",
    "As we can see, the model could benefit from further refinement to reduce the number of false predictions and increase its overall accuracy. The values from the confusion table serve as the basis for many other evaluation metrics. For example, we can calculate accuracy as we did before:\n",
    "\n",
    "$$\\text{accuracy} = \\frac{(\\text{TN} + \\text{TP})}{n}=\\frac{(\\text{TN} + \\text{TP})}{\\text{TN} + \\text{TP} + \\text{FN} + \\text{FP}} = \\frac{1491}{1860} = 80\\%$$\n",
    "\n",
    "**Reminder**: \n",
    "\n",
    "In binary classification problems, \"positive\" refers to the occurrence of the event, behavior, or characteristic we are interested in, while \"negative\" refers to the non-occurrence. This doesn't necessarily correspond to the numeric values 1 and 0.\n",
    "\n",
    "In the churn dataset case, classifying customers as \"churn\" (1) or \"not churn\" (0), we consider a \"churn\" event as \"positive\" because it's the outcome we're specifically interested in detecting. Hence, \"positive\" refers to \"churn\" and \"negative\" refers to \"not churn\"."
   ]
  },
  {
   "attachments": {},
   "cell_type": "markdown",
   "metadata": {},
   "source": [
    "## Precision and recall"
   ]
  },
  {
   "attachments": {},
   "cell_type": "markdown",
   "metadata": {},
   "source": [
    "Global metrics, like accuracy can be misleading when dealing with imbalanced\n",
    "datasets such as ours. Both precision and recall are calculated from the values of the confusion table. They both help us understand the quality of the model in cases of class imbalance. Remember:\n",
    "\n",
    "- **Precision**: Ratio of correct predictions out of all points that are predicted to belong to a class\n",
    "  \n",
    " $$\\text{prec}_i = \\frac{n_{ii}}{m_i} = \\left\\{ \\begin{array}{ll} \n",
    "\\frac{n_{00}}{m_{~-}} = \\frac{\\text{TN}}{\\text{TN}+\\text{FN}} \\\\\n",
    "\\\\\n",
    "\\\\\n",
    "\\frac{n_{11}}{m_{~+}} = \\frac{\\text{TP}}{\\text{TP}+\\text{FP}}\n",
    "\\end{array}\\right.$$\n",
    "\n",
    "where $m_i$ represents the total number of points that are predicted to belong to class $c_i$.\n",
    "\n",
    "- **Recall**: Ratio of correct predictions out of all points that actually belong to a class.\n",
    "\n",
    " $$\\text{recall}_i = \\frac{n_{ii}}{n_i} = \\left\\{ \\begin{array}{ll} \n",
    "\\frac{n_{00}}{n_{~-}} = \\frac{\\text{TN}}{\\text{TN}+\\text{FP}} \\\\\n",
    "\\\\\n",
    "\\\\\n",
    "\\frac{n_{11}}{n_{~+}} = \\frac{\\text{TP}}{\\text{TP}+\\text{FN}}\n",
    "\\end{array}\\right.$$\n",
    "\n",
    "where $n_i$ the total number of points that actually belong to class $c_i$."
   ]
  },
  {
   "cell_type": "code",
   "execution_count": 105,
   "metadata": {},
   "outputs": [
    {
     "name": "stdout",
     "output_type": "stream",
     "text": [
      "precision TP : \n",
      " 0.627 \n",
      "\n",
      "recall TP : \n",
      " 0.595 \n",
      "\n"
     ]
    }
   ],
   "source": [
    "# For true positive (churn)\n",
    "\n",
    "prec_tp = true_positive/(true_positive + false_positive)\n",
    "recall_tp = true_positive/(true_positive + false_negative)\n",
    "\n",
    "\n",
    "printest('precision TP',prec_tp.round(3) )\n",
    "printest('recall TP',recall_tp.round(3) )\n"
   ]
  },
  {
   "attachments": {},
   "cell_type": "markdown",
   "metadata": {},
   "source": [
    "Precision and recall are valuable metrics for understanding the effectiveness of our promotional messages.  Looking at the metrics in the table below:\n",
    "\n",
    "| Metrics | True Positive (TP) | \n",
    "| --- | --- |\n",
    "| Precision | 62% |\n",
    "| Recall | 59% | \n",
    " \n",
    "\n",
    "we can interpret them as follows:\n",
    "\n",
    "- **Precision (TP)**: Refers to the proportion of predicted positive instances that were correctly identified. In this case, a precision of 62% means that 62% of the customers we predicted would churn actually did churn, while the remaining 38% (false positives) did not churn despite our predictions.\n",
    "\n",
    "- **Recall (TP)**:  Refers to the proportion of actual positive instances that were correctly identified. Here, a recall of 59% means we correctly identified 59% of all customers who did churn. However, we missed 41% of customers who actually churned because our model predicted they would not churn (false negatives).\n",
    "\n",
    "In most cases, especially with imbalanced datasets, the primary focus is on the minority class, in this case, the customers who are churning. Our primary goal is to identify customers who will churn (True Positives) and **minimize the false negatives and false positives**. Hence, precision and recall for the True Positive class are the most commonly used metrics in such scenarios. "
   ]
  },
  {
   "attachments": {},
   "cell_type": "markdown",
   "metadata": {},
   "source": [
    "# ROC curve and AUC score"
   ]
  },
  {
   "attachments": {},
   "cell_type": "markdown",
   "metadata": {},
   "source": [
    "**ROC Curve**\n",
    "\n",
    "The Receiver Operating Characteristic (ROC) curve is a graphical representation of the performance of a binary classifier as the decision threshold is varied. Traditionally, we utilize a threshold of $t = 0.5$, as we did until now, but the ROC curve enables us to visualize the performance across all possible thresholds.\n",
    "\n",
    "In our churn prediction model, $P(Y|\\mathbf{x}_i) < t$ is the predicted probability of a customer not churning, whereas $P(Y|\\mathbf{x}_i) \\geq t$ is the predicted probability of a customer churning. Here, $t$ represents the different thresholds that we will examine.\n",
    "\n",
    "The ROC curve represents the True Positive Rate (TPR) or sensitivity (y-axis) against the False Positive Rate (FPR) or 1-specificity (x-axis) as the decision threshold varies. Each point on the ROC curve corresponds to a unique pair of TPR and FPR values associated with a specific decision threshold.\n",
    "\n",
    "For each distinctive score, we plot a point with the coordinates:\n",
    "\n",
    "$$(FPR, TPR) = (\\frac{ n_{01} } {n_{~-}},\\frac{n_{11}}{n_{~+}})$$\n",
    "\n",
    "Remember that: \n",
    "    \n",
    "  - **False Positive Rate (FPR)**: Ratio of actual negative instances (i.e., customers who not churn) that are incorrectly identified as positive (i.e., predicted to churn)\n",
    "\n",
    "    $$\\text{FPR} = \\frac{ n_{01} } {n_{~-}} =  \\frac{ \\text{FP} }{\\text{TN}+\\text{FP} }$$ \n",
    "  \n",
    "  - **True Positive Rate (Sensitivity)**: Ratio of actual positive instances (i.e., customers who churned) that are correctly identified as such.\n",
    "\n",
    "  $$ \\text{TPR} = \\frac{n_{11}}{n_{~+}}  = \\frac{\\text{TP}}{\\text{TP} +\\text{FN}} $$\n",
    "\n",
    "**AUC Score**\n",
    "\n",
    "The Area Under the Curve (AUC) is a metric that captures the performance of a binary classifier, as illustrated by the Receiver Operating Characteristic (ROC) curve.\n",
    "\n",
    "In our churn dataset scenario:\n",
    "\n",
    "- If the classifier perfect predicts (i.e., every prediction matches the actual outcome), the ROC curve will stretch to the plot's top left corner, given an AUC score of 1. This condition also corresponds to an ideal situation where there's no overlap between the scores for the two classes, indicating perfect discrimination.\n",
    "\n",
    "- On the other hand, if a classifier cannot discriminate between the classes at all (i.e., it identifies equal numbers of false positives and true positives across all thresholds), the ROC curve will form a 45-degree diagonal line on the plot, which means the AUC is 0.5, an indication of random guessing.\n",
    "\n",
    "The advantage of the AUC-ROC metric is the reliable measure of the model's performance, regardless of whether the dataset is balanced or imbalanced.\n"
   ]
  },
  {
   "attachments": {},
   "cell_type": "markdown",
   "metadata": {},
   "source": [
    "**TPR and FPR**\n",
    "\n",
    "We're going to take a closer look at how the True Positive Ratio (TPR) and the False Positive Ratio (FPR) change as we adjust our decision thresholds. We'll do this by comparing three different models: our real model, a random one, and an ideal one. By contrasting these models, we can gain a clearer understanding of TPR and FPR. So, let's dive in and see how these ratios work across these different scenarios."
   ]
  },
  {
   "attachments": {},
   "cell_type": "markdown",
   "metadata": {},
   "source": [
    "**Actual Model**"
   ]
  },
  {
   "cell_type": "code",
   "execution_count": 106,
   "metadata": {},
   "outputs": [],
   "source": [
    "def tpr_fpr_dataframe(y_val, y_pred):\n",
    "    scores = []\n",
    "\n",
    "    thresholds = np.linspace(0, 1, 101)\n",
    "\n",
    "    for t in thresholds:\n",
    "        tp = ((y_pred >= t) & (y_val == 1)).sum()\n",
    "        fp = ((y_pred >= t) & (y_val == 0)).sum()\n",
    "        fn = ((y_pred < t) & (y_val == 1)).sum()\n",
    "        tn = ((y_pred < t) & (y_val == 0)).sum()\n",
    "\n",
    "        scores.append((t, tp, fp, fn, tn))\n",
    "\n",
    "    df_scores = pd.DataFrame(scores)\n",
    "    df_scores.columns = ['threshold', 'tp', 'fp', 'fn', 'tn']\n",
    "\n",
    "    df_scores['tpr'] = df_scores.tp / (df_scores.tp + df_scores.fn)\n",
    "    df_scores['fpr'] = df_scores.fp / (df_scores.fp + df_scores.tn)\n",
    "\n",
    "    return df_scores"
   ]
  },
  {
   "cell_type": "code",
   "execution_count": 107,
   "metadata": {},
   "outputs": [
    {
     "data": {
      "text/html": [
       "<div>\n",
       "<style scoped>\n",
       "    .dataframe tbody tr th:only-of-type {\n",
       "        vertical-align: middle;\n",
       "    }\n",
       "\n",
       "    .dataframe tbody tr th {\n",
       "        vertical-align: top;\n",
       "    }\n",
       "\n",
       "    .dataframe thead th {\n",
       "        text-align: right;\n",
       "    }\n",
       "</style>\n",
       "<table border=\"1\" class=\"dataframe\">\n",
       "  <thead>\n",
       "    <tr style=\"text-align: right;\">\n",
       "      <th></th>\n",
       "      <th>threshold</th>\n",
       "      <th>tp</th>\n",
       "      <th>fp</th>\n",
       "      <th>fn</th>\n",
       "      <th>tn</th>\n",
       "      <th>tpr</th>\n",
       "      <th>fpr</th>\n",
       "    </tr>\n",
       "  </thead>\n",
       "  <tbody>\n",
       "    <tr>\n",
       "      <th>0</th>\n",
       "      <td>0.00</td>\n",
       "      <td>486</td>\n",
       "      <td>1374</td>\n",
       "      <td>0</td>\n",
       "      <td>0</td>\n",
       "      <td>1.000000</td>\n",
       "      <td>1.000000</td>\n",
       "    </tr>\n",
       "    <tr>\n",
       "      <th>1</th>\n",
       "      <td>0.01</td>\n",
       "      <td>483</td>\n",
       "      <td>1190</td>\n",
       "      <td>3</td>\n",
       "      <td>184</td>\n",
       "      <td>0.993827</td>\n",
       "      <td>0.866084</td>\n",
       "    </tr>\n",
       "    <tr>\n",
       "      <th>2</th>\n",
       "      <td>0.02</td>\n",
       "      <td>481</td>\n",
       "      <td>1074</td>\n",
       "      <td>5</td>\n",
       "      <td>300</td>\n",
       "      <td>0.989712</td>\n",
       "      <td>0.781659</td>\n",
       "    </tr>\n",
       "    <tr>\n",
       "      <th>3</th>\n",
       "      <td>0.03</td>\n",
       "      <td>478</td>\n",
       "      <td>1011</td>\n",
       "      <td>8</td>\n",
       "      <td>363</td>\n",
       "      <td>0.983539</td>\n",
       "      <td>0.735808</td>\n",
       "    </tr>\n",
       "    <tr>\n",
       "      <th>4</th>\n",
       "      <td>0.04</td>\n",
       "      <td>478</td>\n",
       "      <td>970</td>\n",
       "      <td>8</td>\n",
       "      <td>404</td>\n",
       "      <td>0.983539</td>\n",
       "      <td>0.705968</td>\n",
       "    </tr>\n",
       "  </tbody>\n",
       "</table>\n",
       "</div>"
      ],
      "text/plain": [
       "   threshold   tp    fp  fn   tn       tpr       fpr\n",
       "0       0.00  486  1374   0    0  1.000000  1.000000\n",
       "1       0.01  483  1190   3  184  0.993827  0.866084\n",
       "2       0.02  481  1074   5  300  0.989712  0.781659\n",
       "3       0.03  478  1011   8  363  0.983539  0.735808\n",
       "4       0.04  478   970   8  404  0.983539  0.705968"
      ]
     },
     "metadata": {},
     "output_type": "display_data"
    }
   ],
   "source": [
    "df_scores = tpr_fpr_dataframe(y_val, y_pred)\n",
    "display(df_scores.head())"
   ]
  },
  {
   "cell_type": "code",
   "execution_count": 108,
   "metadata": {},
   "outputs": [
    {
     "data": {
      "image/png": "[encoded data removed]",
      "text/plain": [
       "<Figure size 432x288 with 1 Axes>"
      ]
     },
     "metadata": {
      "needs_background": "light"
     },
     "output_type": "display_data"
    }
   ],
   "source": [
    "plt.figure(figsize=(6, 4))\n",
    "\n",
    "# plot true positive ratio\n",
    "plt.plot(df_scores.threshold, df_scores.tpr, color='black', linestyle='solid', label='TPR')\n",
    "\n",
    "# plot false positive ratio\n",
    "plt.plot(df_scores.threshold, df_scores.fpr, color='black', linestyle='dashed', label='FPR')\n",
    "plt.legend()\n",
    "\n",
    "plt.xticks(np.linspace(0, 1, 11))\n",
    "plt.yticks(np.linspace(0, 1, 11))\n",
    "\n",
    "plt.xlabel('Thresholds')\n",
    "plt.title('TPR and FPR')\n",
    "\n",
    "# plt.savefig('04_fpr_tpr_plot.svg')\n",
    "\n",
    "plt.show()"
   ]
  },
  {
   "attachments": {},
   "cell_type": "markdown",
   "metadata": {},
   "source": [
    "Both the True Positive Rate (TPR) and False Positive Rate (FPR) start at 100% when the threshold is set to $t = 0.0$, where $P(Y|\\mathbf{x}_i) \\geq t$ , implying that all customers are predicted as churners. This happens because all probabilities are $P(Y|\\mathbf{x}_i) \\geq 0$, leading to the classification of every customer as a churner.\n",
    "\n",
    "- At 100% FPR, every customer who not churn (negative instance) is wrongly predict as a churner, which is a false positive. This means we have no true negatives; we're not correctly identifying anyone who won't churn.\n",
    "\n",
    "- The TPR is 100% because all actual churners (positive instances) are correctly identified as churners (true positives). That's why there are no false negatives; all churners are identified.\n",
    "\n",
    "As the threshold is raised, both metrics start to decline, but at different paces.\n",
    "\n",
    "In an ideal situation, the FPR reduce rapidly. A low FPR means that the model rarely misclassifies negative instances, minimizing false positives. On the other hand, we desire that TPR decrease slowly, maintaining a value near 100% as long as possible. This would indicate that the model effectively identifies true positives."
   ]
  },
  {
   "attachments": {},
   "cell_type": "markdown",
   "metadata": {},
   "source": [
    "**Random Model**\n",
    "\n",
    "A random model outputs a random score between 0 and 1, regardless of the input"
   ]
  },
  {
   "cell_type": "code",
   "execution_count": 109,
   "metadata": {},
   "outputs": [],
   "source": [
    "np.random.seed(1)\n",
    "y_rand = np.random.uniform(0, 1, size=len(y_val))\n",
    "df_rand = tpr_fpr_dataframe(y_val, y_rand)"
   ]
  },
  {
   "cell_type": "code",
   "execution_count": 110,
   "metadata": {},
   "outputs": [
    {
     "data": {
      "image/png": "[encoded data removed]",
      "text/plain": [
       "<Figure size 432x288 with 1 Axes>"
      ]
     },
     "metadata": {
      "needs_background": "light"
     },
     "output_type": "display_data"
    }
   ],
   "source": [
    "plt.figure(figsize=(6, 4))\n",
    "\n",
    "plt.plot(df_rand.threshold, df_rand.tpr, color='black', linestyle='solid', label='TPR')\n",
    "plt.plot(df_rand.threshold, df_rand.fpr, color='black', linestyle='dashed', label='FPR')\n",
    "plt.legend()\n",
    "\n",
    "plt.xticks(np.linspace(0, 1, 11))\n",
    "plt.yticks(np.linspace(0, 1, 11))\n",
    "\n",
    "plt.xlabel('Thresholds')\n",
    "plt.title('TPR and FPR for the random model')\n",
    "\n",
    "#plt.savefig('04_fpr_tpr_plot_random.svg')\n",
    "\n",
    "plt.show()"
   ]
  },
  {
   "attachments": {},
   "cell_type": "markdown",
   "metadata": {},
   "source": [
    "In this model, both True Positive Rate (TPR) and False Positive Rate (FPR) begin at 100% and eventually fall to 0%.\n",
    "\n",
    "At a threshold of 0.0, all customers are predicted to churn, yielding a 100% FPR (false positives) and TPR (true positives).\n",
    "\n",
    "As we raise the threshold, both rates decline. At a 0.4 threshold, 60% of predictions are accurate for both churners and non-churners.\n",
    "\n",
    "At a 1.0 threshold, we predict everyone as non-churning, bringing both FPR and TPR to 0%, meaning there are no true positives and all non-churners are correctly identified."
   ]
  },
  {
   "attachments": {},
   "cell_type": "markdown",
   "metadata": {},
   "source": [
    "**Ideal Model**"
   ]
  },
  {
   "cell_type": "code",
   "execution_count": 111,
   "metadata": {},
   "outputs": [],
   "source": [
    "num_neg = (y_val == 0).sum()\n",
    "num_pos = (y_val == 1).sum()\n",
    "\n",
    "y_ideal = np.repeat([0, 1], [num_neg, num_pos])\n",
    "y_pred_ideal = np.linspace(0, 1, num_neg + num_pos)\n",
    "\n",
    "df_ideal = tpr_fpr_dataframe(y_ideal, y_pred_ideal)"
   ]
  },
  {
   "cell_type": "code",
   "execution_count": 112,
   "metadata": {},
   "outputs": [
    {
     "data": {
      "image/png": "[encoded data removed]",
      "text/plain": [
       "<Figure size 432x288 with 1 Axes>"
      ]
     },
     "metadata": {
      "needs_background": "light"
     },
     "output_type": "display_data"
    }
   ],
   "source": [
    "plt.figure(figsize=(6, 4))\n",
    "\n",
    "plt.plot(df_ideal.threshold, df_ideal.tpr, color='black', linestyle='solid', label='TPR')\n",
    "plt.plot(df_ideal.threshold, df_ideal.fpr, color='black', linestyle='dashed', label='FPR')\n",
    "plt.legend()\n",
    "\n",
    "plt.xticks(np.linspace(0, 1, 11))\n",
    "plt.yticks(np.linspace(0, 1, 11))\n",
    "\n",
    "plt.vlines(1 - y_val.mean(), -1, 2, linewidth=0.5, linestyle='dashed', color='grey')\n",
    "plt.ylim(-0.03, 1.03)\n",
    "\n",
    "plt.xlabel('Thresholds')\n",
    "plt.title('TPR and FPR for the ideal model')\n",
    "\n",
    "# plt.savefig('04_fpr_tpr_plot_ideal.svg')\n",
    "\n",
    "plt.show()"
   ]
  },
  {
   "attachments": {},
   "cell_type": "markdown",
   "metadata": {},
   "source": [
    "**ROC Curve and AUC**\n",
    "\n",
    "To create an ROC curve, instead of plotting FPR and TPR against different threshold\n",
    "values, we plot them against each other"
   ]
  },
  {
   "cell_type": "code",
   "execution_count": 113,
   "metadata": {},
   "outputs": [
    {
     "data": {
      "image/png": "[encoded data removed]",
      "text/plain": [
       "<Figure size 360x360 with 1 Axes>"
      ]
     },
     "metadata": {
      "needs_background": "light"
     },
     "output_type": "display_data"
    }
   ],
   "source": [
    "plt.figure(figsize=(5, 5))\n",
    "\n",
    "plt.plot(df_scores.fpr, df_scores.tpr, color='black', label='Model')\n",
    "plt.plot(df_rand.fpr, df_rand.tpr, color='black', lw=1,\n",
    "         linestyle='dashed', alpha=0.5, label='Random')\n",
    "plt.plot(df_ideal.fpr, df_ideal.tpr, color='black', lw=0.5,\n",
    "         linestyle='solid', alpha=0.5, label='Ideal')\n",
    "\n",
    "plt.legend()\n",
    "\n",
    "plt.xlim([-0.02, 1.02])\n",
    "plt.ylim([-0.02, 1.02])\n",
    "plt.xlabel('False Positive Rate')\n",
    "plt.ylabel('True Positive Rate')\n",
    "\n",
    "plt.title('ROC curve')\n",
    "\n",
    "# plt.savefig('04_roc_curve_with_baselines.svg')\n",
    "\n",
    "plt.show()"
   ]
  },
  {
   "cell_type": "code",
   "execution_count": 114,
   "metadata": {},
   "outputs": [
    {
     "data": {
      "image/png": "[encoded data removed]",
      "text/plain": [
       "<Figure size 360x360 with 1 Axes>"
      ]
     },
     "metadata": {
      "needs_background": "light"
     },
     "output_type": "display_data"
    }
   ],
   "source": [
    "fpr_large, tpr_large, thresholds = roc_curve(y_val, y_pred)\n",
    "fpr_small, tpr_small, thresholds = roc_curve(y_val, y_pred_small)\n",
    "\n",
    "plt.figure(figsize=(5, 5))\n",
    "\n",
    "plt.plot(fpr_large, tpr_large, color='black', linestyle='solid', label='Large')\n",
    "plt.plot(fpr_small, tpr_small, color='black', linestyle='dashed', label='Small')\n",
    "plt.plot([0, 1], [0, 1], color='black', lw=0.7, linestyle='dashed', alpha=0.5)\n",
    "\n",
    "plt.xlim([-0.02, 1.02])\n",
    "plt.ylim([-0.02, 1.02])\n",
    "plt.xlabel('False Positive Rate')\n",
    "plt.ylabel('True Positive Rate')\n",
    "\n",
    "plt.title('ROC curve')\n",
    "plt.legend(loc='lower right')\n",
    "\n",
    "plt.show()"
   ]
  },
  {
   "attachments": {},
   "cell_type": "markdown",
   "metadata": {},
   "source": [
    "Our models should always be somewhere between these two curves. We want our\n",
    "model to be as close to the ideal curve as possible and as far as possible from the random\n",
    "curve.\n",
    "\n",
    "The top-left corner is called the “ideal spot”: it’s the point when the ideal\n",
    "model gets 100% TPR and 0% FPR."
   ]
  },
  {
   "cell_type": "code",
   "execution_count": 115,
   "metadata": {},
   "outputs": [
    {
     "name": "stdout",
     "output_type": "stream",
     "text": [
      "AUC large model : \n",
      " 0.8359001084215382 \n",
      "\n",
      "AUC Small model : \n",
      " 0.8359001084215382 \n",
      "\n"
     ]
    }
   ],
   "source": [
    "df_scores_small = tpr_fpr_dataframe(y_val, y_pred_small)\n",
    "auc_large = auc(df_scores.fpr, df_scores.tpr)\n",
    "auc_small = auc(df_scores.fpr, df_scores.tpr)\n",
    "\n",
    "\n",
    "printest('AUC large model',auc_large)\n",
    "printest('AUC Small model',auc_small)"
   ]
  },
  {
   "attachments": {},
   "cell_type": "markdown",
   "metadata": {},
   "source": [
    "An AUC of 0.9 is indicative of a reasonably good model; 0.8 is\n",
    "okay, 0.7 is not very performant, and 0.6 indicates quite poor performance."
   ]
  },
  {
   "attachments": {},
   "cell_type": "markdown",
   "metadata": {},
   "source": [
    "The AUC can be interpreted as the probability that a randomly chosen positive instance will have a higher predicted score than a randomly chosen negative instance.\n",
    "\n",
    "To illustrate, consider randomly selecting one customer who churned and another who did not. Ideally, our prediction model should attribute a higher score to the customer who churned when compared to the customer who didn't churn. This score signifies the likelihood of churning.\n",
    "\n",
    "To empirically validate this interpretation of AUC, we could simulate this scenario 10,000 times. For each iteration, we randomly select one positive instance and one negative instance and compare their predicted scores. If the score for the positive instance is consistently higher than the score for the negative instance, this demonstrates that our model is indeed effective at distinguishing between customers who are likely to churn and those who are not."
   ]
  },
  {
   "cell_type": "code",
   "execution_count": 116,
   "metadata": {},
   "outputs": [
    {
     "data": {
      "text/plain": [
       "0.8356"
      ]
     },
     "execution_count": 116,
     "metadata": {},
     "output_type": "execute_result"
    }
   ],
   "source": [
    "neg = y_pred[y_val == 0]\n",
    "pos = y_pred[y_val == 1]\n",
    "\n",
    "np.random.seed(1)\n",
    "neg_choice = np.random.randint(low=0, high=len(neg), size=10000)\n",
    "pos_choice = np.random.randint(low=0, high=len(pos), size=10000)\n",
    "(pos[pos_choice] > neg[neg_choice]).mean()"
   ]
  },
  {
   "attachments": {},
   "cell_type": "markdown",
   "metadata": {},
   "source": [
    "# Parameter Tuning"
   ]
  },
  {
   "attachments": {},
   "cell_type": "markdown",
   "metadata": {},
   "source": [
    "**k-Fold Cross-Validation**\n",
    "\n",
    "Cross-validation is a technique where we divide the dataset, $\\mathbf{D}$, into $k$ parts of equal size, which we call folds (e.g., $\\mathbf{D}_1,\\mathbf{D}_2, \\cdots, \\mathbf{D}_k$). Each fold, $\\mathbf{D}_i$, is used as a testing set one time, with the rest serving as the training set. \n",
    "\n",
    "To illustrate, consider we have a dataset and we choose $k=3$. The dataset is divided into 3 subsets or folds. In each iteration, we use one fold as the test set and the remaining folds as the training set, as show below:\n",
    "\n",
    "\n",
    "<center><img src = \"Images/k_fold_cv.png\" width=\"400\" height=\"200\"/></center>\n",
    "\n",
    "\n",
    "So in each iteration, the model is trained on the training set and its performance is evaluated on the testing set, $\\mathbf{D}_i$, to obtain the $i^{th}$ estimate, $\\theta_i$.\n",
    "\n",
    "From there, we can estimate the average performance measure as:\n",
    "\n",
    "$$\\hat{\\mu}_{\\theta} = \\mathbf{E}[\\theta] = \\frac{1}{k}\\sum_{i=1}^{k}\\theta_i$$ \n",
    "\n",
    "We can also calculate the variance of the performance measure as:\n",
    "\n",
    "$$\\hat{\\sigma}_{\\theta}^2 = \\frac{1}{k}\\sum_{i=1}^{k}(\\theta_i -\\hat{\\mu}_{\\theta})^2$$ \n",
    "\n",
    "The process starts by randomly shuffling the dataset, $\\mathbf{D}$, then split it into $k$ equal parts. In each round of validation, one fold, $\\mathbf{D}_i$, serves as the testing set, and the model's performance, $\\theta_i$, is assessed. The process is repeated multiple times with different shuffles of the data to ensure the results are reliable.\n",
    "\n",
    "Typically, we choose $k$ as either 5 or 10.\n",
    "\n",
    "The Python code for implementing this process is as follows:"
   ]
  },
  {
   "cell_type": "code",
   "execution_count": 117,
   "metadata": {},
   "outputs": [],
   "source": [
    "def train(df, y):\n",
    "    df_dict = df[categorical + numerical].to_dict(orient='records')\n",
    "    \n",
    "    dv = DictVectorizer(sparse=False)\n",
    "    dv.fit(df_dict)\n",
    "\n",
    "    x_train = dv.transform(df_dict)\n",
    "\n",
    "    model = LogisticRegression(solver='liblinear')\n",
    "    model.fit(x_train, y)\n",
    "\n",
    "    return dv, model\n",
    "\n",
    "\n",
    "def predict(df, dv, model):\n",
    "    cat = df[categorical + numerical].to_dict(orient='records')\n",
    "    \n",
    "    X = dv.transform(cat)\n",
    "\n",
    "    y_pred = model.predict_proba(X)[:, 1]\n",
    "\n",
    "    return y_pred"
   ]
  },
  {
   "attachments": {},
   "cell_type": "markdown",
   "metadata": {},
   "source": [
    "Here we used K-fold cross-validation with $K =10$. Thus, when we run it, at the end we\n",
    "get 10 different numbers — 10 AUC scores evaluated on 10 different validation folds. We can think of it as a distribution of AUC scores for our model, making possible to get some statistic like mean and variance."
   ]
  },
  {
   "cell_type": "code",
   "execution_count": 118,
   "metadata": {},
   "outputs": [
    {
     "name": "stdout",
     "output_type": "stream",
     "text": [
      "AUCs : \n",
      " [0.849 0.841 0.859 0.833 0.824 0.841 0.844 0.824 0.845 0.861] \n",
      "\n",
      "AUC stats = 0.842 ± 0.012\n"
     ]
    }
   ],
   "source": [
    "kfold = KFold(n_splits=10, shuffle=True, random_state=1)\n",
    "\n",
    "aucs = []\n",
    "\n",
    "# for each fold, split the dataset into training and validation datasets\n",
    "for train_idx, val_idx in kfold.split(df_train_full):\n",
    "    \n",
    "    # create training dataset using indices provided by k-fold object\n",
    "    df_train = df_train_full.iloc[train_idx]\n",
    "    y_train = df_train.churn.values\n",
    "\n",
    "    df_val = df_train_full.iloc[val_idx]\n",
    "    y_val = df_val.churn.values\n",
    "\n",
    "    dv, model = train(df_train, y_train)\n",
    "    y_pred = predict(df_val, dv, model)\n",
    "\n",
    "    # compute the AUC score and store it in the list\n",
    "    rocauc = roc_auc_score(y_val, y_pred)\n",
    "    aucs.append(rocauc)\n",
    "\n",
    "\n",
    "# print AUC for each fold\n",
    "printest('AUCs',np.array(aucs).round(3))\n",
    "\n",
    "# print mean and standard deviation of AUCs across all folds\n",
    "print('AUC stats = %0.3f ± %0.3f' % (np.mean(aucs), np.std(aucs)))"
   ]
  },
  {
   "attachments": {},
   "cell_type": "markdown",
   "metadata": {},
   "source": [
    "**Tuning the parameter `C`**\n",
    "\n",
    "In logistic regression, a component known as the regularization term is incorporated into the cost function. This term operates by introducing a penalty to the cost function, analogous to the L1 regularization for linear regression. The penalty term helps prevent the model from overfitting by limiting the magnitude of the model parameters.\n",
    "\n",
    "The strength of the regularization is controlled by the C parameter. A smaller C means stronger regularization, leading to smaller model parameters, whereas a larger C corresponds to weaker regularization, allowing the model parameters to take larger values.\n",
    "\n",
    "Thus, by adjusting C, we can control the balance between keeping the model simple to avoid overfitting and allowing it to fit the training data as closely as possible."
   ]
  },
  {
   "cell_type": "code",
   "execution_count": 119,
   "metadata": {},
   "outputs": [],
   "source": [
    "def train(df, y, C=1.0):\n",
    "    cat = df[categorical + numerical].to_dict(orient='records')\n",
    "    \n",
    "    dv = DictVectorizer(sparse=False)\n",
    "    dv.fit(cat)\n",
    "\n",
    "    X = dv.transform(cat)\n",
    "\n",
    "    model = LogisticRegression(solver='liblinear', C=C)\n",
    "    model.fit(X, y)\n",
    "\n",
    "    return dv, model"
   ]
  },
  {
   "cell_type": "code",
   "execution_count": 120,
   "metadata": {},
   "outputs": [],
   "source": [
    "nfolds = 5\n",
    "kfold = KFold(n_splits = nfolds, shuffle=True, random_state=1)\n",
    "\n",
    "for C in [0.001, 0.01, 0.1, 0.5, 1, 10]:\n",
    "    aucs = []\n",
    "\n",
    "    for train_idx, val_idx in kfold.split(df_train_full):\n",
    "        df_train = df_train_full.iloc[train_idx]\n",
    "        df_val = df_train_full.iloc[val_idx]\n",
    "\n",
    "        y_train = df_train.churn.values\n",
    "        y_val = df_val.churn.values\n",
    "\n",
    "        dv, model = train(df_train, y_train, C=C)\n",
    "        y_pred = predict(df_val, dv, model)\n",
    "        \n",
    "        auc = roc_auc_score(y_val, y_pred)\n",
    "        aucs.append(auc)\n",
    "\n",
    "    #print('C=%s, auc = %0.3f ± %0.3f' % (C, np.mean(aucs), np.std(aucs)))"
   ]
  },
  {
   "attachments": {},
   "cell_type": "markdown",
   "metadata": {},
   "source": [
    "| `C` Value | AUC: $\\mu \\pm  \\sigma$  |\n",
    "| --------- | ---------- |\n",
    "| 0.001     | 0.825 ± 0.013 |\n",
    "| 0.01      | 0.839 ± 0.009 |\n",
    "| 0.1       | 0.841 ± 0.007 |\n",
    "| 0.5       | 0.841 ± 0.007 |\n",
    "| 1         | 0.841 ± 0.007 |\n",
    "| 10        | 0.841 ± 0.007 |\n",
    "\n",
    "\n",
    "\n",
    "We can observe that beyond $C=0.1$, the average AUC remains consistent and no longer increases. This indicates that a C value of $0.1$ is sufficient to maximize the model's predictive power.\n",
    "\n",
    "However, when comparing the models using $C=0.5$ and $C=0.1$, the model with $C=0.5$ has a smaller standard deviation, indicating a more stable model performance across different folds. Given this, we would favor C=0.5 as it provides a more reliable model prediction.\n",
    "\n",
    "Now for the last step, we train the model on the entire train and validation\n",
    "datasets and apply it to the test dataset to verify it indeed works well for $C=0.5$"
   ]
  },
  {
   "cell_type": "code",
   "execution_count": 125,
   "metadata": {},
   "outputs": [
    {
     "name": "stdout",
     "output_type": "stream",
     "text": [
      "AUC for c = 0.5 : \n",
      " 0.858 \n",
      "\n"
     ]
    }
   ],
   "source": [
    "y_train = df_train_full.churn.values\n",
    "y_test = df_test.churn.values\n",
    "\n",
    "dv, model = train(df_train_full, y_train, C=0.5)\n",
    "y_pred = predict(df_test, dv, model)\n",
    "\n",
    "auc_05 = roc_auc_score(y_test, y_pred)\n",
    "printest('AUC for c = 0.5', auc_05.round(3))"
   ]
  },
  {
   "attachments": {},
   "cell_type": "markdown",
   "metadata": {},
   "source": [
    "The AUC score on the test set is $0.858$, which, while it is higher than the validation score of $0.841 \\pm 0.007$, is not drastically different. The difference between the test score and the validation score is slightly larger than the standard deviation from the cross-validation process, but it's still relatively close. This means that our model's performance on the test set is better than we estimated from cross-validation, but the difference is not so large that we would worry about overfitting to the training data. It shows that our model generalizes well to unseen data."
   ]
  }
 ],
 "metadata": {
  "kernelspec": {
   "display_name": "Python 3",
   "language": "python",
   "name": "python3"
  },
  "language_info": {
   "codemirror_mode": {
    "name": "ipython",
    "version": 3
   },
   "file_extension": ".py",
   "mimetype": "text/x-python",
   "name": "python",
   "nbconvert_exporter": "python",
   "pygments_lexer": "ipython3",
   "version": "3.10.2"
  },
  "orig_nbformat": 4,
  "vscode": {
   "interpreter": {
    "hash": "0743c798041383927c03f3bae5eca888e94e4777f716cdd511cdff96fbdedc02"
   }
  }
 },
 "nbformat": 4,
 "nbformat_minor": 2
}
