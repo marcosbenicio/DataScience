{
 "cells": [
  {
   "cell_type": "code",
   "execution_count": 231,
   "metadata": {},
   "outputs": [],
   "source": [
    "import pandas as pd\n",
    "import numpy as np\n",
    "\n",
    "import seaborn as sns\n",
    "from matplotlib import pyplot as plt"
   ]
  },
  {
   "cell_type": "code",
   "execution_count": 232,
   "metadata": {},
   "outputs": [],
   "source": [
    "def printest(args, value):\n",
    "    return print( \"{} : \\n {} \\n\".format(args, value) )"
   ]
  },
  {
   "cell_type": "code",
   "execution_count": 233,
   "metadata": {},
   "outputs": [
    {
     "data": {
      "text/html": [
       "<div>\n",
       "<style scoped>\n",
       "    .dataframe tbody tr th:only-of-type {\n",
       "        vertical-align: middle;\n",
       "    }\n",
       "\n",
       "    .dataframe tbody tr th {\n",
       "        vertical-align: top;\n",
       "    }\n",
       "\n",
       "    .dataframe thead th {\n",
       "        text-align: right;\n",
       "    }\n",
       "</style>\n",
       "<table border=\"1\" class=\"dataframe\">\n",
       "  <thead>\n",
       "    <tr style=\"text-align: right;\">\n",
       "      <th></th>\n",
       "      <th>Make</th>\n",
       "      <th>Model</th>\n",
       "      <th>Year</th>\n",
       "      <th>Engine Fuel Type</th>\n",
       "      <th>Engine HP</th>\n",
       "      <th>Engine Cylinders</th>\n",
       "      <th>Transmission Type</th>\n",
       "      <th>Driven_Wheels</th>\n",
       "      <th>Number of Doors</th>\n",
       "      <th>Market Category</th>\n",
       "      <th>Vehicle Size</th>\n",
       "      <th>Vehicle Style</th>\n",
       "      <th>highway MPG</th>\n",
       "      <th>city mpg</th>\n",
       "      <th>Popularity</th>\n",
       "      <th>MSRP</th>\n",
       "    </tr>\n",
       "  </thead>\n",
       "  <tbody>\n",
       "    <tr>\n",
       "      <th>0</th>\n",
       "      <td>BMW</td>\n",
       "      <td>1 Series M</td>\n",
       "      <td>2011</td>\n",
       "      <td>premium unleaded (required)</td>\n",
       "      <td>335.0</td>\n",
       "      <td>6.0</td>\n",
       "      <td>MANUAL</td>\n",
       "      <td>rear wheel drive</td>\n",
       "      <td>2.0</td>\n",
       "      <td>Factory Tuner,Luxury,High-Performance</td>\n",
       "      <td>Compact</td>\n",
       "      <td>Coupe</td>\n",
       "      <td>26</td>\n",
       "      <td>19</td>\n",
       "      <td>3916</td>\n",
       "      <td>46135</td>\n",
       "    </tr>\n",
       "    <tr>\n",
       "      <th>1</th>\n",
       "      <td>BMW</td>\n",
       "      <td>1 Series</td>\n",
       "      <td>2011</td>\n",
       "      <td>premium unleaded (required)</td>\n",
       "      <td>300.0</td>\n",
       "      <td>6.0</td>\n",
       "      <td>MANUAL</td>\n",
       "      <td>rear wheel drive</td>\n",
       "      <td>2.0</td>\n",
       "      <td>Luxury,Performance</td>\n",
       "      <td>Compact</td>\n",
       "      <td>Convertible</td>\n",
       "      <td>28</td>\n",
       "      <td>19</td>\n",
       "      <td>3916</td>\n",
       "      <td>40650</td>\n",
       "    </tr>\n",
       "    <tr>\n",
       "      <th>2</th>\n",
       "      <td>BMW</td>\n",
       "      <td>1 Series</td>\n",
       "      <td>2011</td>\n",
       "      <td>premium unleaded (required)</td>\n",
       "      <td>300.0</td>\n",
       "      <td>6.0</td>\n",
       "      <td>MANUAL</td>\n",
       "      <td>rear wheel drive</td>\n",
       "      <td>2.0</td>\n",
       "      <td>Luxury,High-Performance</td>\n",
       "      <td>Compact</td>\n",
       "      <td>Coupe</td>\n",
       "      <td>28</td>\n",
       "      <td>20</td>\n",
       "      <td>3916</td>\n",
       "      <td>36350</td>\n",
       "    </tr>\n",
       "  </tbody>\n",
       "</table>\n",
       "</div>"
      ],
      "text/plain": [
       "  Make       Model  Year             Engine Fuel Type  Engine HP  \\\n",
       "0  BMW  1 Series M  2011  premium unleaded (required)      335.0   \n",
       "1  BMW    1 Series  2011  premium unleaded (required)      300.0   \n",
       "2  BMW    1 Series  2011  premium unleaded (required)      300.0   \n",
       "\n",
       "   Engine Cylinders Transmission Type     Driven_Wheels  Number of Doors  \\\n",
       "0               6.0            MANUAL  rear wheel drive              2.0   \n",
       "1               6.0            MANUAL  rear wheel drive              2.0   \n",
       "2               6.0            MANUAL  rear wheel drive              2.0   \n",
       "\n",
       "                         Market Category Vehicle Size Vehicle Style  \\\n",
       "0  Factory Tuner,Luxury,High-Performance      Compact         Coupe   \n",
       "1                     Luxury,Performance      Compact   Convertible   \n",
       "2                Luxury,High-Performance      Compact         Coupe   \n",
       "\n",
       "   highway MPG  city mpg  Popularity   MSRP  \n",
       "0           26        19        3916  46135  \n",
       "1           28        19        3916  40650  \n",
       "2           28        20        3916  36350  "
      ]
     },
     "metadata": {},
     "output_type": "display_data"
    },
    {
     "name": "stdout",
     "output_type": "stream",
     "text": [
      "total cars (rows) : \n",
      " 11914 \n",
      "\n"
     ]
    }
   ],
   "source": [
    "df = pd.read_csv('Data/data_car_price.csv')\n",
    "\n",
    "display(df.head(3))\n",
    "printest('total cars (rows)', len(df))"
   ]
  },
  {
   "attachments": {},
   "cell_type": "markdown",
   "metadata": {},
   "source": [
    "This dataset overview reveals some inconsistencies, such as column names containing spaces or underscores ( _ ), and varying capitalization and spacing within feature values. To address these issues and enhance clarity, we can normalize the data by replacing all spaces with underscores and converting all letters to lowercase."
   ]
  },
  {
   "cell_type": "code",
   "execution_count": 234,
   "metadata": {},
   "outputs": [
    {
     "data": {
      "text/html": [
       "<div>\n",
       "<style scoped>\n",
       "    .dataframe tbody tr th:only-of-type {\n",
       "        vertical-align: middle;\n",
       "    }\n",
       "\n",
       "    .dataframe tbody tr th {\n",
       "        vertical-align: top;\n",
       "    }\n",
       "\n",
       "    .dataframe thead th {\n",
       "        text-align: right;\n",
       "    }\n",
       "</style>\n",
       "<table border=\"1\" class=\"dataframe\">\n",
       "  <thead>\n",
       "    <tr style=\"text-align: right;\">\n",
       "      <th></th>\n",
       "      <th>make</th>\n",
       "      <th>model</th>\n",
       "      <th>year</th>\n",
       "      <th>engine_fuel_type</th>\n",
       "      <th>engine_hp</th>\n",
       "      <th>engine_cylinders</th>\n",
       "      <th>transmission_type</th>\n",
       "      <th>driven_wheels</th>\n",
       "      <th>number_of_doors</th>\n",
       "      <th>market_category</th>\n",
       "      <th>vehicle_size</th>\n",
       "      <th>vehicle_style</th>\n",
       "      <th>highway_mpg</th>\n",
       "      <th>city_mpg</th>\n",
       "      <th>popularity</th>\n",
       "      <th>msrp</th>\n",
       "    </tr>\n",
       "  </thead>\n",
       "  <tbody>\n",
       "    <tr>\n",
       "      <th>0</th>\n",
       "      <td>bmw</td>\n",
       "      <td>1_series_m</td>\n",
       "      <td>2011</td>\n",
       "      <td>premium_unleaded_(required)</td>\n",
       "      <td>335.0</td>\n",
       "      <td>6.0</td>\n",
       "      <td>manual</td>\n",
       "      <td>rear_wheel_drive</td>\n",
       "      <td>2.0</td>\n",
       "      <td>factory_tuner,luxury,high-performance</td>\n",
       "      <td>compact</td>\n",
       "      <td>coupe</td>\n",
       "      <td>26</td>\n",
       "      <td>19</td>\n",
       "      <td>3916</td>\n",
       "      <td>46135</td>\n",
       "    </tr>\n",
       "    <tr>\n",
       "      <th>1</th>\n",
       "      <td>bmw</td>\n",
       "      <td>1_series</td>\n",
       "      <td>2011</td>\n",
       "      <td>premium_unleaded_(required)</td>\n",
       "      <td>300.0</td>\n",
       "      <td>6.0</td>\n",
       "      <td>manual</td>\n",
       "      <td>rear_wheel_drive</td>\n",
       "      <td>2.0</td>\n",
       "      <td>luxury,performance</td>\n",
       "      <td>compact</td>\n",
       "      <td>convertible</td>\n",
       "      <td>28</td>\n",
       "      <td>19</td>\n",
       "      <td>3916</td>\n",
       "      <td>40650</td>\n",
       "    </tr>\n",
       "    <tr>\n",
       "      <th>2</th>\n",
       "      <td>bmw</td>\n",
       "      <td>1_series</td>\n",
       "      <td>2011</td>\n",
       "      <td>premium_unleaded_(required)</td>\n",
       "      <td>300.0</td>\n",
       "      <td>6.0</td>\n",
       "      <td>manual</td>\n",
       "      <td>rear_wheel_drive</td>\n",
       "      <td>2.0</td>\n",
       "      <td>luxury,high-performance</td>\n",
       "      <td>compact</td>\n",
       "      <td>coupe</td>\n",
       "      <td>28</td>\n",
       "      <td>20</td>\n",
       "      <td>3916</td>\n",
       "      <td>36350</td>\n",
       "    </tr>\n",
       "  </tbody>\n",
       "</table>\n",
       "</div>"
      ],
      "text/plain": [
       "  make       model  year             engine_fuel_type  engine_hp  \\\n",
       "0  bmw  1_series_m  2011  premium_unleaded_(required)      335.0   \n",
       "1  bmw    1_series  2011  premium_unleaded_(required)      300.0   \n",
       "2  bmw    1_series  2011  premium_unleaded_(required)      300.0   \n",
       "\n",
       "   engine_cylinders transmission_type     driven_wheels  number_of_doors  \\\n",
       "0               6.0            manual  rear_wheel_drive              2.0   \n",
       "1               6.0            manual  rear_wheel_drive              2.0   \n",
       "2               6.0            manual  rear_wheel_drive              2.0   \n",
       "\n",
       "                         market_category vehicle_size vehicle_style  \\\n",
       "0  factory_tuner,luxury,high-performance      compact         coupe   \n",
       "1                     luxury,performance      compact   convertible   \n",
       "2                luxury,high-performance      compact         coupe   \n",
       "\n",
       "   highway_mpg  city_mpg  popularity   msrp  \n",
       "0           26        19        3916  46135  \n",
       "1           28        19        3916  40650  \n",
       "2           28        20        3916  36350  "
      ]
     },
     "execution_count": 234,
     "metadata": {},
     "output_type": "execute_result"
    }
   ],
   "source": [
    "# Columns\n",
    "\n",
    "# .str transform each element into string\n",
    "# .str != String()\n",
    "df_columns_lower = df.columns.str.lower()\n",
    "df.columns  = df_columns_lower.str.replace(' ', '_')\n",
    "\n",
    "# Rows\n",
    "\n",
    "# boolean mask\n",
    "mask = df.dtypes == 'object'\n",
    "# keep the values in witch mask = True\n",
    "filter = df.dtypes[mask].index\n",
    "string_columns = list(filter)\n",
    "\n",
    "for col in string_columns:\n",
    "    df[col] = df[col].str.lower().str.replace(' ', '_')\n",
    "\n",
    "df.head(3)"
   ]
  },
  {
   "attachments": {},
   "cell_type": "markdown",
   "metadata": {},
   "source": [
    "This dataset contains multiple columns (features):\n",
    "\n",
    "- **make**: The car's brand (e.g., BMW, Toyota, etc.)\n",
    "- **model**: The car's specific model\n",
    "- **year**: The manufacturing year of the car\n",
    "- **engine_fuel_type**: The type of fuel required by the engine (e.g., diesel, electric, etc.)\n",
    "- **engine_hp**: The engine's horsepower\n",
    "- **engine_cylinders**: The number of engine cylinders\n",
    "- **transmission_type**: The type of transmission (automatic or manual)\n",
    "- **driven_wheels**: Front, rear, or all-wheel drive\n",
    "- **number_of_doors**: The number of doors in the car\n",
    "- **market_category**: Market segment (e.g., luxury, crossover, etc.)\n",
    "- **vehicle_size**: The size classification (compact, midsize, or large)\n",
    "- **vehicle_style**: The body style (e.g., sedan or convertible)\n",
    "- **highway_mpg**: Fuel efficiency on the highway (measured in miles per gallon)\n",
    "- **city_mpg**: Fuel efficiency in the city (measured in miles per gallon)\n",
    "- **popularity**: The number of times the car was mentioned in a Twitter stream\n",
    "- **msrp**: The manufacturer's suggested retail price\n",
    "\n",
    "Our primary focus in this dataset is the **MSRP** column, which represents the car's price. We will use this column to predict car prices."
   ]
  },
  {
   "attachments": {},
   "cell_type": "markdown",
   "metadata": {},
   "source": [
    "# Exploratory Data Analysis (EDA)"
   ]
  },
  {
   "attachments": {},
   "cell_type": "markdown",
   "metadata": {},
   "source": [
    "The MSRP column holds crucial data, as it represents our target variable, the 'y', which is the value we aim to predict accurately.\n",
    "\n",
    "A vital initial step in exploratory data analysis is examining the distribution of 'y'. By doing so, we gain insight into the possible values of 'y' and their frequency of occurrence. This visualization is commonly referred to as a histogram, which effectively conveys the distribution of our target variable."
   ]
  },
  {
   "cell_type": "code",
   "execution_count": 235,
   "metadata": {},
   "outputs": [
    {
     "data": {
      "image/png": "[encoded data removed]",
      "text/plain": [
       "<Figure size 432x288 with 1 Axes>"
      ]
     },
     "metadata": {
      "needs_background": "light"
     },
     "output_type": "display_data"
    }
   ],
   "source": [
    "plt.figure(figsize=(6, 4))\n",
    "\n",
    "sns.histplot(df.msrp[df.msrp < 1e5], bins=40, color='black', alpha=1)\n",
    "plt.ylabel('Frequency')\n",
    "plt.xlabel('Price')\n",
    "plt.title('Distribution of prices')\n",
    "\n",
    "plt.show()"
   ]
  },
  {
   "attachments": {},
   "cell_type": "markdown",
   "metadata": {},
   "source": [
    "By taking a closer look at values below $10^5$, we can observe the distribution more closely. There are numerous cars with lower prices on the left side of the histogram, but the count drops off rapidly, leaving a long tail of cars with high prices. This long-tail distribution is a common occurrence in situations where many items have low prices, while only a few are expensive.\n",
    "\n",
    "Visualizing the long-tail distribution can be challenging due to the extreme values that make it difficult to discern the shape of the distribution. Training a model on this type of data can also be problematic, as the distribution may cause confusion for the model, hindering its ability to learn the important features effectively.\n",
    "\n",
    "To solve this problem we can make a transformation in the values by applying a log function. The log function has a nice property of transforming large values into smaller ones while maintaining the relative differences between the original values. This transformation can help make skewed distributions more manageable for visualization and analysis. Consider the following transformation:\n",
    "\n",
    "$$y_{new} = log(x+1)$$\n",
    "\n",
    "the $+1$ part is important in cases that have zeros."
   ]
  },
  {
   "cell_type": "code",
   "execution_count": 236,
   "metadata": {},
   "outputs": [
    {
     "data": {
      "image/png": "[encoded data removed]",
      "text/plain": [
       "<Figure size 432x288 with 1 Axes>"
      ]
     },
     "metadata": {
      "needs_background": "light"
     },
     "output_type": "display_data"
    }
   ],
   "source": [
    "log_price = np.log1p(df.msrp)\n",
    "\n",
    "plt.figure(figsize=(6, 4))\n",
    "\n",
    "sns.histplot(log_price, bins=40, color='black', alpha=1)\n",
    "plt.ylabel('Frequency')\n",
    "plt.xlabel('Log(Price + 1)')\n",
    "plt.title('Distribution of prices after log tranformation')\n",
    "\n",
    "plt.show()"
   ]
  },
  {
   "cell_type": "code",
   "execution_count": 237,
   "metadata": {},
   "outputs": [
    {
     "data": {
      "text/plain": [
       "make                    0\n",
       "model                   0\n",
       "year                    0\n",
       "engine_fuel_type        3\n",
       "engine_hp              69\n",
       "engine_cylinders       30\n",
       "transmission_type       0\n",
       "driven_wheels           0\n",
       "number_of_doors         6\n",
       "market_category      3742\n",
       "vehicle_size            0\n",
       "vehicle_style           0\n",
       "highway_mpg             0\n",
       "city_mpg                0\n",
       "popularity              0\n",
       "msrp                    0\n",
       "dtype: int64"
      ]
     },
     "execution_count": 237,
     "metadata": {},
     "output_type": "execute_result"
    }
   ],
   "source": [
    "# Checking for missing values at other features\n",
    "\n",
    "df.isnull().sum()"
   ]
  },
  {
   "attachments": {},
   "cell_type": "markdown",
   "metadata": {},
   "source": [
    "A few columns have missing values. Market_category is the most affected one, in which we have\n",
    "almost 4,000 rows with missing values."
   ]
  },
  {
   "attachments": {},
   "cell_type": "markdown",
   "metadata": {},
   "source": [
    "# Data Validation"
   ]
  },
  {
   "cell_type": "code",
   "execution_count": 238,
   "metadata": {},
   "outputs": [],
   "source": [
    "n = len(df)\n",
    "n_val = int(0.2*n)   # 20% for validation\n",
    "n_test = int(0.2*n)  # 20% for test\n",
    "n_train = int(0.6*n) # 60% for train\n",
    "\n",
    "# shuffle indices\n",
    "np.random.seed(2)\n",
    "idx = np.arange(n)\n",
    "np.random.shuffle(idx)\n",
    "# subset rows by indices\n",
    "df_shuffled = df.iloc[idx]\n",
    "\n",
    "df_train = df_shuffled.iloc[:n_train].copy()\n",
    "df_val = df_shuffled.iloc[n_train:n_train+n_val].copy()\n",
    "df_test = df_shuffled.iloc[n_train+n_val:].copy()\n",
    "\n",
    "# original values from the target\n",
    "y_train_orig = df_train.msrp.values\n",
    "y_val_orig = df_val.msrp.values\n",
    "y_test_orig = df_test.msrp.values\n",
    "\n",
    "# apply the log transformation in original values\n",
    "y_train = np.log1p(df_train.msrp.values)\n",
    "y_val = np.log1p(df_val.msrp.values)\n",
    "y_test = np.log1p(df_test.msrp.values)\n",
    "\n",
    "# To avoid accidentally using the target variable\n",
    "del df_train['msrp']\n",
    "del df_val['msrp']\n",
    "del df_test['msrp']\n"
   ]
  },
  {
   "attachments": {},
   "cell_type": "markdown",
   "metadata": {},
   "source": [
    "# Linear Regression"
   ]
  },
  {
   "attachments": {},
   "cell_type": "markdown",
   "metadata": {},
   "source": [
    "Consider a hypothetical dataset with multiple attributes and a target variable as shown:\n",
    "\n",
    "$$\\mathbf{X} =\n",
    "\\left( \\begin{array}{c|cccc|c}\n",
    "~    &X_{0}&X_{1}&\\cdots & X_{n_0}  & Y\\\\\n",
    "\\hline\n",
    "x_{1} &1& x_{11}& \\cdots&x_{1n_0}&y_1 \\\\\n",
    "\\vdots&\\vdots&\\vdots&\\ddots&\\vdots&\\vdots\\\\\n",
    "x_{n}&1&x_{n1}&\\cdots&x_{nn_0}&y_n\n",
    "\\end{array} \\right).$$\n",
    "\n",
    "Each row vector $\\vec{x}_1, \\cdots, \\vec{x}_n$ has $n+1$ features:\n",
    "\n",
    "$$\\vec{x}_i = (x_{1i}, \\cdots, x_{ni})^T$$\n",
    "\n",
    "The linear regression for multiple attributes $X_{1},\\cdots, X_{n_0}$ can be represented as:\n",
    "\n",
    "$$\\vec{\\hat{Y}} = \\vec{w}\\mathbf{X} $$\n",
    "\n",
    "Here, $\\vec{w}= (w_o,\\cdots, w_d)$ denotes the weights that the model seeks to learn for an optimal regression. $\\vec{\\hat{Y}}$ represents the predicted values, and $\\vec{Y}$ stands for the true values (or target values). The error function commonly used is the sum of squared errors (SSE):\n",
    "\n",
    "$$\\text{SSE} = \\sum_{i}^{n} ||{\\epsilon}_i||^2 = \\vec{\\epsilon}\\vec{\\epsilon}^T$$\n",
    "\n",
    "where $\\vec{\\epsilon} = \\vec{\\hat{Y}} - \\vec{Y}$.\n",
    "\n",
    "Rearranging the error function gives:\n",
    "\n",
    "$$\n",
    "\\begin{align*}\n",
    "\\text{SSE} &= (\\vec{\\hat{Y}} - \\vec{Y})^T(\\vec{\\hat{Y}} - \\vec{Y})\\\\\n",
    "&=\\vec{Y}^T \\vec{Y}  - 2\\vec{Y}^T \\vec{\\hat{Y}} + \\vec{\\hat{Y}}^T \\vec{\\hat{Y}}\\\\\n",
    "&=\\vec{Y}^T \\vec{Y}  - 2\\vec{Y}^T  (\\vec{w}\\mathbf{X}) + ( \\vec{w}\\mathbf{X})^T ( \\vec{w}\\mathbf{X})\\\\\n",
    "&=\\vec{Y}^T \\vec{Y}  - 2 \\vec{w}^T (\\mathbf{X}^T\\vec{Y}) + \\vec{w}^T( \\mathbf{X}\\mathbf{X}^T) \\vec{w}\n",
    "\\end{align*}\n",
    "$$\n",
    "\n",
    "The goal is to minimize this error to optimize the ideal weights. Instead of using gradient descent, we take the derivative of the SSE with respect to the weights, set it equal to zero, and find a local minimum of the SSE function. This leads to the following optimal weights for the optimization problem:\n",
    "\n",
    "$$\n",
    "\\begin{align*}\n",
    "\\frac{\\partial (\\text{SSE})}{\\partial \\vec{w}} & = -2\\mathbf{X}^T\\vec{Y} + (\\mathbf{X}^T\\mathbf{X})\\vec{w} + \\vec{w}^T(\\mathbf{X}^T\\mathbf{X})\\\\\n",
    "& = -2\\mathbf{X}^T\\vec{Y} + 2(\\mathbf{X}^T\\mathbf{X})\\vec{w} = 0\n",
    "\\end{align*}\n",
    "$$\n",
    "\n",
    "Solving for the optimal weights, we get the following analytical solution:\n",
    "\n",
    "$$\\vec{w} = (\\mathbf{X}^T\\mathbf{X})^{-1}\\mathbf{X}^T\\vec{Y}$$\n",
    "\n",
    "In summary, for a given dataset with multiple attributes, we can represent the linear regression model as a product of weights and input features. The objective is to minimize the sum of squared errors (SSE) to find the optimal weights for the model. By taking the derivative of the SSE with respect to the weights and setting it to zero, we can determine the optimal weights for the optimization problem using the above equation. This concept can be translated into Python code as follows:"
   ]
  },
  {
   "cell_type": "code",
   "execution_count": 239,
   "metadata": {},
   "outputs": [],
   "source": [
    "def linear_regression(X, y):\n",
    "    # adding ones in the dataset X\n",
    "    X_0 = np.ones(X.shape[0])\n",
    "    X = np.column_stack([X_0, X])\n",
    "\n",
    "\n",
    "    XTX = X.T.dot(X)\n",
    "    XTX_inverse = np.linalg.inv(XTX)\n",
    "    w = XTX_inverse.dot(X.T).dot(y)\n",
    "    \n",
    "    return w[0], w[1:]"
   ]
  },
  {
   "attachments": {},
   "cell_type": "markdown",
   "metadata": {},
   "source": [
    "# Baseline solution"
   ]
  },
  {
   "attachments": {},
   "cell_type": "markdown",
   "metadata": {},
   "source": [
    "We will start with a simple method for feature creation by selecting a few numerical features and constructing the matrix $X$ using these features. Additionally, we will handle missing values by filling them with a substitute value. The most basic approach is to fill the missing values with zeros. Although this may not be the best way to deal with missing values, it is often sufficient. By setting the missing feature value to zero, the respective feature is effectively ignored."
   ]
  },
  {
   "cell_type": "code",
   "execution_count": 240,
   "metadata": {},
   "outputs": [],
   "source": [
    "base = ['engine_hp', 'engine_cylinders', 'highway_mpg', 'city_mpg', 'popularity']\n",
    "\n",
    "def prepare_X(df):\n",
    "    # select numerical columns\n",
    "    df_num = df[base]\n",
    "    # nan to zeros\n",
    "    df_num = df_num.fillna(0)\n",
    "    # return only features array\n",
    "    X = df_num.values\n",
    "    return X\n",
    "\n",
    "X_train = prepare_X(df_train)\n",
    "w_0, w = linear_regression(X_train, y_train)\n",
    "y_pred = w_0 + X_train.dot(w)"
   ]
  },
  {
   "cell_type": "code",
   "execution_count": 241,
   "metadata": {},
   "outputs": [
    {
     "data": {
      "image/png": "[encoded data removed]",
      "text/plain": [
       "<Figure size 432x288 with 1 Axes>"
      ]
     },
     "metadata": {
      "needs_background": "light"
     },
     "output_type": "display_data"
    }
   ],
   "source": [
    "plt.figure(figsize=(6, 4))\n",
    "\n",
    "sns.histplot(y_train, label='target', color='#222222', alpha=0.6, bins=40)\n",
    "sns.histplot(y_pred, label='prediction', color='#aaaaaa', alpha=0.8, bins=40)\n",
    "\n",
    "plt.legend()\n",
    "\n",
    "plt.ylabel('Frequency')\n",
    "plt.xlabel('Log(Price + 1)')\n",
    "plt.title('Predictions vs actual distribution')\n",
    "\n",
    "plt.show()"
   ]
  },
  {
   "attachments": {},
   "cell_type": "markdown",
   "metadata": {},
   "source": [
    "From the plot, we observe that the distribution of predicted values significantly differs from the actual values. This outcome suggests that the model might not be sufficiently robust to capture the target variable's distribution."
   ]
  },
  {
   "attachments": {},
   "cell_type": "markdown",
   "metadata": {},
   "source": [
    "Lets calculate the error function. A lower SSE value indicates a better fit of the model to the data.Also SSE is sensitive to the scale of the target variable, so it may be more informative to use a normalized metric such as mean squared error (MSE) or root mean squared error (RMSE) for comparison purposes.\n",
    "\n",
    "let's compare each one and see in pratics the results:"
   ]
  },
  {
   "cell_type": "code",
   "execution_count": 242,
   "metadata": {},
   "outputs": [
    {
     "name": "stdout",
     "output_type": "stream",
     "text": [
      "Train Dataset\n",
      "mse: : \n",
      " 0.5707185661356206 \n",
      "\n",
      "sse: : \n",
      " 4079.496310737416 \n",
      "\n",
      "rmse: : \n",
      " 0.7554591756909307 \n",
      "\n"
     ]
    }
   ],
   "source": [
    "def mse_sse_rmse(y, y_pred):\n",
    "    error = y_pred - y\n",
    "    mse = (error ** 2).mean()\n",
    "    sse = np.sum(error ** 2)\n",
    "    rmse = np.sqrt(mse)\n",
    "    return mse, sse, rmse\n",
    "\n",
    "# for training set\n",
    "mse, sse, rmse  = mse_sse_rmse(y_train, y_pred)\n",
    "print(\"Train Dataset\")\n",
    "printest('mse:', mse )\n",
    "printest('sse:', sse)\n",
    "printest('rmse:', rmse)"
   ]
  },
  {
   "cell_type": "code",
   "execution_count": 243,
   "metadata": {},
   "outputs": [
    {
     "name": "stdout",
     "output_type": "stream",
     "text": [
      "\n",
      "Validation Dataset\n",
      "mse: : \n",
      " 0.5803845734290475 \n",
      "\n",
      "sse: : \n",
      " 1382.4760539079912 \n",
      "\n",
      "rmse: : \n",
      " 0.7618297535729669 \n",
      "\n"
     ]
    }
   ],
   "source": [
    "# for validation set\n",
    "X_val = prepare_X(df_val)\n",
    "y_pred = w_0 + X_val.dot(w)\n",
    "mse, sse, rmse = mse_sse_rmse(y_val, y_pred)\n",
    "print(\"\\nValidation Dataset\")\n",
    "printest('mse:', mse )\n",
    "printest('sse:', sse)\n",
    "printest('rmse:', rmse)"
   ]
  },
  {
   "attachments": {},
   "cell_type": "markdown",
   "metadata": {},
   "source": [
    "The difference in the magnitude of these error metrics is because MSE and RMSE are average values, whereas SSE is the sum of all squared errors. The larger the dataset, the larger the SSE will be in comparison to the MSE and RMSE."
   ]
  },
  {
   "attachments": {},
   "cell_type": "markdown",
   "metadata": {},
   "source": [
    "# Simple feature engineering"
   ]
  },
  {
   "attachments": {},
   "cell_type": "markdown",
   "metadata": {},
   "source": [
    "## Handling numerical variables"
   ]
  },
  {
   "cell_type": "code",
   "execution_count": 244,
   "metadata": {},
   "outputs": [],
   "source": [
    "base = ['engine_hp', 'engine_cylinders', 'highway_mpg', 'city_mpg', 'popularity']\n",
    "def prepare_X(df):\n",
    "    \n",
    "    # create copy of input\n",
    "    df = df.copy()\n",
    "    features = base.copy()\n",
    "\n",
    "    # the dataset was created in 2017\n",
    "    df['age'] = 2017 - df['year']\n",
    "    features.append('age')\n",
    "\n",
    "    df_num = df[features]\n",
    "    df_num = df_num.fillna(0)\n",
    "    x = df_num.values\n",
    "    return x\n",
    "\n",
    "def rmse(y, y_pred):\n",
    "    error = y_pred - y\n",
    "    mse = (error ** 2).mean()\n",
    "    rmse = np.sqrt(mse)\n",
    "    return rmse"
   ]
  },
  {
   "cell_type": "code",
   "execution_count": 245,
   "metadata": {},
   "outputs": [
    {
     "name": "stdout",
     "output_type": "stream",
     "text": [
      "rmse for train : \n",
      " 0.5175461085504556 \n",
      "\n",
      "rmse for validation : \n",
      " 0.5171097946609381 \n",
      "\n"
     ]
    }
   ],
   "source": [
    "X_train = prepare_X(df_train)\n",
    "w_0, w = linear_regression(X_train, y_train)\n",
    "\n",
    "y_pred = w_0 + X_train.dot(w)\n",
    "printest('rmse for train', rmse(y_train, y_pred))\n",
    "\n",
    "X_val = prepare_X(df_val)\n",
    "y_pred = w_0 + X_val.dot(w)\n",
    "printest('rmse for validation', rmse(y_val, y_pred))"
   ]
  },
  {
   "cell_type": "code",
   "execution_count": 246,
   "metadata": {},
   "outputs": [
    {
     "data": {
      "image/png": "[encoded data removed]",
      "text/plain": [
       "<Figure size 432x288 with 1 Axes>"
      ]
     },
     "metadata": {
      "needs_background": "light"
     },
     "output_type": "display_data"
    }
   ],
   "source": [
    "plt.figure(figsize=(6, 4))\n",
    "\n",
    "\n",
    "sns.histplot(y_val, label='target', color='#222222', alpha=0.6, bins=40)\n",
    "sns.histplot(y_pred, label='prediction', color='#aaaaaa', alpha=0.8, bins=40)\n",
    "\n",
    "plt.legend()\n",
    "\n",
    "plt.ylabel('Frequency')\n",
    "plt.xlabel('Log(Price + 1)')\n",
    "plt.title('Predictions vs actual distribution')\n",
    "\n",
    "plt.show()"
   ]
  },
  {
   "attachments": {},
   "cell_type": "markdown",
   "metadata": {},
   "source": [
    "The validation error has improved to 0.517, which is a significant reduction from the previous value of 0.76. This demonstrates that incorporating the \"age\" attribute has indeed enhanced our predictions. Additionally, the distribution of predicted values now follows more closely the target distribution. This improvement is further confirmed by the updated validation RMSE score."
   ]
  },
  {
   "attachments": {},
   "cell_type": "markdown",
   "metadata": {},
   "source": [
    "## Handling categorical variables"
   ]
  },
  {
   "attachments": {},
   "cell_type": "markdown",
   "metadata": {},
   "source": [
    "\n",
    "Handling categorical data involves converting the categorical variables into a form that can be easily understood and processed by machine learning algorithms. One common method to achieve this is one-hot encoding, which creates binary features for each distinct category.\n",
    "\n",
    "To extract the possible set of values for each categorical column, we proceed as follows:"
   ]
  },
  {
   "cell_type": "code",
   "execution_count": 247,
   "metadata": {},
   "outputs": [
    {
     "name": "stdout",
     "output_type": "stream",
     "text": [
      "chevrolet     1123\n",
      "ford           881\n",
      "volkswagen     809\n",
      "toyota         746\n",
      "dodge          626\n",
      "nissan         558\n",
      "Name: make, dtype: int64 \n",
      "\n",
      "Above 600: : \n",
      " ['chevrolet' 'ford' 'volkswagen' 'toyota' 'dodge'] \n",
      "\n"
     ]
    }
   ],
   "source": [
    "print(df['make'].value_counts().head(6), \"\\n\")\n",
    "\n",
    "# cars banding with less then 600 will not be capture for the model\n",
    "printest(\"Above 600:\", df['make'].value_counts()[df['make'].value_counts() > 600].index.values)"
   ]
  },
  {
   "cell_type": "code",
   "execution_count": 248,
   "metadata": {},
   "outputs": [],
   "source": [
    "def prepare_X(df):\n",
    "    df = df.copy()\n",
    "    features = base.copy()\n",
    "\n",
    "    df['age'] = 2017 - df.year\n",
    "    features.append('age')\n",
    "\n",
    "    for v in [2, 3, 4]:\n",
    "        feature = 'num_doors_%s' % v\n",
    "        df[feature] = (df['number_of_doors'] == v).astype(int)\n",
    "        features.append(feature)\n",
    "\n",
    "    for v in ['chevrolet', 'ford', 'volkswagen', 'toyota', 'dodge']:\n",
    "        feature = 'is_make_%s' % v\n",
    "        df[feature] = (df['make'] == v).astype(int)\n",
    "        features.append(feature)\n",
    "\n",
    "    df_num = df[features]\n",
    "    df_num = df_num.fillna(0)\n",
    "    X = df_num.values\n",
    "    return X"
   ]
  },
  {
   "cell_type": "code",
   "execution_count": 249,
   "metadata": {},
   "outputs": [
    {
     "name": "stdout",
     "output_type": "stream",
     "text": [
      "train: : \n",
      " 0.505930401897355 \n",
      "\n",
      "validation: : \n",
      " 0.5074572881971692 \n",
      "\n"
     ]
    }
   ],
   "source": [
    "X_train = prepare_X(df_train)\n",
    "w_0, w = linear_regression(X_train, y_train)\n",
    "\n",
    "y_pred = w_0 + X_train.dot(w)\n",
    "printest('train:', rmse(y_train, y_pred))\n",
    "\n",
    "X_val = prepare_X(df_val)\n",
    "y_pred = w_0 + X_val.dot(w)\n",
    "printest('validation:', rmse(y_val, y_pred))"
   ]
  },
  {
   "attachments": {},
   "cell_type": "markdown",
   "metadata": {},
   "source": [
    "The previous value was 0.517, so we managed to improve the RMSE score further. We can use one more variables like engine_fuel_type:"
   ]
  },
  {
   "cell_type": "code",
   "execution_count": 250,
   "metadata": {},
   "outputs": [
    {
     "name": "stdout",
     "output_type": "stream",
     "text": [
      "regular_unleaded                  7172\n",
      "premium_unleaded_(required)       2009\n",
      "premium_unleaded_(recommended)    1523\n",
      "flex-fuel_(unleaded/e85)           899\n",
      "diesel                             154\n",
      "electric                            66\n",
      "Name: engine_fuel_type, dtype: int64 \n",
      "\n",
      "Above 899: : \n",
      " ['regular_unleaded' 'premium_unleaded_(required)'\n",
      " 'premium_unleaded_(recommended)' 'flex-fuel_(unleaded/e85)'] \n",
      "\n"
     ]
    }
   ],
   "source": [
    "print(df['engine_fuel_type'].value_counts().head(6), \"\\n\")\n",
    "\n",
    "# cars banding with less then 600 will not be capture for the model\n",
    "printest(\"Above 899:\", df['engine_fuel_type'].value_counts()[df['engine_fuel_type'].value_counts() > 890].index.values)"
   ]
  },
  {
   "cell_type": "code",
   "execution_count": 251,
   "metadata": {},
   "outputs": [],
   "source": [
    "def prepare_X(df):\n",
    "    df = df.copy()\n",
    "    features = base.copy()\n",
    "\n",
    "    df['age'] = 2017 - df.year\n",
    "    features.append('age')\n",
    "    \n",
    "    for v in [2, 3, 4]:\n",
    "        feature = 'num_doors_%s' % v\n",
    "        df[feature] = (df['number_of_doors'] == v).astype(int)\n",
    "        features.append(feature)\n",
    "\n",
    "    for v in ['chevrolet', 'ford', 'volkswagen', 'toyota', 'dodge']:\n",
    "        feature = 'is_make_%s' % v\n",
    "        df[feature] = (df['make'] == v).astype(int)\n",
    "        features.append(feature)\n",
    "\n",
    "    for v in ['regular_unleaded', 'premium_unleaded_(required)', \n",
    "              'premium_unleaded_(recommended)', 'flex-fuel_(unleaded/e85)']:\n",
    "        feature = 'is_type_%s' % v\n",
    "        df[feature] = (df['engine_fuel_type'] == v).astype(int)\n",
    "        features.append(feature)\n",
    "        \n",
    "    df_num = df[features]\n",
    "    df_num = df_num.fillna(0)\n",
    "    X = df_num.values\n",
    "    return X"
   ]
  },
  {
   "cell_type": "code",
   "execution_count": 252,
   "metadata": {},
   "outputs": [
    {
     "name": "stdout",
     "output_type": "stream",
     "text": [
      "train: : \n",
      " 0.4789034925604403 \n",
      "\n",
      "validation: : \n",
      " 0.4747016023882818 \n",
      "\n"
     ]
    }
   ],
   "source": [
    "X_train = prepare_X(df_train)\n",
    "w_0, w = linear_regression(X_train, y_train)\n",
    "\n",
    "y_pred = w_0 + X_train.dot(w)\n",
    "printest('train:', rmse(y_train, y_pred))\n",
    "\n",
    "X_val = prepare_X(df_val)\n",
    "y_pred = w_0 + X_val.dot(w)\n",
    "printest('validation:', rmse(y_val, y_pred))"
   ]
  },
  {
   "attachments": {},
   "cell_type": "markdown",
   "metadata": {},
   "source": [
    "Lets now add the following columns too:\n",
    "\n",
    "- transmission_type \n",
    "- driven_wheels \n",
    "- market_category \n",
    "- vehicle_size\n",
    "- vehicle_style"
   ]
  },
  {
   "cell_type": "code",
   "execution_count": 253,
   "metadata": {},
   "outputs": [],
   "source": [
    "def prepare_X(df):\n",
    "    df = df.copy()\n",
    "    features = base.copy()\n",
    "\n",
    "    df['age'] = 2017 - df.year\n",
    "    features.append('age')\n",
    "    \n",
    "    for v in [2, 3, 4]:\n",
    "        feature = 'num_doors_%s' % v\n",
    "        df[feature] = (df['number_of_doors'] == v).astype(int)\n",
    "        features.append(feature)\n",
    "\n",
    "    for v in ['chevrolet', 'ford', 'volkswagen', 'toyota', 'dodge']:\n",
    "        feature = 'is_make_%s' % v\n",
    "        df[feature] = (df['make'] == v).astype(int)\n",
    "        features.append(feature)\n",
    "\n",
    "    for v in ['regular_unleaded', 'premium_unleaded_(required)', \n",
    "              'premium_unleaded_(recommended)', 'flex-fuel_(unleaded/e85)']:\n",
    "        feature = 'is_type_%s' % v\n",
    "        df[feature] = (df['engine_fuel_type'] == v).astype(int)\n",
    "        features.append(feature)\n",
    "\n",
    "    for v in ['automatic', 'manual', 'automated_manual']:\n",
    "        feature = 'is_transmission_%s' % v\n",
    "        df[feature] = (df['transmission_type'] == v).astype(int)\n",
    "        features.append(feature)\n",
    "\n",
    "    for v in ['front_wheel_drive', 'rear_wheel_drive', 'all_wheel_drive', 'four_wheel_drive']:\n",
    "        feature = 'is_driven_wheens_%s' % v\n",
    "        df[feature] = (df['driven_wheels'] == v).astype(int)\n",
    "        features.append(feature)\n",
    "\n",
    "    for v in ['crossover', 'flex_fuel', 'luxury', 'luxury,performance', 'hatchback']:\n",
    "        feature = 'is_mc_%s' % v\n",
    "        df[feature] = (df['market_category'] == v).astype(int)\n",
    "        features.append(feature)\n",
    "\n",
    "    for v in ['compact', 'midsize', 'large']:\n",
    "        feature = 'is_size_%s' % v\n",
    "        df[feature] = (df['vehicle_size'] == v).astype(int)\n",
    "        features.append(feature)\n",
    "\n",
    "    for v in ['sedan', '4dr_suv', 'coupe', 'convertible', '4dr_hatchback']:\n",
    "        feature = 'is_style_%s' % v\n",
    "        df[feature] = (df['vehicle_style'] == v).astype(int)\n",
    "        features.append(feature)\n",
    "\n",
    "    df_num = df[features]\n",
    "    df_num = df_num.fillna(0)\n",
    "    X = df_num.values\n",
    "    return X"
   ]
  },
  {
   "cell_type": "code",
   "execution_count": 254,
   "metadata": {},
   "outputs": [
    {
     "name": "stdout",
     "output_type": "stream",
     "text": [
      "train: : \n",
      " 449.9966997402268 \n",
      "\n",
      "validation: : \n",
      " 291.8247878955515 \n",
      "\n"
     ]
    }
   ],
   "source": [
    "X_train = prepare_X(df_train)\n",
    "w_0, w = linear_regression(X_train, y_train)\n",
    "\n",
    "y_pred = w_0 + X_train.dot(w)\n",
    "printest('train:', rmse(y_train, y_pred))\n",
    "\n",
    "X_val = prepare_X(df_val)\n",
    "y_pred = w_0 + X_val.dot(w)\n",
    "printest('validation:', rmse(y_val, y_pred))"
   ]
  },
  {
   "attachments": {},
   "cell_type": "markdown",
   "metadata": {},
   "source": [
    "\n",
    "The observed value is noticeably worse than before. Contrary to our expectations, the introduction of new features has actually deteriorated the model's performance. We need to examine the underlying causes for this decline in the model's accuracy."
   ]
  },
  {
   "attachments": {},
   "cell_type": "markdown",
   "metadata": {},
   "source": [
    "# Regularization"
   ]
  },
  {
   "attachments": {},
   "cell_type": "markdown",
   "metadata": {},
   "source": [
    "## Ridge Regression ($L_2$)"
   ]
  },
  {
   "attachments": {},
   "cell_type": "markdown",
   "metadata": {},
   "source": [
    "Adding new features does not always help, and in our case, it made things a lot worse. The reason for this behavior is numerical instability and the presence of highly correlated features. When we introduce new columns to $X$, these columns might be highly correlated with existing columns, leading to interdependence among the predictor variables. This can result in the column vectors becoming linearly dependent or nearly linearly dependent, causing the matrix $(\\mathbf{X}^T\\mathbf{X})$ to be ill-conditioned (close to singular) or singular (non-invertible).\n",
    "\n",
    "If two or more columns of a matrix are not orthogonal to each other (i.e., they are correlated), it implies that the matrix is not invertible. Consequently, the optimal weights equation:\n",
    "\n",
    "$$\\vec{w} = (\\mathbf{X}^T\\mathbf{X})^{-1}\\mathbf{X}^T\\vec{Y}$$\n",
    "\n",
    "becomes problematic, as the inverse matrix $(\\mathbf{X}^T\\mathbf{X})$ is either hard to compute accurately or non-existent. This can result in large or unstable estimates of the regression coefficients, which can lead to poor model performance.\n",
    "\n",
    "Regularization aims to ensure the existence of the inverse by forcing the matrix to be invertible, controlling the weights of the model so that they behave correctly and do not become too large.\n",
    "\n",
    "Instead of merely minimizing the squared residual error $||\\vec{Y} - \\vec{\\hat{Y}}||^2$, we add a regularization term involving the squared norm of the weights vector $|| \\vec{w} ||^2$:\n",
    "\n",
    "$$L(\\vec{w}) = ||\\vec{Y} - \\vec{\\hat{Y}}||^2 + \\alpha || \\vec{w} ||^2$$\n",
    "\n",
    "The goal is to minimize $L(\\vec{w})$. To achieve this, we take the derivative of $L(\\vec{w})$ with respect to the weights, set it equal to zero, and find a local minimum of the function. This results in the following optimal weights:\n",
    "\n",
    "$$\\frac{dL(\\vec{w})}{d\\vec{w}} = -2\\mathbf{X}^T\\vec{Y} + 2(\\mathbf{X}^T\\mathbf{X})\\vec{w} +2 \\alpha \\vec{w}= 0$$\n",
    "\n",
    "therefore, the optimal solution is\n",
    "\n",
    "$$\\vec{w} = (\\mathbf{X}^T\\mathbf{X}+ \\alpha \\mathbf{I})^{-1}\\mathbf{X}^T\\vec{Y}$$\n",
    "\n",
    "where $\\mathbf{I}$ is the identity matrix. The matrix $(\\mathbf{X}^T\\mathbf{X}+ \\alpha \\mathbf{I})$ is always invertible for $\\alpha > 0$. \n",
    "\n",
    "The reason behind this is that $\\mathbf{X}^T\\mathbf{X}$ is always symmetric and positive semi-definite, meaning all its eigenvalues are non-negative. However, this does not guarantee invertibility, as eigenvalues can still be zero, resulting in a singular matrix.\n",
    "\n",
    "When adding the two matrices, $(\\mathbf{X}^T\\mathbf{X} + \\alpha \\mathbf{I})$, the resulting matrix's eigenvalues are the sums of the corresponding eigenvalues of the original matrices. Since the eigenvalues of $\\mathbf{X}^T\\mathbf{X}$ are non-negative and those of $\\alpha \\mathbf{I}$ are positive, the eigenvalues of $(\\mathbf{X}^T\\mathbf{X} + \\alpha \\mathbf{I})$ are strictly positive. A symmetric matrix with strictly positive eigenvalues is positive definite, which are always invertible as none of their eigenvalues are equal to zero. Consequently, the matrix $(\\mathbf{X}^T\\mathbf{X} + \\alpha \\mathbf{I})$ is always invertible for $\\alpha > 0$.\n",
    "\n",
    "This concept can be translated into Python code as follows:"
   ]
  },
  {
   "cell_type": "code",
   "execution_count": 255,
   "metadata": {},
   "outputs": [],
   "source": [
    "def ridge_regression(X, y, alpha=0.0):\n",
    "    ones = np.ones(X.shape[0])\n",
    "    X = np.column_stack([ones, X])\n",
    "\n",
    "    XTX = X.T.dot(X)\n",
    "    reg = alpha * np.eye(XTX.shape[0])\n",
    "    XTX = XTX + reg\n",
    "\n",
    "    XTX_inv = np.linalg.inv(XTX)\n",
    "    w = XTX_inv.dot(X.T).dot(y)\n",
    "    \n",
    "    return w[0], w[1:]"
   ]
  },
  {
   "attachments": {},
   "cell_type": "markdown",
   "metadata": {},
   "source": [
    "Let’s check what happens with our weights for different values of $\\alpha$:"
   ]
  },
  {
   "cell_type": "code",
   "execution_count": 256,
   "metadata": {},
   "outputs": [
    {
     "name": "stdout",
     "output_type": "stream",
     "text": [
      "    0, -35090248846581164.00, 43.31, 35090248846596704.00\n",
      "0.001, 7.20, -0.10, 1.81\n",
      " 0.01, 7.18, -0.10, 1.81\n",
      "  0.1, 7.06, -0.10, 1.78\n",
      "    1, 6.22, -0.10, 1.56\n",
      "   10, 4.39, -0.09, 1.08\n"
     ]
    }
   ],
   "source": [
    "X_train = prepare_X(df_train)\n",
    "for a in [0, 0.001, 0.01, 0.1, 1, 10]:\n",
    "    w_0, w = ridge_regression(X_train, y_train, alpha=a)\n",
    "    print('%5s, %.2f, %.2f, %.2f' % (a, w_0, w[13], w[21]))"
   ]
  },
  {
   "attachments": {},
   "cell_type": "markdown",
   "metadata": {},
   "source": [
    "We start with 0, which is an unregularized solution, and get very large numbers. Then\n",
    "we try 0.001 and increase it 10 times on each step: 0.01, 0.1, 1, and 10. We see that the\n",
    "values that we selected become smaller as $\\alpha$ grows"
   ]
  },
  {
   "cell_type": "code",
   "execution_count": 257,
   "metadata": {},
   "outputs": [
    {
     "name": "stdout",
     "output_type": "stream",
     "text": [
      "train: : \n",
      " 0.4643517599887965 \n",
      "\n",
      "validation: : \n",
      " 0.46019290560254766 \n",
      "\n"
     ]
    }
   ],
   "source": [
    "X_train = prepare_X(df_train)\n",
    "w_0, w = ridge_regression(X_train, y_train, alpha=0.01)\n",
    "\n",
    "y_pred = w_0 + X_train.dot(w)\n",
    "printest('train:', rmse(y_train, y_pred))\n",
    "\n",
    "X_val = prepare_X(df_val)\n",
    "y_pred = w_0 + X_val.dot(w)\n",
    "printest('validation:', rmse(y_val, y_pred))"
   ]
  },
  {
   "cell_type": "code",
   "execution_count": 258,
   "metadata": {},
   "outputs": [
    {
     "name": "stdout",
     "output_type": "stream",
     "text": [
      " 1e-06 0.4601790827770288\n",
      "0.0001 0.46017900563014436\n",
      " 0.001 0.46018026939169865\n",
      "  0.01 0.46019290560254766\n",
      "   0.1 0.4603225354892668\n",
      "     1 0.461774930386105\n",
      "     5 0.4683348552864393\n",
      "    10 0.4756399340735128\n"
     ]
    }
   ],
   "source": [
    "X_train = prepare_X(df_train)\n",
    "X_val = prepare_X(df_val)\n",
    "\n",
    "for a in [0.000001, 0.0001, 0.001, 0.01, 0.1, 1, 5, 10]:\n",
    "    w_0, w = ridge_regression(X_train, y_train, alpha=a)\n",
    "    y_pred = w_0 + X_val.dot(w)\n",
    "    print('%6s' %a, rmse(y_val, y_pred))"
   ]
  },
  {
   "attachments": {},
   "cell_type": "markdown",
   "metadata": {},
   "source": [
    "# Using the model"
   ]
  },
  {
   "cell_type": "code",
   "execution_count": 269,
   "metadata": {},
   "outputs": [
    {
     "name": "stdout",
     "output_type": "stream",
     "text": [
      "validation: 0.46019290560254766\n",
      "test: 0.4571215681103809\n"
     ]
    }
   ],
   "source": [
    "X_train = prepare_X(df_train)\n",
    "w_0, w = ridge_regression(X_train, y_train, alpha=0.01)\n",
    "\n",
    "X_val = prepare_X(df_val)\n",
    "y_pred = w_0 + X_val.dot(w)\n",
    "print('validation:', rmse(y_val, y_pred))\n",
    "\n",
    "X_test = prepare_X(df_test)\n",
    "y_pred = w_0 + X_test.dot(w)\n",
    "print('test:', rmse(y_test, y_pred))"
   ]
  },
  {
   "cell_type": "code",
   "execution_count": 273,
   "metadata": {},
   "outputs": [
    {
     "data": {
      "image/png": "[encoded data removed]",
      "text/plain": [
       "<Figure size 432x288 with 1 Axes>"
      ]
     },
     "metadata": {
      "needs_background": "light"
     },
     "output_type": "display_data"
    }
   ],
   "source": [
    "plt.figure(figsize=(6, 4))\n",
    "\n",
    "sns.histplot(y_val, label='target', color='#222222', alpha=0.6, bins=40)\n",
    "sns.histplot(y_pred, label='prediction', color='#aaaaaa', alpha=0.8, bins=40)\n",
    "\n",
    "plt.legend()\n",
    "\n",
    "plt.ylabel('Frequency')\n",
    "plt.xlabel('Log(Price + 1)')\n",
    "plt.title('Predictions vs actual distribution')\n",
    "\n",
    "plt.show()"
   ]
  },
  {
   "attachments": {},
   "cell_type": "markdown",
   "metadata": {},
   "source": [
    "As observed, our model demonstrates a robust ability to predict car prices within the logarithmic scale range of $[10,11]$. This corresponds to a price range of $\\$22,000$ to $\\$60,000$ in practical terms. Let's apply our model to predict car prices:"
   ]
  },
  {
   "cell_type": "code",
   "execution_count": 261,
   "metadata": {},
   "outputs": [
    {
     "data": {
      "text/plain": [
       "make                                toyota\n",
       "model                                venza\n",
       "year                                  2013\n",
       "engine_fuel_type          regular_unleaded\n",
       "engine_hp                            268.0\n",
       "engine_cylinders                       6.0\n",
       "transmission_type                automatic\n",
       "driven_wheels              all_wheel_drive\n",
       "number_of_doors                        4.0\n",
       "market_category      crossover,performance\n",
       "vehicle_size                       midsize\n",
       "vehicle_style                        wagon\n",
       "highway_mpg                             25\n",
       "city_mpg                                18\n",
       "popularity                            2031\n",
       "Name: 11270, dtype: object"
      ]
     },
     "execution_count": 261,
     "metadata": {},
     "output_type": "execute_result"
    }
   ],
   "source": [
    "# to select the features of the test data\n",
    "df_test.iloc[4]"
   ]
  },
  {
   "cell_type": "code",
   "execution_count": 274,
   "metadata": {},
   "outputs": [
    {
     "name": "stdout",
     "output_type": "stream",
     "text": [
      "Suggested price : \n",
      " 28299.495500572095 \n",
      "\n",
      "Suggested price : \n",
      " 31120 \n",
      "\n"
     ]
    }
   ],
   "source": [
    "i = 4\n",
    "criteria = df_test.iloc[i].to_dict()\n",
    "criteria\n",
    "\n",
    "X_test = prepare_X(pd.DataFrame([criteria]))[0]\n",
    "y_pred = w_0 + X_test.dot(w)\n",
    "# exponential because we take the log(x+1) before\n",
    "price_suggestion = np.expm1(y_pred)\n",
    "\n",
    "printest(\"Suggested price\",price_suggestion)\n",
    "printest(\"Suggested price\",y_test_orig[i])\n"
   ]
  },
  {
   "attachments": {},
   "cell_type": "markdown",
   "metadata": {},
   "source": [
    "Looking at the results, it's clear that our model's predictions match pretty closely with the actual price of the chosen car, based on the parameters we set. The predicted prices fall within the $22,000 to $60,000 range. This shows that our model does a good job at predicting prices within this range, and it's a strong sign of the model's potential in this field."
   ]
  }
 ],
 "metadata": {
  "kernelspec": {
   "display_name": "Python 3",
   "language": "python",
   "name": "python3"
  },
  "language_info": {
   "codemirror_mode": {
    "name": "ipython",
    "version": 3
   },
   "file_extension": ".py",
   "mimetype": "text/x-python",
   "name": "python",
   "nbconvert_exporter": "python",
   "pygments_lexer": "ipython3",
   "version": "3.10.2"
  },
  "orig_nbformat": 4,
  "vscode": {
   "interpreter": {
    "hash": "0743c798041383927c03f3bae5eca888e94e4777f716cdd511cdff96fbdedc02"
   }
  }
 },
 "nbformat": 4,
 "nbformat_minor": 2
}
