{
 "cells": [
  {
   "cell_type": "code",
   "execution_count": 300,
   "metadata": {},
   "outputs": [],
   "source": [
    "import pandas as pd\n",
    "import numpy as np\n",
    "import seaborn as sns\n",
    "from matplotlib import pyplot as plt\n",
    "import xgboost as xgb\n",
    "\n",
    "# sklearn\n",
    "from sklearn.tree import DecisionTreeClassifier\n",
    "from sklearn.ensemble import RandomForestClassifier\n",
    "from sklearn.model_selection import train_test_split\n",
    "from sklearn.metrics import roc_auc_score, roc_curve\n",
    "from sklearn.feature_extraction import DictVectorizer\n",
    "from sklearn.tree import export_text"
   ]
  },
  {
   "cell_type": "code",
   "execution_count": 301,
   "metadata": {},
   "outputs": [],
   "source": [
    "def printest(args, value):\n",
    "    return print( \"{} : \\n {} \\n\".format(args, value) )"
   ]
  },
  {
   "attachments": {},
   "cell_type": "markdown",
   "metadata": {},
   "source": [
    "# Data Preparation"
   ]
  },
  {
   "cell_type": "code",
   "execution_count": 302,
   "metadata": {},
   "outputs": [
    {
     "data": {
      "text/html": [
       "<div>\n",
       "<style scoped>\n",
       "    .dataframe tbody tr th:only-of-type {\n",
       "        vertical-align: middle;\n",
       "    }\n",
       "\n",
       "    .dataframe tbody tr th {\n",
       "        vertical-align: top;\n",
       "    }\n",
       "\n",
       "    .dataframe thead th {\n",
       "        text-align: right;\n",
       "    }\n",
       "</style>\n",
       "<table border=\"1\" class=\"dataframe\">\n",
       "  <thead>\n",
       "    <tr style=\"text-align: right;\">\n",
       "      <th></th>\n",
       "      <th>status</th>\n",
       "      <th>seniority</th>\n",
       "      <th>home</th>\n",
       "      <th>time</th>\n",
       "      <th>age</th>\n",
       "      <th>marital</th>\n",
       "      <th>records</th>\n",
       "      <th>job</th>\n",
       "      <th>expenses</th>\n",
       "      <th>income</th>\n",
       "      <th>assets</th>\n",
       "      <th>debt</th>\n",
       "      <th>amount</th>\n",
       "      <th>price</th>\n",
       "    </tr>\n",
       "  </thead>\n",
       "  <tbody>\n",
       "    <tr>\n",
       "      <th>0</th>\n",
       "      <td>1</td>\n",
       "      <td>9</td>\n",
       "      <td>1</td>\n",
       "      <td>60</td>\n",
       "      <td>30</td>\n",
       "      <td>2</td>\n",
       "      <td>1</td>\n",
       "      <td>3</td>\n",
       "      <td>73</td>\n",
       "      <td>129</td>\n",
       "      <td>0</td>\n",
       "      <td>0</td>\n",
       "      <td>800</td>\n",
       "      <td>846</td>\n",
       "    </tr>\n",
       "    <tr>\n",
       "      <th>1</th>\n",
       "      <td>1</td>\n",
       "      <td>17</td>\n",
       "      <td>1</td>\n",
       "      <td>60</td>\n",
       "      <td>58</td>\n",
       "      <td>3</td>\n",
       "      <td>1</td>\n",
       "      <td>1</td>\n",
       "      <td>48</td>\n",
       "      <td>131</td>\n",
       "      <td>0</td>\n",
       "      <td>0</td>\n",
       "      <td>1000</td>\n",
       "      <td>1658</td>\n",
       "    </tr>\n",
       "  </tbody>\n",
       "</table>\n",
       "</div>"
      ],
      "text/plain": [
       "   status  seniority  home  time  age  marital  records  job  expenses  \\\n",
       "0       1          9     1    60   30        2        1    3        73   \n",
       "1       1         17     1    60   58        3        1    1        48   \n",
       "\n",
       "   income  assets  debt  amount  price  \n",
       "0     129       0     0     800    846  \n",
       "1     131       0     0    1000   1658  "
      ]
     },
     "execution_count": 302,
     "metadata": {},
     "output_type": "execute_result"
    }
   ],
   "source": [
    "df = pd.read_csv('Data/CreditScoring.csv')\n",
    "df.columns = df.columns.str.lower()\n",
    "df.head(2)"
   ]
  },
  {
   "attachments": {},
   "cell_type": "markdown",
   "metadata": {},
   "source": [
    "Categorical variables are represented by numbers. For converting, we'll use the following map (extracted from [Part1_CredScoring_Processing.R](https://github.com/gastonstat/CreditScoring/blob/master/Part1_CredScoring_Processing.R)). It's code in R which we'll translate to Pandas."
   ]
  },
  {
   "cell_type": "code",
   "execution_count": 303,
   "metadata": {},
   "outputs": [
    {
     "data": {
      "text/html": [
       "<div>\n",
       "<style scoped>\n",
       "    .dataframe tbody tr th:only-of-type {\n",
       "        vertical-align: middle;\n",
       "    }\n",
       "\n",
       "    .dataframe tbody tr th {\n",
       "        vertical-align: top;\n",
       "    }\n",
       "\n",
       "    .dataframe thead th {\n",
       "        text-align: right;\n",
       "    }\n",
       "</style>\n",
       "<table border=\"1\" class=\"dataframe\">\n",
       "  <thead>\n",
       "    <tr style=\"text-align: right;\">\n",
       "      <th></th>\n",
       "      <th>status</th>\n",
       "      <th>seniority</th>\n",
       "      <th>home</th>\n",
       "      <th>time</th>\n",
       "      <th>age</th>\n",
       "      <th>marital</th>\n",
       "      <th>records</th>\n",
       "      <th>job</th>\n",
       "      <th>expenses</th>\n",
       "      <th>income</th>\n",
       "      <th>assets</th>\n",
       "      <th>debt</th>\n",
       "      <th>amount</th>\n",
       "      <th>price</th>\n",
       "    </tr>\n",
       "  </thead>\n",
       "  <tbody>\n",
       "    <tr>\n",
       "      <th>0</th>\n",
       "      <td>ok</td>\n",
       "      <td>9</td>\n",
       "      <td>rent</td>\n",
       "      <td>60</td>\n",
       "      <td>30</td>\n",
       "      <td>married</td>\n",
       "      <td>no</td>\n",
       "      <td>freelance</td>\n",
       "      <td>73</td>\n",
       "      <td>129</td>\n",
       "      <td>0</td>\n",
       "      <td>0</td>\n",
       "      <td>800</td>\n",
       "      <td>846</td>\n",
       "    </tr>\n",
       "    <tr>\n",
       "      <th>1</th>\n",
       "      <td>ok</td>\n",
       "      <td>17</td>\n",
       "      <td>rent</td>\n",
       "      <td>60</td>\n",
       "      <td>58</td>\n",
       "      <td>widow</td>\n",
       "      <td>no</td>\n",
       "      <td>fixed</td>\n",
       "      <td>48</td>\n",
       "      <td>131</td>\n",
       "      <td>0</td>\n",
       "      <td>0</td>\n",
       "      <td>1000</td>\n",
       "      <td>1658</td>\n",
       "    </tr>\n",
       "  </tbody>\n",
       "</table>\n",
       "</div>"
      ],
      "text/plain": [
       "  status  seniority  home  time  age  marital records        job  expenses  \\\n",
       "0     ok          9  rent    60   30  married      no  freelance        73   \n",
       "1     ok         17  rent    60   58    widow      no      fixed        48   \n",
       "\n",
       "   income  assets  debt  amount  price  \n",
       "0     129       0     0     800    846  \n",
       "1     131       0     0    1000   1658  "
      ]
     },
     "execution_count": 303,
     "metadata": {},
     "output_type": "execute_result"
    }
   ],
   "source": [
    "# transform numerical values to categorical\n",
    "status_values = { \n",
    "    1: 'ok', \n",
    "    2:'default',\n",
    "    0: 'unk'\n",
    "}\n",
    "home_values = {\n",
    "    1: 'rent',\n",
    "    2: 'owner',\n",
    "    3: 'private',\n",
    "    4: 'ignore',\n",
    "    5: 'parents',\n",
    "    6: 'other',\n",
    "    0: 'unk'\n",
    "}\n",
    "marital_values = {\n",
    "    1: 'single',\n",
    "    2: 'married',\n",
    "    3: 'widow',\n",
    "    4: 'separated',\n",
    "    5: 'divorced',\n",
    "    0: 'unk'\n",
    "}\n",
    "records_values = {\n",
    "    1: 'no',\n",
    "    2: 'yes',\n",
    "    0: 'unk'\n",
    "}\n",
    "job_values = {\n",
    "    1: 'fixed',\n",
    "    2: 'partime',\n",
    "    3: 'freelance',\n",
    "    4: 'others',\n",
    "    0: 'unk'\n",
    "}\n",
    "\n",
    "# map number to string\n",
    "df.status = df.status.map(status_values)\n",
    "df.home = df.home.map(home_values)\n",
    "df.marital = df.marital.map(marital_values)\n",
    "df.records = df.records.map(records_values)\n",
    "df.job = df.job.map(job_values)\n",
    "\n",
    "df.head(2)"
   ]
  },
  {
   "cell_type": "code",
   "execution_count": 304,
   "metadata": {},
   "outputs": [
    {
     "name": "stdout",
     "output_type": "stream",
     "text": [
      "categorical : \n",
      " ['status', 'home', 'marital', 'records', 'job'] \n",
      "\n",
      "numerical : \n",
      " ['seniority', 'time', 'age', 'expenses', 'income', 'assets', 'debt', 'amount', 'price'] \n",
      "\n"
     ]
    },
    {
     "data": {
      "text/plain": [
       "status     3\n",
       "home       7\n",
       "marital    6\n",
       "records    2\n",
       "job        5\n",
       "dtype: int64"
      ]
     },
     "execution_count": 304,
     "metadata": {},
     "output_type": "execute_result"
    }
   ],
   "source": [
    "boolean_mask = df.dtypes == 'object'\n",
    "\n",
    "categorical = list(df.dtypes[boolean_mask].index)\n",
    "printest('categorical' , categorical )\n",
    "\n",
    "numerical  = list(df.dtypes[~boolean_mask].index)\n",
    "printest('numerical' , numerical )\n",
    "\n",
    "df[categorical].nunique()"
   ]
  },
  {
   "cell_type": "code",
   "execution_count": 305,
   "metadata": {},
   "outputs": [
    {
     "data": {
      "text/html": [
       "<div>\n",
       "<style scoped>\n",
       "    .dataframe tbody tr th:only-of-type {\n",
       "        vertical-align: middle;\n",
       "    }\n",
       "\n",
       "    .dataframe tbody tr th {\n",
       "        vertical-align: top;\n",
       "    }\n",
       "\n",
       "    .dataframe thead th {\n",
       "        text-align: right;\n",
       "    }\n",
       "</style>\n",
       "<table border=\"1\" class=\"dataframe\">\n",
       "  <thead>\n",
       "    <tr style=\"text-align: right;\">\n",
       "      <th></th>\n",
       "      <th>seniority</th>\n",
       "      <th>time</th>\n",
       "      <th>age</th>\n",
       "      <th>expenses</th>\n",
       "      <th>income</th>\n",
       "      <th>assets</th>\n",
       "      <th>debt</th>\n",
       "      <th>amount</th>\n",
       "      <th>price</th>\n",
       "    </tr>\n",
       "  </thead>\n",
       "  <tbody>\n",
       "    <tr>\n",
       "      <th>count</th>\n",
       "      <td>4455.0</td>\n",
       "      <td>4455.0</td>\n",
       "      <td>4455.0</td>\n",
       "      <td>4455.0</td>\n",
       "      <td>4455.0</td>\n",
       "      <td>4455.0</td>\n",
       "      <td>4455.0</td>\n",
       "      <td>4455.0</td>\n",
       "      <td>4455.0</td>\n",
       "    </tr>\n",
       "    <tr>\n",
       "      <th>mean</th>\n",
       "      <td>8.0</td>\n",
       "      <td>46.0</td>\n",
       "      <td>37.0</td>\n",
       "      <td>56.0</td>\n",
       "      <td>763317.0</td>\n",
       "      <td>1060341.0</td>\n",
       "      <td>404382.0</td>\n",
       "      <td>1039.0</td>\n",
       "      <td>1463.0</td>\n",
       "    </tr>\n",
       "    <tr>\n",
       "      <th>std</th>\n",
       "      <td>8.0</td>\n",
       "      <td>15.0</td>\n",
       "      <td>11.0</td>\n",
       "      <td>20.0</td>\n",
       "      <td>8703625.0</td>\n",
       "      <td>10217569.0</td>\n",
       "      <td>6344253.0</td>\n",
       "      <td>475.0</td>\n",
       "      <td>628.0</td>\n",
       "    </tr>\n",
       "    <tr>\n",
       "      <th>min</th>\n",
       "      <td>0.0</td>\n",
       "      <td>6.0</td>\n",
       "      <td>18.0</td>\n",
       "      <td>35.0</td>\n",
       "      <td>0.0</td>\n",
       "      <td>0.0</td>\n",
       "      <td>0.0</td>\n",
       "      <td>100.0</td>\n",
       "      <td>105.0</td>\n",
       "    </tr>\n",
       "    <tr>\n",
       "      <th>25%</th>\n",
       "      <td>2.0</td>\n",
       "      <td>36.0</td>\n",
       "      <td>28.0</td>\n",
       "      <td>35.0</td>\n",
       "      <td>80.0</td>\n",
       "      <td>0.0</td>\n",
       "      <td>0.0</td>\n",
       "      <td>700.0</td>\n",
       "      <td>1118.0</td>\n",
       "    </tr>\n",
       "    <tr>\n",
       "      <th>50%</th>\n",
       "      <td>5.0</td>\n",
       "      <td>48.0</td>\n",
       "      <td>36.0</td>\n",
       "      <td>51.0</td>\n",
       "      <td>120.0</td>\n",
       "      <td>3500.0</td>\n",
       "      <td>0.0</td>\n",
       "      <td>1000.0</td>\n",
       "      <td>1400.0</td>\n",
       "    </tr>\n",
       "    <tr>\n",
       "      <th>75%</th>\n",
       "      <td>12.0</td>\n",
       "      <td>60.0</td>\n",
       "      <td>45.0</td>\n",
       "      <td>72.0</td>\n",
       "      <td>166.0</td>\n",
       "      <td>6000.0</td>\n",
       "      <td>0.0</td>\n",
       "      <td>1300.0</td>\n",
       "      <td>1692.0</td>\n",
       "    </tr>\n",
       "    <tr>\n",
       "      <th>max</th>\n",
       "      <td>48.0</td>\n",
       "      <td>72.0</td>\n",
       "      <td>68.0</td>\n",
       "      <td>180.0</td>\n",
       "      <td>99999999.0</td>\n",
       "      <td>99999999.0</td>\n",
       "      <td>99999999.0</td>\n",
       "      <td>5000.0</td>\n",
       "      <td>11140.0</td>\n",
       "    </tr>\n",
       "  </tbody>\n",
       "</table>\n",
       "</div>"
      ],
      "text/plain": [
       "       seniority    time     age  expenses      income      assets  \\\n",
       "count     4455.0  4455.0  4455.0    4455.0      4455.0      4455.0   \n",
       "mean         8.0    46.0    37.0      56.0    763317.0   1060341.0   \n",
       "std          8.0    15.0    11.0      20.0   8703625.0  10217569.0   \n",
       "min          0.0     6.0    18.0      35.0         0.0         0.0   \n",
       "25%          2.0    36.0    28.0      35.0        80.0         0.0   \n",
       "50%          5.0    48.0    36.0      51.0       120.0      3500.0   \n",
       "75%         12.0    60.0    45.0      72.0       166.0      6000.0   \n",
       "max         48.0    72.0    68.0     180.0  99999999.0  99999999.0   \n",
       "\n",
       "             debt  amount    price  \n",
       "count      4455.0  4455.0   4455.0  \n",
       "mean     404382.0  1039.0   1463.0  \n",
       "std     6344253.0   475.0    628.0  \n",
       "min           0.0   100.0    105.0  \n",
       "25%           0.0   700.0   1118.0  \n",
       "50%           0.0  1000.0   1400.0  \n",
       "75%           0.0  1300.0   1692.0  \n",
       "max    99999999.0  5000.0  11140.0  "
      ]
     },
     "execution_count": 305,
     "metadata": {},
     "output_type": "execute_result"
    }
   ],
   "source": [
    "# Stats for the dataset\n",
    "df.describe().round()"
   ]
  },
  {
   "attachments": {},
   "cell_type": "markdown",
   "metadata": {},
   "source": [
    "The maximum value is 99999999, and indicate missing values. Let's replace it by `NaN`: "
   ]
  },
  {
   "cell_type": "code",
   "execution_count": 306,
   "metadata": {},
   "outputs": [
    {
     "data": {
      "text/plain": [
       "status        0\n",
       "seniority     0\n",
       "home          0\n",
       "time          0\n",
       "age           0\n",
       "marital       0\n",
       "records       0\n",
       "job           0\n",
       "expenses      0\n",
       "income       34\n",
       "assets       47\n",
       "debt         18\n",
       "amount        0\n",
       "price         0\n",
       "dtype: int64"
      ]
     },
     "execution_count": 306,
     "metadata": {},
     "output_type": "execute_result"
    }
   ],
   "source": [
    "for i in ['income', 'assets', 'debt']:\n",
    "    df[i] = df[i].replace(to_replace = 99999999, value = np.nan )\n",
    "\n",
    "df.isna().sum()"
   ]
  },
  {
   "attachments": {},
   "cell_type": "markdown",
   "metadata": {},
   "source": [
    "For the target variable is need to exclude the status with  value 'unk'."
   ]
  },
  {
   "cell_type": "code",
   "execution_count": 307,
   "metadata": {},
   "outputs": [
    {
     "name": "stdout",
     "output_type": "stream",
     "text": [
      "ok         3200\n",
      "default    1254\n",
      "Name: status, dtype: int64\n"
     ]
    }
   ],
   "source": [
    "# tilde (~) operator is a bit-wise NOT operator\n",
    "df = df[ ~df.status.isin(['unk'])]\n",
    "print(df.status.value_counts())"
   ]
  },
  {
   "attachments": {},
   "cell_type": "markdown",
   "metadata": {},
   "source": [
    "Now is necessary to split the dataset, handle missing values and use one-hot encode to prepare the feature matrix $\\mathbf{X}$ and target variable vector $\\mathbf{y}$. For this is defined a function to handle the dataset:"
   ]
  },
  {
   "cell_type": "code",
   "execution_count": 308,
   "metadata": {},
   "outputs": [
    {
     "data": {
      "text/plain": [
       "(4454, 14)"
      ]
     },
     "execution_count": 308,
     "metadata": {},
     "output_type": "execute_result"
    }
   ],
   "source": [
    "df.shape"
   ]
  },
  {
   "cell_type": "code",
   "execution_count": 309,
   "metadata": {},
   "outputs": [],
   "source": [
    "def prepare_data(df):\n",
    "\n",
    "    # split in train (60%), validation (20%) and test (20%)\n",
    "    # 0.8 and 0.2\n",
    "    df_train_full, df_test = train_test_split(df, test_size = 0.2,  random_state = 11)\n",
    "    # 0.75 * 0.8 = 0.6 and  0.25 * 0.8 = 0.2 \n",
    "    df_train, df_val = train_test_split(df_train_full, test_size = 0.25 ,  random_state = 11)\n",
    "\n",
    "    # y is “True/1” if the client defaulted and “False/0” otherwise\n",
    "    y_train = (df_train.status == 'default').values\n",
    "    y_val = (df_val.status == 'default').values\n",
    "\n",
    "    del df_train['status']\n",
    "    del df_val['status']\n",
    "\n",
    "    df_train = df_train.fillna(0)\n",
    "    df_val = df_val.fillna(0)\n",
    "\n",
    "    dict_train = df_train.to_dict(orient = 'records')\n",
    "    dict_val = df_val.to_dict(orient = 'records')\n",
    "\n",
    "    dv = DictVectorizer(sparse = False)\n",
    "    X_train = dv.fit_transform(dict_train)\n",
    "    X_val = dv.transform(dict_val)\n",
    "\n",
    "\n",
    "    return X_train, X_val, y_train, y_val, dv\n",
    "\n",
    "X_train, X_val, y_train, y_val, dv = prepare_data(df)"
   ]
  },
  {
   "attachments": {},
   "cell_type": "markdown",
   "metadata": {},
   "source": [
    "# Decision Trees - Theory"
   ]
  },
  {
   "attachments": {},
   "cell_type": "markdown",
   "metadata": {},
   "source": [
    "Consider a hypothetical dataset, denoted as $\\mathbf{D}$, consisting of multiple attributes and a target variable:\n",
    "\n",
    "$$\\mathbf{D} =\n",
    "\\left( \\begin{array}{c|cccc|c}\n",
    "~    &X_{0}&X_{1}&\\cdots & X_{d}  & \\mathbf{y}\\\\\n",
    "\\hline\n",
    "\\mathbf{x}_{1} &1& x_{11}& \\cdots&x_{1d}&y_1 \\\\\n",
    "\\vdots&\\vdots&\\vdots&\\ddots&\\vdots&\\vdots\\\\\n",
    "\\mathbf{x}_{n}&1&x_{n1}&\\cdots&x_{nd}&y_n\n",
    "\\end{array} \\right).$$\n",
    "\n",
    "This matrix $\\mathbf{D}$ represents our dataset. Each row corresponds to a unique client and each column (aside from the last one) corresponds to a specific attribute or feature of that client. $X_0$ is a column of ones, often called the bias or intercept term. We assume the attribute $X_j$ can be either numeric or categorical, and there are $k$ distinct classes, such that elements of $\\mathbf{y} = (y_1, \\cdots, y_i, \\cdots, y_n)^T$ can take values $y_i \\in {c_1, \\cdots, c_k}$.\n",
    "\n",
    "A decision tree is a recursive model that employs partition-based methods to predict the class $\\hat{y}_i$ for each instance $\\mathbf{x}_i$. The process starts with splitting the data into two subsets, denoted as $\\mathbf{D}_Y$ and $\\mathbf{D}_N$, by an axis-parallel hyperplane. The subsets are further divided recursively, aiming to achieve a state where the majority of points within a subset belong to the same class.\n",
    "\n",
    "Let's now illustrate the method of using an axis-parallel hyperplane to divide our dataset into smaller subsets. A hyperplane refers to candy a plane equation for dimension higher then three, in three dimension we would have a  plane, and in two dimension we would have a line. The equation for the hyperplane is the same equation used in linear regression, with the difference that here is an inequality:\n",
    "\n",
    "$$h(\\mathbf{X}) = \\mathbf{w}^T\\mathbf{X}\\leq 0$$\n",
    "\n",
    "Here, the inequality expresses that we're interested in a region bounded by the hyperplane in a d-dimensional space with axes $X_{1}, \\cdots,X_{j}, \\cdots, X_{d}$ (excluding $X_{0}$, which isn't an axis). The weights in this case, $\\mathbf{w} = (w_0, 0, \\cdots, 1,\\cdots, 0)^T$, are different from those in linear regression. Only the bias term $w_0$ and the jth element are non-zero, giving us:\n",
    "\n",
    "\n",
    "$$w_0X_0 + 1.X_j\\leq 0$$\n",
    "\n",
    "if we call the bias term as $v = -w_0$ and knowing that $X_0$ is a unit vector, then\n",
    "\n",
    "$$X_j\\leq \\mathbb{I}v$$\n",
    "\n",
    "where selecting different values for the offset $v$ gives different hyperplanes along the dimension $X_j$. The decision or split point $X_j\\leq v$ thus splits the input data space (denoted as $\\mathcal{R}$) into two regions, $\\mathcal{R}_Y$ (satisfying the decision) and $\\mathcal{R}_N$ (not satisfying the decision).\n",
    "\n",
    "Each split of $\\mathcal{R}$ into $\\mathcal{R}_Y$ and $\\mathcal{R}_N$ induces a binary partition of the corresponding data points in $\\mathbf{D}$. Specifically, a split point of the form $X_j\\leq v$ induces the data partition\n",
    "\n",
    "$$\\mathbf{D}_Y =  \\{\\mathbf{x} \\in \\mathbf{D}| x_j \\leq v\\}$$\n",
    "$$\\mathbf{D}_N =  \\{\\mathbf{x} \\in \\mathbf{D}| x_j > v\\}$$\n",
    "\n",
    "where $\\mathbf{D}_Y$ denotes the subset of data points that lie in region $\\mathcal{R}_Y$ and $\\mathbf{D}_N$ denotes the subset of data points that lie in $\\mathcal{R}_N$.\n",
    "\n",
    "The attribute $X_j$ in the dataset $\\mathbf{D}$ could be either numeric or categorical. For numeric attributes, the split points take the form $X_j\\leq v$ for some value $v$ within the attribute's range. For categorical attributes, the split points are of the form $X_j \\in \\mathbf{V}$ for some subset $\\mathbf{V}$ of the attribute's domain."
   ]
  },
  {
   "attachments": {},
   "cell_type": "markdown",
   "metadata": {},
   "source": [
    "### **Numerical**\n",
    "\n",
    "When dealing with numerical values, an effective strategy is to consider only the midpoints between two successive distinct values of an attribute $X$ in the sample space $\\mathbf{D}$. Representing these midpoints as ${v_1, \\cdots, v_m}$, such that $v_1 < \\cdots < v_m$, each split point $X_j\\leq v$ requires us to estimate the probability mass function (PMF):\n",
    "\n",
    "$$P(c_i|\\mathbf{D}_Y) = P(c_i|X \\leq v) $$\n",
    "\n",
    "$$P(c_i|\\mathbf{D}_N) = P(c_i|X > v)$$\n",
    "\n",
    "\n",
    "By applying Bayes' theorem, we can compute these conditional probabilities. Here we are interested in the probability of the class $c_i$ happening given the partition dataset $\\mathbf{D}_N$ or $\\mathbf{D}_Y$. Using Bayes rule for the partition  $\\mathbf{D}_Y$:\n",
    "\n",
    "​$$P(c_i|X \\geq v) = \\frac{P(X \\geq v|c_i) \\cdot P(c_i)}{P(X \\geq v)} = \\frac{P(X \\geq v|c_i) \\cdot P(c_i)}{\\sum_k P(X \\geq v|c_k)P(c_k)} $$\n",
    "\n",
    "\n",
    "\n",
    "**prior probability $P(c_i)$**\n",
    "\n",
    "The prior probability for each class in dataset $\\mathbf{D}$ can be estimated as follows:\n",
    "\n",
    "$$P(c_i) = \\frac{n_i}{n}$$\n",
    "\n",
    "where $n_i$ is the total number of points in $\\mathbf{D}$ of class $c_i$ and $n$ is the total number of points in $\\mathbf{D}$.\n",
    "\n",
    "**Conditional probability $P(X \\geq v|c_i)$**\n",
    "\n",
    "The conditional probability helps understand the relationship between two sets of events. Here we have the set $X \\geq v$ of points from $\\mathbf{D}$ that has attribute values bigger then $v$, and the set of points from $\\mathbf{D}$ witch has class $c_i$ and we desire to find the relationship between this two sets. For the conditional probability can be calculated as:\n",
    "\n",
    "$$P(X \\geq v|c_i) = \\frac{P((X \\geq v) \\cap c_i)}{P(X \\geq v)} = \\frac{N_{vi}}{n_i}$$\n",
    "\n",
    "where $N_{vi}$ is the total number of points in the intersection set of the two events $X \\geq v$  and $c_i$. This means that we are looking at points from $\\mathbf{D}$ that has attribute values greater then v and with class $c_i$, and $n_i$ is the total number of points in $\\mathbf{D}$ of class $c_i$.\n",
    "\n",
    "\n",
    "Finally, the bayes rule can be written as \n",
    "\n",
    "$$P(c_i|\\mathbf{D}_Y) = P(c_i|X \\leq v) =  \\frac{P(X \\geq v|c_i) \\cdot P(c_i)}{\\sum_k P(X \\geq v|c_k)P(c_k)}$$\n",
    "\n",
    "$$P(c_i|\\mathbf{D}_Y) = \\frac{N_{vi}}{n} \\frac{\\sum_k N_{vk}}{n}$$\n",
    "\n",
    "then the PMF for partition $\\mathbf{D}_Y$ is\n",
    "\n",
    "$$P(c_i|\\mathbf{D}_Y) = \\frac{N_{vi}}{\\sum_k N_{vk}}$$\n",
    "\n",
    "and for $\\mathbf{D}_N$ can be calculated as $P(c_i|\\mathbf{D}_N) = 1 - P(c_i|\\mathbf{D}_Y)$:\n",
    "\n",
    "$$P(c_i|\\mathbf{D}_N) = \\frac{n_i - N_{vi}}{\\sum_k (n_k - N_{vk})}$$\n",
    "\n",
    "### **Categorical**\n",
    "\n",
    "For categorical values, we can use a similar process to derive the PMFs for the partition datasets $\\mathbf{D}_N$ and $\\mathbf{D}_Y$. In this case, $n_{vi}$ represents the number of points in the dataset $\\mathbf{D}$, with attribute value $v$ for attribute X and class $c_i$. Thus, we get:\n",
    "\n",
    "$$P(c_i|\\mathbf{D}_Y) = P(c_i|X \\in V) =  \\frac{\\sum_{v \\in V} n_{vi}}{\\sum_k \\sum_{v \\in V} n_{vk}}$$\n",
    "\n",
    "and\n",
    "\n",
    "$$P(c_i|\\mathbf{D}_N) = P(c_i|X \\notin V) =  \\frac{\\sum_{v \\notin V} n_{vi}}{\\sum_k \\sum_{v \\notin V} n_{vk}}$$\n",
    "\n",
    "where $n_{vi}$ is the number of points in the dataset $\\mathbf{D}$, with attribute value $v$ for attribute X and class $c_i$."
   ]
  },
  {
   "attachments": {},
   "cell_type": "markdown",
   "metadata": {},
   "source": [
    "### **Evaluating split points**\n",
    "\n",
    "For a numerical or categorical attribute split point, defined as $X\\leq v$ or $X \\in \\mathbf{V}$, we require a scoring criterion to effectively separate the different class labels ${c_1, \\cdots, c_k}$.\n",
    "\n",
    "**Information Gain**\n",
    "\n",
    "Information gain measures the reduction of disorder or uncertainty in a system. The goal is to use entropy as a metric for each partition, favoring a lower entropy if the partition is pure (i.e., most points have the same class label). Conversely, if class labels are mixed with no majority class, a partition has higher entropy.\n",
    "\n",
    "The entropy of a set of labeled points $\\mathbf{D}$ is defined as:\n",
    "\n",
    "$$H(\\mathbf{D}) = - \\sum^{k}_{i=1} P(c_i| \\mathbf{D}) \\log{P(c_i| \\mathbf{D})}$$\n",
    "\n",
    "where $P(x_i| \\mathbf{D})$ is the probability of class $c_i$ in $\\mathbf{D}$, and $k$ is the number of classes.\n",
    "\n",
    "When a split point partitions $\\mathbf{D}$ into $\\mathbf{D}_Y$ and $\\mathbf{D}_N$, we define the split entropy as the weighted entropy of each of the resulting partitions:\n",
    "\n",
    "$$H(\\mathbf{D}_Y, \\mathbf{D}_N) = \\frac{n_Y}{n}H(\\mathbf{D}_Y) + \\frac{n_N}{n}H(\\mathbf{D}_N)$$\n",
    "\n",
    "where $n = |\\mathbf{D}|$ is the number of points in $\\mathbf{D}$, and $n_Y$ and $n_N$ are the number of points in $\\mathbf{D}_Y$ and $\\mathbf{D}_N$, respectively.\n",
    "\n",
    "The information gain for a given split point, representing the reduction in overall entropy, is defined as:\n",
    "\n",
    "$$\\text{Grain}(\\mathbf{D},\\mathbf{D}_Y, \\mathbf{D}_N) = H(\\mathbf{D}) - H(\\mathbf{D}_Y, \\mathbf{D}_N)$$\n",
    "\n",
    "A higher information gain corresponds to a greater reduction in entropy, thus signaling a better split point. Therefore, we can score each split point and select the one that provides the highest information gain.\n",
    "\n",
    "\n",
    "**Gini Index**\n",
    "\n",
    "The Gini index, another common purity measure for a split point, is defined as:\n",
    "\n",
    "$$G(\\mathbf{D}) = 1 - \\sum_{i=1}^{k} P(c_i| \\mathbf{D})^2$$\n",
    "\n",
    "Higher Gini index values signify more disorder, while lower values indicate a higher order with respect to the class labels. The weighted Gini index of a split point is then defined as:\n",
    "\n",
    "$$G(\\mathbf{D}_Y, \\mathbf{D}_N) = \\frac{n_Y}{n}G(\\mathbf{D}_Y) + \\frac{n_N}{n}G(\\mathbf{D}_N)$$\n",
    "\n",
    "\n",
    "**CART**\n",
    "\n",
    "Another useful measure is the CART, defined as:\n",
    "\n",
    "$$\\text{CART}(\\mathbf{D}_Y, \\mathbf{D}_N) = 2 \\frac{n_Y}{n}\\frac{n_N}{n} \\sum_{i = 1}^k |P(c_i| \\mathbf{D}_Y )  -P(c_i| \\mathbf{D}_N)$$\n",
    "\n",
    "This metric maximizes the difference between the class probability mass function for the two partitions; a higher CART value implies a better split point.\n",
    "\n"
   ]
  },
  {
   "attachments": {},
   "cell_type": "markdown",
   "metadata": {},
   "source": [
    "# Decision Trees"
   ]
  },
  {
   "cell_type": "code",
   "execution_count": 310,
   "metadata": {},
   "outputs": [
    {
     "data": {
      "text/html": [
       "<style>#sk-container-id-5 {color: black;background-color: white;}#sk-container-id-5 pre{padding: 0;}#sk-container-id-5 div.sk-toggleable {background-color: white;}#sk-container-id-5 label.sk-toggleable__label {cursor: pointer;display: block;width: 100%;margin-bottom: 0;padding: 0.3em;box-sizing: border-box;text-align: center;}#sk-container-id-5 label.sk-toggleable__label-arrow:before {content: \"▸\";float: left;margin-right: 0.25em;color: #696969;}#sk-container-id-5 label.sk-toggleable__label-arrow:hover:before {color: black;}#sk-container-id-5 div.sk-estimator:hover label.sk-toggleable__label-arrow:before {color: black;}#sk-container-id-5 div.sk-toggleable__content {max-height: 0;max-width: 0;overflow: hidden;text-align: left;background-color: #f0f8ff;}#sk-container-id-5 div.sk-toggleable__content pre {margin: 0.2em;color: black;border-radius: 0.25em;background-color: #f0f8ff;}#sk-container-id-5 input.sk-toggleable__control:checked~div.sk-toggleable__content {max-height: 200px;max-width: 100%;overflow: auto;}#sk-container-id-5 input.sk-toggleable__control:checked~label.sk-toggleable__label-arrow:before {content: \"▾\";}#sk-container-id-5 div.sk-estimator input.sk-toggleable__control:checked~label.sk-toggleable__label {background-color: #d4ebff;}#sk-container-id-5 div.sk-label input.sk-toggleable__control:checked~label.sk-toggleable__label {background-color: #d4ebff;}#sk-container-id-5 input.sk-hidden--visually {border: 0;clip: rect(1px 1px 1px 1px);clip: rect(1px, 1px, 1px, 1px);height: 1px;margin: -1px;overflow: hidden;padding: 0;position: absolute;width: 1px;}#sk-container-id-5 div.sk-estimator {font-family: monospace;background-color: #f0f8ff;border: 1px dotted black;border-radius: 0.25em;box-sizing: border-box;margin-bottom: 0.5em;}#sk-container-id-5 div.sk-estimator:hover {background-color: #d4ebff;}#sk-container-id-5 div.sk-parallel-item::after {content: \"\";width: 100%;border-bottom: 1px solid gray;flex-grow: 1;}#sk-container-id-5 div.sk-label:hover label.sk-toggleable__label {background-color: #d4ebff;}#sk-container-id-5 div.sk-serial::before {content: \"\";position: absolute;border-left: 1px solid gray;box-sizing: border-box;top: 0;bottom: 0;left: 50%;z-index: 0;}#sk-container-id-5 div.sk-serial {display: flex;flex-direction: column;align-items: center;background-color: white;padding-right: 0.2em;padding-left: 0.2em;position: relative;}#sk-container-id-5 div.sk-item {position: relative;z-index: 1;}#sk-container-id-5 div.sk-parallel {display: flex;align-items: stretch;justify-content: center;background-color: white;position: relative;}#sk-container-id-5 div.sk-item::before, #sk-container-id-5 div.sk-parallel-item::before {content: \"\";position: absolute;border-left: 1px solid gray;box-sizing: border-box;top: 0;bottom: 0;left: 50%;z-index: -1;}#sk-container-id-5 div.sk-parallel-item {display: flex;flex-direction: column;z-index: 1;position: relative;background-color: white;}#sk-container-id-5 div.sk-parallel-item:first-child::after {align-self: flex-end;width: 50%;}#sk-container-id-5 div.sk-parallel-item:last-child::after {align-self: flex-start;width: 50%;}#sk-container-id-5 div.sk-parallel-item:only-child::after {width: 0;}#sk-container-id-5 div.sk-dashed-wrapped {border: 1px dashed gray;margin: 0 0.4em 0.5em 0.4em;box-sizing: border-box;padding-bottom: 0.4em;background-color: white;}#sk-container-id-5 div.sk-label label {font-family: monospace;font-weight: bold;display: inline-block;line-height: 1.2em;}#sk-container-id-5 div.sk-label-container {text-align: center;}#sk-container-id-5 div.sk-container {/* jupyter's `normalize.less` sets `[hidden] { display: none; }` but bootstrap.min.css set `[hidden] { display: none !important; }` so we also need the `!important` here to be able to override the default hidden behavior on the sphinx rendered scikit-learn.org. See: https://github.com/scikit-learn/scikit-learn/issues/21755 */display: inline-block !important;position: relative;}#sk-container-id-5 div.sk-text-repr-fallback {display: none;}</style><div id=\"sk-container-id-5\" class=\"sk-top-container\"><div class=\"sk-text-repr-fallback\"><pre>DecisionTreeClassifier()</pre><b>In a Jupyter environment, please rerun this cell to show the HTML representation or trust the notebook. <br />On GitHub, the HTML representation is unable to render, please try loading this page with nbviewer.org.</b></div><div class=\"sk-container\" hidden><div class=\"sk-item\"><div class=\"sk-estimator sk-toggleable\"><input class=\"sk-toggleable__control sk-hidden--visually\" id=\"sk-estimator-id-5\" type=\"checkbox\" checked><label for=\"sk-estimator-id-5\" class=\"sk-toggleable__label sk-toggleable__label-arrow\">DecisionTreeClassifier</label><div class=\"sk-toggleable__content\"><pre>DecisionTreeClassifier()</pre></div></div></div></div></div>"
      ],
      "text/plain": [
       "DecisionTreeClassifier()"
      ]
     },
     "execution_count": 310,
     "metadata": {},
     "output_type": "execute_result"
    }
   ],
   "source": [
    "dt = DecisionTreeClassifier()\n",
    "dt.fit(X_train, y_train)"
   ]
  },
  {
   "attachments": {},
   "cell_type": "markdown",
   "metadata": {},
   "source": [
    "Credit risk scoring is a binary classification problem, and for cases like that, AUC is one of the best evaluation metrics. AUC Metrics is the area under the ROC curve. The ROC curve can be plotted by the points for False positive Rate (FPR) and True Positive Rate (TPR):\n",
    "\n",
    "$$(FPR, TPR) = \\bigg(\\frac{ \\text{FP} }{\\text{TN}+\\text{FP} },\\frac{\\text{TP}}{\\text{TP} +\\text{FN}} \\bigg)$$\n",
    "\n",
    "\n",
    "where FP is the number of False Positives, TN for True Negatives, TP for True Positives and FN for False Negatives. For differents parameters for the classification model we can plot this points (FPR, TPR) to get the ROC curve."
   ]
  },
  {
   "cell_type": "code",
   "execution_count": 311,
   "metadata": {},
   "outputs": [],
   "source": [
    "def plot_ROC(fpr, tpr):\n",
    "    plt.figure(figsize=(5, 5))\n",
    "\n",
    "    plt.plot(fpr, tpr, color='black', linestyle='solid', label='Large')\n",
    "    plt.plot(fpr, tpr, color='black', linestyle='dashed', label='Small')\n",
    "    plt.plot([0, 1], [0, 1], color='black', lw=0.7, linestyle='dashed', alpha=0.5)\n",
    "\n",
    "    plt.xlim([-0.02, 1.02])\n",
    "    plt.ylim([-0.02, 1.02])\n",
    "    plt.xlabel('False Positive Rate')\n",
    "    plt.ylabel('True Positive Rate')\n",
    "\n",
    "    plt.title('ROC curve')\n",
    "    plt.legend(loc='lower right')\n",
    "\n",
    "    plt.show()"
   ]
  },
  {
   "cell_type": "code",
   "execution_count": 312,
   "metadata": {},
   "outputs": [
    {
     "name": "stdout",
     "output_type": "stream",
     "text": [
      "Thresholds : \n",
      " [2. 1. 0.] \n",
      "\n",
      "AUC : \n",
      " 1.0 \n",
      "\n"
     ]
    },
    {
     "data": {
      "image/png": "[encoded data removed]",
      "text/plain": [
       "<Figure size 360x360 with 1 Axes>"
      ]
     },
     "metadata": {
      "needs_background": "light"
     },
     "output_type": "display_data"
    }
   ],
   "source": [
    "y_pred = dt.predict_proba(X_train)[:,1]\n",
    "\n",
    "fpr_train, tpr_train, t_train = roc_curve(y_train, y_pred)\n",
    "auc_train = roc_auc_score(y_train, y_pred)\n",
    "\n",
    "printest(\"Thresholds\", t_train)\n",
    "printest(\"AUC\", auc_train)\n",
    "\n",
    "plot_ROC(fpr_train, tpr_train)\n"
   ]
  },
  {
   "attachments": {},
   "cell_type": "markdown",
   "metadata": {},
   "source": [
    "Our analysis suggests we are encountering overfitting. To corroborate this, we can apply the same model to our validation dataset. This is likely to demonstrate that the model, in its learning process, has essentially memorized the outcomes of the training data. Yet, when faced with the validation set, it failed. It lacks the ability to generalize from the patterns it learned from the training data. This is a classic manifestation of overfitting, highlighting the need for a careful balance between learning and generalization in model training."
   ]
  },
  {
   "cell_type": "code",
   "execution_count": 313,
   "metadata": {},
   "outputs": [
    {
     "name": "stdout",
     "output_type": "stream",
     "text": [
      "Thresholds : \n",
      " [0.         0.17197452 1.        ] \n",
      "\n",
      "AUC : \n",
      " 0.6573587464580659 \n",
      "\n"
     ]
    },
    {
     "data": {
      "image/png": "[encoded data removed]",
      "text/plain": [
       "<Figure size 360x360 with 1 Axes>"
      ]
     },
     "metadata": {
      "needs_background": "light"
     },
     "output_type": "display_data"
    }
   ],
   "source": [
    "y_pred = dt.predict_proba(X_val)[:,1]\n",
    "fpr_val, tpr_val, t_val = roc_curve(y_val, y_pred)\n",
    "auc_val = roc_auc_score(y_val, y_pred)\n",
    "\n",
    "printest(\"Thresholds\", fpr_val)\n",
    "printest(\"AUC\", auc_val)\n",
    "\n",
    "\n",
    "plot_ROC(fpr_val, tpr_val)"
   ]
  },
  {
   "attachments": {},
   "cell_type": "markdown",
   "metadata": {},
   "source": [
    "We have multiple ways to control the complexity of a tree. One option is to restrict\n",
    "its size: we can specify the ``max_depth`` parameter, which controls the maximum number\n",
    "of levels. The more levels a tree has, the more complex rules it can learn."
   ]
  },
  {
   "cell_type": "code",
   "execution_count": 314,
   "metadata": {},
   "outputs": [
    {
     "name": "stdout",
     "output_type": "stream",
     "text": [
      "|--- records=no <= 0.50\n",
      "|   |--- seniority <= 6.50\n",
      "|   |   |--- class: True\n",
      "|   |--- seniority >  6.50\n",
      "|   |   |--- class: False\n",
      "|--- records=no >  0.50\n",
      "|   |--- job=partime <= 0.50\n",
      "|   |   |--- class: False\n",
      "|   |--- job=partime >  0.50\n",
      "|   |   |--- class: True\n",
      "\n"
     ]
    }
   ],
   "source": [
    "dt = DecisionTreeClassifier(max_depth=2)\n",
    "dt.fit(X_train, y_train)\n",
    "tree_text = export_text(dt, feature_names = dv.feature_names_)\n",
    "print(tree_text)"
   ]
  },
  {
   "cell_type": "code",
   "execution_count": 315,
   "metadata": {},
   "outputs": [
    {
     "name": "stdout",
     "output_type": "stream",
     "text": [
      "train auc : \n",
      " 0.7054989859726213 \n",
      "\n",
      "validation auc : \n",
      " 0.6685264343319367 \n",
      "\n"
     ]
    }
   ],
   "source": [
    "y_pred = dt.predict_proba(X_train)[:, 1]\n",
    "auc = roc_auc_score(y_train, y_pred)\n",
    "printest('train auc', auc)\n",
    "y_pred = dt.predict_proba(X_val)[:, 1]\n",
    "auc = roc_auc_score(y_val, y_pred)\n",
    "printest('validation auc', auc)"
   ]
  }
 ],
 "metadata": {
  "kernelspec": {
   "display_name": "Python 3",
   "language": "python",
   "name": "python3"
  },
  "language_info": {
   "codemirror_mode": {
    "name": "ipython",
    "version": 3
   },
   "file_extension": ".py",
   "mimetype": "text/x-python",
   "name": "python",
   "nbconvert_exporter": "python",
   "pygments_lexer": "ipython3",
   "version": "3.10.2"
  },
  "orig_nbformat": 4,
  "vscode": {
   "interpreter": {
    "hash": "0743c798041383927c03f3bae5eca888e94e4777f716cdd511cdff96fbdedc02"
   }
  }
 },
 "nbformat": 4,
 "nbformat_minor": 2
}
