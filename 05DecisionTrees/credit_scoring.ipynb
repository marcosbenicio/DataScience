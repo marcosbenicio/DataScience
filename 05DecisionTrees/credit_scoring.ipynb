{
 "cells": [
  {
   "cell_type": "code",
   "execution_count": 179,
   "metadata": {},
   "outputs": [],
   "source": [
    "import pandas as pd\n",
    "import numpy as np\n",
    "import seaborn as sns\n",
    "from matplotlib import pyplot as plt\n",
    "import xgboost as xgb\n",
    "\n",
    "# sklearn\n",
    "from sklearn.tree import DecisionTreeClassifier, plot_tree\n",
    "from sklearn.ensemble import RandomForestClassifier\n",
    "from sklearn.model_selection import train_test_split\n",
    "from sklearn.metrics import roc_auc_score, roc_curve\n",
    "from sklearn.feature_extraction import DictVectorizer\n",
    "from sklearn.tree import export_text"
   ]
  },
  {
   "cell_type": "code",
   "execution_count": 180,
   "metadata": {},
   "outputs": [],
   "source": [
    "def printest(args, value):\n",
    "    return print( \"{} : \\n {} \\n\".format(args, value) )"
   ]
  },
  {
   "attachments": {},
   "cell_type": "markdown",
   "metadata": {},
   "source": [
    "# Data Preparation"
   ]
  },
  {
   "cell_type": "code",
   "execution_count": 181,
   "metadata": {},
   "outputs": [
    {
     "data": {
      "text/html": [
       "<div>\n",
       "<style scoped>\n",
       "    .dataframe tbody tr th:only-of-type {\n",
       "        vertical-align: middle;\n",
       "    }\n",
       "\n",
       "    .dataframe tbody tr th {\n",
       "        vertical-align: top;\n",
       "    }\n",
       "\n",
       "    .dataframe thead th {\n",
       "        text-align: right;\n",
       "    }\n",
       "</style>\n",
       "<table border=\"1\" class=\"dataframe\">\n",
       "  <thead>\n",
       "    <tr style=\"text-align: right;\">\n",
       "      <th></th>\n",
       "      <th>status</th>\n",
       "      <th>seniority</th>\n",
       "      <th>home</th>\n",
       "      <th>time</th>\n",
       "      <th>age</th>\n",
       "      <th>marital</th>\n",
       "      <th>records</th>\n",
       "      <th>job</th>\n",
       "      <th>expenses</th>\n",
       "      <th>income</th>\n",
       "      <th>assets</th>\n",
       "      <th>debt</th>\n",
       "      <th>amount</th>\n",
       "      <th>price</th>\n",
       "    </tr>\n",
       "  </thead>\n",
       "  <tbody>\n",
       "    <tr>\n",
       "      <th>0</th>\n",
       "      <td>1</td>\n",
       "      <td>9</td>\n",
       "      <td>1</td>\n",
       "      <td>60</td>\n",
       "      <td>30</td>\n",
       "      <td>2</td>\n",
       "      <td>1</td>\n",
       "      <td>3</td>\n",
       "      <td>73</td>\n",
       "      <td>129</td>\n",
       "      <td>0</td>\n",
       "      <td>0</td>\n",
       "      <td>800</td>\n",
       "      <td>846</td>\n",
       "    </tr>\n",
       "    <tr>\n",
       "      <th>1</th>\n",
       "      <td>1</td>\n",
       "      <td>17</td>\n",
       "      <td>1</td>\n",
       "      <td>60</td>\n",
       "      <td>58</td>\n",
       "      <td>3</td>\n",
       "      <td>1</td>\n",
       "      <td>1</td>\n",
       "      <td>48</td>\n",
       "      <td>131</td>\n",
       "      <td>0</td>\n",
       "      <td>0</td>\n",
       "      <td>1000</td>\n",
       "      <td>1658</td>\n",
       "    </tr>\n",
       "  </tbody>\n",
       "</table>\n",
       "</div>"
      ],
      "text/plain": [
       "   status  seniority  home  time  age  marital  records  job  expenses  \\\n",
       "0       1          9     1    60   30        2        1    3        73   \n",
       "1       1         17     1    60   58        3        1    1        48   \n",
       "\n",
       "   income  assets  debt  amount  price  \n",
       "0     129       0     0     800    846  \n",
       "1     131       0     0    1000   1658  "
      ]
     },
     "execution_count": 181,
     "metadata": {},
     "output_type": "execute_result"
    }
   ],
   "source": [
    "df = pd.read_csv('Data/CreditScoring.csv')\n",
    "df.columns = df.columns.str.lower()\n",
    "df.head(2)"
   ]
  },
  {
   "attachments": {},
   "cell_type": "markdown",
   "metadata": {},
   "source": [
    "Categorical variables are represented by numbers. For converting, we'll use the following map (extracted from [Part1_CredScoring_Processing.R](https://github.com/gastonstat/CreditScoring/blob/master/Part1_CredScoring_Processing.R)). It's code in R which we'll translate to Pandas."
   ]
  },
  {
   "cell_type": "code",
   "execution_count": 182,
   "metadata": {},
   "outputs": [
    {
     "data": {
      "text/html": [
       "<div>\n",
       "<style scoped>\n",
       "    .dataframe tbody tr th:only-of-type {\n",
       "        vertical-align: middle;\n",
       "    }\n",
       "\n",
       "    .dataframe tbody tr th {\n",
       "        vertical-align: top;\n",
       "    }\n",
       "\n",
       "    .dataframe thead th {\n",
       "        text-align: right;\n",
       "    }\n",
       "</style>\n",
       "<table border=\"1\" class=\"dataframe\">\n",
       "  <thead>\n",
       "    <tr style=\"text-align: right;\">\n",
       "      <th></th>\n",
       "      <th>status</th>\n",
       "      <th>seniority</th>\n",
       "      <th>home</th>\n",
       "      <th>time</th>\n",
       "      <th>age</th>\n",
       "      <th>marital</th>\n",
       "      <th>records</th>\n",
       "      <th>job</th>\n",
       "      <th>expenses</th>\n",
       "      <th>income</th>\n",
       "      <th>assets</th>\n",
       "      <th>debt</th>\n",
       "      <th>amount</th>\n",
       "      <th>price</th>\n",
       "    </tr>\n",
       "  </thead>\n",
       "  <tbody>\n",
       "    <tr>\n",
       "      <th>0</th>\n",
       "      <td>ok</td>\n",
       "      <td>9</td>\n",
       "      <td>rent</td>\n",
       "      <td>60</td>\n",
       "      <td>30</td>\n",
       "      <td>married</td>\n",
       "      <td>no</td>\n",
       "      <td>freelance</td>\n",
       "      <td>73</td>\n",
       "      <td>129</td>\n",
       "      <td>0</td>\n",
       "      <td>0</td>\n",
       "      <td>800</td>\n",
       "      <td>846</td>\n",
       "    </tr>\n",
       "    <tr>\n",
       "      <th>1</th>\n",
       "      <td>ok</td>\n",
       "      <td>17</td>\n",
       "      <td>rent</td>\n",
       "      <td>60</td>\n",
       "      <td>58</td>\n",
       "      <td>widow</td>\n",
       "      <td>no</td>\n",
       "      <td>fixed</td>\n",
       "      <td>48</td>\n",
       "      <td>131</td>\n",
       "      <td>0</td>\n",
       "      <td>0</td>\n",
       "      <td>1000</td>\n",
       "      <td>1658</td>\n",
       "    </tr>\n",
       "  </tbody>\n",
       "</table>\n",
       "</div>"
      ],
      "text/plain": [
       "  status  seniority  home  time  age  marital records        job  expenses  \\\n",
       "0     ok          9  rent    60   30  married      no  freelance        73   \n",
       "1     ok         17  rent    60   58    widow      no      fixed        48   \n",
       "\n",
       "   income  assets  debt  amount  price  \n",
       "0     129       0     0     800    846  \n",
       "1     131       0     0    1000   1658  "
      ]
     },
     "execution_count": 182,
     "metadata": {},
     "output_type": "execute_result"
    }
   ],
   "source": [
    "# transform numerical values to categorical\n",
    "status_values = { \n",
    "    1: 'ok', \n",
    "    2:'default',\n",
    "    0: 'unk'\n",
    "}\n",
    "home_values = {\n",
    "    1: 'rent',\n",
    "    2: 'owner',\n",
    "    3: 'private',\n",
    "    4: 'ignore',\n",
    "    5: 'parents',\n",
    "    6: 'other',\n",
    "    0: 'unk'\n",
    "}\n",
    "marital_values = {\n",
    "    1: 'single',\n",
    "    2: 'married',\n",
    "    3: 'widow',\n",
    "    4: 'separated',\n",
    "    5: 'divorced',\n",
    "    0: 'unk'\n",
    "}\n",
    "records_values = {\n",
    "    1: 'no',\n",
    "    2: 'yes',\n",
    "    0: 'unk'\n",
    "}\n",
    "job_values = {\n",
    "    1: 'fixed',\n",
    "    2: 'partime',\n",
    "    3: 'freelance',\n",
    "    4: 'others',\n",
    "    0: 'unk'\n",
    "}\n",
    "\n",
    "# map number to string\n",
    "df.status = df.status.map(status_values)\n",
    "df.home = df.home.map(home_values)\n",
    "df.marital = df.marital.map(marital_values)\n",
    "df.records = df.records.map(records_values)\n",
    "df.job = df.job.map(job_values)\n",
    "\n",
    "df.head(2)"
   ]
  },
  {
   "cell_type": "code",
   "execution_count": 183,
   "metadata": {},
   "outputs": [
    {
     "name": "stdout",
     "output_type": "stream",
     "text": [
      "categorical : \n",
      " ['status', 'home', 'marital', 'records', 'job'] \n",
      "\n",
      "numerical : \n",
      " ['seniority', 'time', 'age', 'expenses', 'income', 'assets', 'debt', 'amount', 'price'] \n",
      "\n"
     ]
    },
    {
     "data": {
      "text/plain": [
       "status     3\n",
       "home       7\n",
       "marital    6\n",
       "records    2\n",
       "job        5\n",
       "dtype: int64"
      ]
     },
     "execution_count": 183,
     "metadata": {},
     "output_type": "execute_result"
    }
   ],
   "source": [
    "boolean_mask = df.dtypes == 'object'\n",
    "\n",
    "categorical = list(df.dtypes[boolean_mask].index)\n",
    "printest('categorical' , categorical )\n",
    "\n",
    "numerical  = list(df.dtypes[~boolean_mask].index)\n",
    "printest('numerical' , numerical )\n",
    "\n",
    "df[categorical].nunique()"
   ]
  },
  {
   "cell_type": "code",
   "execution_count": 184,
   "metadata": {},
   "outputs": [
    {
     "data": {
      "text/html": [
       "<div>\n",
       "<style scoped>\n",
       "    .dataframe tbody tr th:only-of-type {\n",
       "        vertical-align: middle;\n",
       "    }\n",
       "\n",
       "    .dataframe tbody tr th {\n",
       "        vertical-align: top;\n",
       "    }\n",
       "\n",
       "    .dataframe thead th {\n",
       "        text-align: right;\n",
       "    }\n",
       "</style>\n",
       "<table border=\"1\" class=\"dataframe\">\n",
       "  <thead>\n",
       "    <tr style=\"text-align: right;\">\n",
       "      <th></th>\n",
       "      <th>seniority</th>\n",
       "      <th>time</th>\n",
       "      <th>age</th>\n",
       "      <th>expenses</th>\n",
       "      <th>income</th>\n",
       "      <th>assets</th>\n",
       "      <th>debt</th>\n",
       "      <th>amount</th>\n",
       "      <th>price</th>\n",
       "    </tr>\n",
       "  </thead>\n",
       "  <tbody>\n",
       "    <tr>\n",
       "      <th>count</th>\n",
       "      <td>4455.0</td>\n",
       "      <td>4455.0</td>\n",
       "      <td>4455.0</td>\n",
       "      <td>4455.0</td>\n",
       "      <td>4455.0</td>\n",
       "      <td>4455.0</td>\n",
       "      <td>4455.0</td>\n",
       "      <td>4455.0</td>\n",
       "      <td>4455.0</td>\n",
       "    </tr>\n",
       "    <tr>\n",
       "      <th>mean</th>\n",
       "      <td>8.0</td>\n",
       "      <td>46.0</td>\n",
       "      <td>37.0</td>\n",
       "      <td>56.0</td>\n",
       "      <td>763317.0</td>\n",
       "      <td>1060341.0</td>\n",
       "      <td>404382.0</td>\n",
       "      <td>1039.0</td>\n",
       "      <td>1463.0</td>\n",
       "    </tr>\n",
       "    <tr>\n",
       "      <th>std</th>\n",
       "      <td>8.0</td>\n",
       "      <td>15.0</td>\n",
       "      <td>11.0</td>\n",
       "      <td>20.0</td>\n",
       "      <td>8703625.0</td>\n",
       "      <td>10217569.0</td>\n",
       "      <td>6344253.0</td>\n",
       "      <td>475.0</td>\n",
       "      <td>628.0</td>\n",
       "    </tr>\n",
       "    <tr>\n",
       "      <th>min</th>\n",
       "      <td>0.0</td>\n",
       "      <td>6.0</td>\n",
       "      <td>18.0</td>\n",
       "      <td>35.0</td>\n",
       "      <td>0.0</td>\n",
       "      <td>0.0</td>\n",
       "      <td>0.0</td>\n",
       "      <td>100.0</td>\n",
       "      <td>105.0</td>\n",
       "    </tr>\n",
       "    <tr>\n",
       "      <th>25%</th>\n",
       "      <td>2.0</td>\n",
       "      <td>36.0</td>\n",
       "      <td>28.0</td>\n",
       "      <td>35.0</td>\n",
       "      <td>80.0</td>\n",
       "      <td>0.0</td>\n",
       "      <td>0.0</td>\n",
       "      <td>700.0</td>\n",
       "      <td>1118.0</td>\n",
       "    </tr>\n",
       "    <tr>\n",
       "      <th>50%</th>\n",
       "      <td>5.0</td>\n",
       "      <td>48.0</td>\n",
       "      <td>36.0</td>\n",
       "      <td>51.0</td>\n",
       "      <td>120.0</td>\n",
       "      <td>3500.0</td>\n",
       "      <td>0.0</td>\n",
       "      <td>1000.0</td>\n",
       "      <td>1400.0</td>\n",
       "    </tr>\n",
       "    <tr>\n",
       "      <th>75%</th>\n",
       "      <td>12.0</td>\n",
       "      <td>60.0</td>\n",
       "      <td>45.0</td>\n",
       "      <td>72.0</td>\n",
       "      <td>166.0</td>\n",
       "      <td>6000.0</td>\n",
       "      <td>0.0</td>\n",
       "      <td>1300.0</td>\n",
       "      <td>1692.0</td>\n",
       "    </tr>\n",
       "    <tr>\n",
       "      <th>max</th>\n",
       "      <td>48.0</td>\n",
       "      <td>72.0</td>\n",
       "      <td>68.0</td>\n",
       "      <td>180.0</td>\n",
       "      <td>99999999.0</td>\n",
       "      <td>99999999.0</td>\n",
       "      <td>99999999.0</td>\n",
       "      <td>5000.0</td>\n",
       "      <td>11140.0</td>\n",
       "    </tr>\n",
       "  </tbody>\n",
       "</table>\n",
       "</div>"
      ],
      "text/plain": [
       "       seniority    time     age  expenses      income      assets  \\\n",
       "count     4455.0  4455.0  4455.0    4455.0      4455.0      4455.0   \n",
       "mean         8.0    46.0    37.0      56.0    763317.0   1060341.0   \n",
       "std          8.0    15.0    11.0      20.0   8703625.0  10217569.0   \n",
       "min          0.0     6.0    18.0      35.0         0.0         0.0   \n",
       "25%          2.0    36.0    28.0      35.0        80.0         0.0   \n",
       "50%          5.0    48.0    36.0      51.0       120.0      3500.0   \n",
       "75%         12.0    60.0    45.0      72.0       166.0      6000.0   \n",
       "max         48.0    72.0    68.0     180.0  99999999.0  99999999.0   \n",
       "\n",
       "             debt  amount    price  \n",
       "count      4455.0  4455.0   4455.0  \n",
       "mean     404382.0  1039.0   1463.0  \n",
       "std     6344253.0   475.0    628.0  \n",
       "min           0.0   100.0    105.0  \n",
       "25%           0.0   700.0   1118.0  \n",
       "50%           0.0  1000.0   1400.0  \n",
       "75%           0.0  1300.0   1692.0  \n",
       "max    99999999.0  5000.0  11140.0  "
      ]
     },
     "execution_count": 184,
     "metadata": {},
     "output_type": "execute_result"
    }
   ],
   "source": [
    "# Stats for the dataset\n",
    "df.describe().round()"
   ]
  },
  {
   "attachments": {},
   "cell_type": "markdown",
   "metadata": {},
   "source": [
    "The maximum value is 99999999, and indicate missing values. Let's replace it by `NaN`: "
   ]
  },
  {
   "cell_type": "code",
   "execution_count": 185,
   "metadata": {},
   "outputs": [
    {
     "data": {
      "text/plain": [
       "status        0\n",
       "seniority     0\n",
       "home          0\n",
       "time          0\n",
       "age           0\n",
       "marital       0\n",
       "records       0\n",
       "job           0\n",
       "expenses      0\n",
       "income       34\n",
       "assets       47\n",
       "debt         18\n",
       "amount        0\n",
       "price         0\n",
       "dtype: int64"
      ]
     },
     "execution_count": 185,
     "metadata": {},
     "output_type": "execute_result"
    }
   ],
   "source": [
    "for i in ['income', 'assets', 'debt']:\n",
    "    df[i] = df[i].replace(to_replace = 99999999, value = np.nan )\n",
    "\n",
    "df.isna().sum()"
   ]
  },
  {
   "attachments": {},
   "cell_type": "markdown",
   "metadata": {},
   "source": [
    "For the target variable is need to exclude the status with  value 'unk'."
   ]
  },
  {
   "cell_type": "code",
   "execution_count": 186,
   "metadata": {},
   "outputs": [
    {
     "name": "stdout",
     "output_type": "stream",
     "text": [
      "ok         3200\n",
      "default    1254\n",
      "Name: status, dtype: int64\n"
     ]
    }
   ],
   "source": [
    "# tilde (~) operator is a bit-wise NOT operator\n",
    "df = df[ ~df.status.isin(['unk'])]\n",
    "print(df.status.value_counts())"
   ]
  },
  {
   "attachments": {},
   "cell_type": "markdown",
   "metadata": {},
   "source": [
    "Now is necessary to split the dataset, handle missing values and use one-hot encode to prepare the feature matrix $\\mathbf{X}$ and target variable vector $\\mathbf{y}$. For this is defined a function to handle the dataset:"
   ]
  },
  {
   "cell_type": "code",
   "execution_count": 187,
   "metadata": {},
   "outputs": [],
   "source": [
    "def prepare_data(df):\n",
    "\n",
    "    # split in train (60%), validation (20%) and test (20%)\n",
    "    # 0.8 and 0.2\n",
    "    df_train_full, df_test = train_test_split(df, test_size = 0.2,  random_state = 11)\n",
    "    # 0.75 * 0.8 = 0.6 and  0.25 * 0.8 = 0.2 \n",
    "    df_train, df_val = train_test_split(df_train_full, test_size = 0.25 ,  random_state = 11)\n",
    "\n",
    "    # y is “True/1” if the client defaulted and “False/0” otherwise\n",
    "    y_train_full = (df_train_full.status == 'default').values\n",
    "    y_test = (df_test.status == 'default').values\n",
    "    y_train = (df_train.status == 'default').values\n",
    "    y_val = (df_val.status == 'default').values\n",
    "\n",
    "    del df_train['status']\n",
    "    del df_train_full['status']\n",
    "    del df_test['status']\n",
    "    del df_val['status']\n",
    "\n",
    "    df_train_full = df_train_full.fillna(0)\n",
    "    df_test = df_test.fillna(0)\n",
    "    df_train = df_train.fillna(0)\n",
    "    df_val = df_val.fillna(0)\n",
    "\n",
    "    dict_train_full = df_train_full.to_dict(orient = 'records')\n",
    "    dict_test = df_test.to_dict(orient = 'records')\n",
    "    dict_train = df_train.to_dict(orient = 'records')\n",
    "    dict_val = df_val.to_dict(orient = 'records')\n",
    "\n",
    "    dv = DictVectorizer(sparse = False)\n",
    "    X_train_full = dv.fit_transform(dict_train_full)\n",
    "    X_train = dv.transform(dict_train)\n",
    "    X_test = dv.transform(dict_test)\n",
    "    X_val = dv.transform(dict_val)\n",
    "\n",
    "    return X_train_full,X_test, X_train, X_val, y_train_full, y_test, y_train, y_val, dv\n",
    "\n",
    "X_train_full, X_test, X_train, X_val, y_train_full, y_test, y_train, y_val, dv = prepare_data(df)"
   ]
  },
  {
   "attachments": {},
   "cell_type": "markdown",
   "metadata": {},
   "source": [
    "# Decision Trees - Theory"
   ]
  },
  {
   "attachments": {},
   "cell_type": "markdown",
   "metadata": {},
   "source": [
    "Consider a hypothetical dataset, denoted as $\\mathbf{D}$, consisting of multiple attributes and a target variable:\n",
    "\n",
    "$$\\mathbf{D} =\n",
    "\\left( \\begin{array}{c|cccc|c}\n",
    "~    &X_{0}&X_{1}&\\cdots & X_{d}  & \\mathbf{y}\\\\\n",
    "\\hline\n",
    "\\mathbf{x}_{1} &1& x_{11}& \\cdots&x_{1d}&y_1 \\\\\n",
    "\\vdots&\\vdots&\\vdots&\\ddots&\\vdots&\\vdots\\\\\n",
    "\\mathbf{x}_{n}&1&x_{n1}&\\cdots&x_{nd}&y_n\n",
    "\\end{array} \\right).$$\n",
    "\n",
    "This matrix $\\mathbf{D}$ represents our dataset. Each row corresponds to a unique client and each column (aside from the last one) corresponds to a specific attribute or feature of that client. $X_0$ is a column of ones, often called the bias or intercept term. We assume the attribute $X_j$ can be either numeric or categorical, and there are $k$ distinct classes, such that elements of $\\mathbf{y} = (y_1, \\cdots, y_i, \\cdots, y_n)^T$ can take values $y_i \\in {c_1, \\cdots, c_k}$.\n",
    "\n",
    "A decision tree is a recursive model that employs partition-based methods to predict the class $\\hat{y}_i$ for each instance $\\mathbf{x}_i$. The process starts with splitting the data into two subsets, denoted as $\\mathbf{D}_Y$ and $\\mathbf{D}_N$, by an axis-parallel hyperplane. The subsets are further divided recursively, aiming to achieve a state where the majority of points within a subset belong to the same class.\n",
    "\n",
    "Let's now illustrate the method of using an axis-parallel hyperplane to divide our dataset into smaller subsets. A hyperplane refers to candy a plane equation for dimension higher then three, in three dimension we would have a  plane, and in two dimension we would have a line. The equation for the hyperplane is the same equation used in linear regression, with the difference that here is an inequality:\n",
    "\n",
    "$$h(\\mathbf{X}) = \\mathbf{w}^T\\mathbf{X}\\leq 0$$\n",
    "\n",
    "Here, the inequality expresses that we're interested in a region bounded by the hyperplane in a d-dimensional space with axes $X_{1}, \\cdots,X_{j}, \\cdots, X_{d}$ (excluding $X_{0}$, which isn't an axis). The weights in this case, $\\mathbf{w} = (w_0, 0, \\cdots, 1,\\cdots, 0)^T$, are different from those in linear regression. Only the bias term $w_0$ and the jth element are non-zero, giving us:\n",
    "\n",
    "\n",
    "$$w_0X_0 + 1.X_j\\leq 0$$\n",
    "\n",
    "if we call the bias term as $v = -w_0$ and knowing that $X_0$ is a unit vector, then\n",
    "\n",
    "$$X_j\\leq v$$\n",
    "\n",
    "where selecting different values for the offset $v$ gives different hyperplanes along the dimension $X_j$. The decision or split point $X_j\\leq v$ thus splits the input data space (denoted as $\\mathcal{R}$) into two regions, $\\mathcal{R}_Y$ (satisfying the decision) and $\\mathcal{R}_N$ (not satisfying the decision).\n",
    "\n",
    "Each split of $\\mathcal{R}$ into $\\mathcal{R}_Y$ and $\\mathcal{R}_N$ induces a binary partition of the corresponding data points in $\\mathbf{D}$. Specifically, a split point of the form $X_j\\leq v$ induces the data partition\n",
    "\n",
    "$$\\mathbf{D}_Y =  \\{\\mathbf{x} \\in \\mathbf{D}| x_j \\leq v\\}$$\n",
    "$$\\mathbf{D}_N =  \\{\\mathbf{x} \\in \\mathbf{D}| x_j > v\\}$$\n",
    "\n",
    "where $\\mathbf{D}_Y$ denotes the subset of data points that lie in region $\\mathcal{R}_Y$ and $\\mathbf{D}_N$ denotes the subset of data points that lie in $\\mathcal{R}_N$.\n",
    "\n",
    "The attribute $X_j$ in the dataset $\\mathbf{D}$ could be either numeric or categorical. For numeric attributes, the split points take the form $X_j\\leq v$ for some value $v$ within the attribute's range. For categorical attributes, the split points are of the form $X_j \\in \\mathbf{V}$ for some subset $\\mathbf{V}$ of the attribute's domain."
   ]
  },
  {
   "attachments": {},
   "cell_type": "markdown",
   "metadata": {},
   "source": [
    "### **Numerical**\n",
    "\n",
    "When dealing with numerical values, an effective strategy is to consider only the midpoints between two successive distinct values of an attribute $X$ in the sample space $\\mathbf{D}$. Representing these midpoints as ${v_1, \\cdots, v_m}$, such that $v_1 < \\cdots < v_m$, each split point $X_j\\leq v$ requires us to estimate the probability mass function (PMF):\n",
    "\n",
    "$$P(c_i|\\mathbf{D}_Y) = P(c_i|X \\leq v) $$\n",
    "\n",
    "$$P(c_i|\\mathbf{D}_N) = P(c_i|X > v)$$\n",
    "\n",
    "\n",
    "By applying Bayes' theorem, we can compute these conditional probabilities. Here we are interested in the probability of the class $c_i$ happening given the partition dataset $\\mathbf{D}_N$ or $\\mathbf{D}_Y$. Using Bayes rule for the partition  $\\mathbf{D}_Y$:\n",
    "\n",
    "​$$P(c_i|X \\geq v) = \\frac{P(X \\geq v|c_i) \\cdot P(c_i)}{P(X \\geq v)} = \\frac{P(X \\geq v|c_i) \\cdot P(c_i)}{\\sum_k P(X \\geq v|c_k)P(c_k)} $$\n",
    "\n",
    "\n",
    "\n",
    "**prior probability $P(c_i)$**\n",
    "\n",
    "The prior probability for each class in dataset $\\mathbf{D}$ can be estimated as follows:\n",
    "\n",
    "$$P(c_i) = \\frac{n_i}{n}$$\n",
    "\n",
    "where $n_i$ is the total number of points in $\\mathbf{D}$ of class $c_i$ and $n$ is the total number of points in $\\mathbf{D}$.\n",
    "\n",
    "**Conditional probability $P(X \\geq v|c_i)$**\n",
    "\n",
    "The conditional probability helps understand the relationship between two sets of events. Here we have the set $X \\geq v$ of points from $\\mathbf{D}$ that has attribute values bigger then $v$, and the set of points from $\\mathbf{D}$ witch has class $c_i$ and we desire to find the relationship between this two sets. For the conditional probability can be calculated as:\n",
    "\n",
    "$$P(X \\geq v|c_i) = \\frac{P((X \\geq v) \\cap c_i)}{P(X \\geq v)} = \\frac{N_{vi}}{n_i}$$\n",
    "\n",
    "where $N_{vi}$ is the total number of points in the intersection set of the two events $X \\geq v$  and $c_i$. This means that we are looking at points from $\\mathbf{D}$ that has attribute values greater then v and with class $c_i$, and $n_i$ is the total number of points in $\\mathbf{D}$ of class $c_i$.\n",
    "\n",
    "\n",
    "Finally, the bayes rule can be written as \n",
    "\n",
    "$$P(c_i|\\mathbf{D}_Y) = P(c_i|X \\leq v) =  \\frac{P(X \\geq v|c_i) \\cdot P(c_i)}{\\sum_k P(X \\geq v|c_k)P(c_k)}$$\n",
    "\n",
    "$$P(c_i|\\mathbf{D}_Y) = \\frac{N_{vi}}{n} \\frac{\\sum_k N_{vk}}{n}$$\n",
    "\n",
    "then the PMF for partition $\\mathbf{D}_Y$ is\n",
    "\n",
    "$$P(c_i|\\mathbf{D}_Y) = \\frac{N_{vi}}{\\sum_k N_{vk}}$$\n",
    "\n",
    "and for $\\mathbf{D}_N$ can be calculated as $P(c_i|\\mathbf{D}_N) = 1 - P(c_i|\\mathbf{D}_Y)$:\n",
    "\n",
    "$$P(c_i|\\mathbf{D}_N) = \\frac{n_i - N_{vi}}{\\sum_k (n_k - N_{vk})}$$\n",
    "\n",
    "### **Categorical**\n",
    "\n",
    "For categorical values, we can use a similar process to derive the PMFs for the partition datasets $\\mathbf{D}_N$ and $\\mathbf{D}_Y$. In this case, $n_{vi}$ represents the number of points in the dataset $\\mathbf{D}$, with attribute value $v$ for attribute X and class $c_i$. Thus, we get:\n",
    "\n",
    "$$P(c_i|\\mathbf{D}_Y) = P(c_i|X \\in V) =  \\frac{\\sum_{v \\in V} n_{vi}}{\\sum_k \\sum_{v \\in V} n_{vk}}$$\n",
    "\n",
    "and\n",
    "\n",
    "$$P(c_i|\\mathbf{D}_N) = P(c_i|X \\notin V) =  \\frac{\\sum_{v \\notin V} n_{vi}}{\\sum_k \\sum_{v \\notin V} n_{vk}}$$\n",
    "\n",
    "where $n_{vi}$ is the number of points in the dataset $\\mathbf{D}$, with attribute value $v$ for attribute X and class $c_i$."
   ]
  },
  {
   "attachments": {},
   "cell_type": "markdown",
   "metadata": {},
   "source": [
    "### **Evaluating split points**\n",
    "\n",
    "For a numerical or categorical attribute split point, defined as $X\\leq v$ or $X \\in \\mathbf{V}$, we require a scoring criterion to effectively separate the different class labels ${c_1, \\cdots, c_k}$.\n",
    "\n",
    "**Information Gain**\n",
    "\n",
    "Information gain measures the reduction of disorder or uncertainty in a system. The goal is to use entropy as a metric for each partition, favoring a lower entropy if the partition is pure (i.e., most points have the same class label). Conversely, if class labels are mixed with no majority class, a partition has higher entropy.\n",
    "\n",
    "The entropy of a set of labeled points $\\mathbf{D}$ is defined as:\n",
    "\n",
    "$$H(\\mathbf{D}) = - \\sum^{k}_{i=1} P(c_i| \\mathbf{D}) \\log{P(c_i| \\mathbf{D})}$$\n",
    "\n",
    "where $P(x_i| \\mathbf{D})$ is the probability of class $c_i$ in $\\mathbf{D}$, and $k$ is the number of classes.\n",
    "\n",
    "When a split point partitions $\\mathbf{D}$ into $\\mathbf{D}_Y$ and $\\mathbf{D}_N$, we define the split entropy as the weighted entropy of each of the resulting partitions:\n",
    "\n",
    "$$H(\\mathbf{D}_Y, \\mathbf{D}_N) = \\frac{n_Y}{n}H(\\mathbf{D}_Y) + \\frac{n_N}{n}H(\\mathbf{D}_N)$$\n",
    "\n",
    "where $n = |\\mathbf{D}|$ is the number of points in $\\mathbf{D}$, and $n_Y$ and $n_N$ are the number of points in $\\mathbf{D}_Y$ and $\\mathbf{D}_N$, respectively.\n",
    "\n",
    "The information gain for a given split point, representing the reduction in overall entropy, is defined as:\n",
    "\n",
    "$$\\text{Grain}(\\mathbf{D},\\mathbf{D}_Y, \\mathbf{D}_N) = H(\\mathbf{D}) - H(\\mathbf{D}_Y, \\mathbf{D}_N)$$\n",
    "\n",
    "A higher information gain corresponds to a greater reduction in entropy, thus signaling a better split point. Therefore, we can score each split point and select the one that provides the highest information gain.\n",
    "\n",
    "\n",
    "**Gini Index**\n",
    "\n",
    "The Gini index, another common purity measure for a split point, is defined as:\n",
    "\n",
    "$$G(\\mathbf{D}) = 1 - \\sum_{i=1}^{k} P(c_i| \\mathbf{D})^2$$\n",
    "\n",
    "Higher Gini index values signify more disorder, while lower values indicate a higher order with respect to the class labels. The weighted Gini index of a split point is then defined as:\n",
    "\n",
    "$$G(\\mathbf{D}_Y, \\mathbf{D}_N) = \\frac{n_Y}{n}G(\\mathbf{D}_Y) + \\frac{n_N}{n}G(\\mathbf{D}_N)$$\n",
    "\n",
    "\n",
    "**CART**\n",
    "\n",
    "Another useful measure is the CART, defined as:\n",
    "\n",
    "$$\\text{CART}(\\mathbf{D}_Y, \\mathbf{D}_N) = 2 \\frac{n_Y}{n}\\frac{n_N}{n} \\sum_{i = 1}^k |P(c_i| \\mathbf{D}_Y )  -P(c_i| \\mathbf{D}_N)$$\n",
    "\n",
    "This metric maximizes the difference between the class probability mass function for the two partitions; a higher CART value implies a better split point.\n",
    "\n"
   ]
  },
  {
   "attachments": {},
   "cell_type": "markdown",
   "metadata": {},
   "source": [
    "# Decision Trees"
   ]
  },
  {
   "cell_type": "code",
   "execution_count": 188,
   "metadata": {},
   "outputs": [
    {
     "data": {
      "text/html": [
       "<style>#sk-container-id-3 {color: black;background-color: white;}#sk-container-id-3 pre{padding: 0;}#sk-container-id-3 div.sk-toggleable {background-color: white;}#sk-container-id-3 label.sk-toggleable__label {cursor: pointer;display: block;width: 100%;margin-bottom: 0;padding: 0.3em;box-sizing: border-box;text-align: center;}#sk-container-id-3 label.sk-toggleable__label-arrow:before {content: \"▸\";float: left;margin-right: 0.25em;color: #696969;}#sk-container-id-3 label.sk-toggleable__label-arrow:hover:before {color: black;}#sk-container-id-3 div.sk-estimator:hover label.sk-toggleable__label-arrow:before {color: black;}#sk-container-id-3 div.sk-toggleable__content {max-height: 0;max-width: 0;overflow: hidden;text-align: left;background-color: #f0f8ff;}#sk-container-id-3 div.sk-toggleable__content pre {margin: 0.2em;color: black;border-radius: 0.25em;background-color: #f0f8ff;}#sk-container-id-3 input.sk-toggleable__control:checked~div.sk-toggleable__content {max-height: 200px;max-width: 100%;overflow: auto;}#sk-container-id-3 input.sk-toggleable__control:checked~label.sk-toggleable__label-arrow:before {content: \"▾\";}#sk-container-id-3 div.sk-estimator input.sk-toggleable__control:checked~label.sk-toggleable__label {background-color: #d4ebff;}#sk-container-id-3 div.sk-label input.sk-toggleable__control:checked~label.sk-toggleable__label {background-color: #d4ebff;}#sk-container-id-3 input.sk-hidden--visually {border: 0;clip: rect(1px 1px 1px 1px);clip: rect(1px, 1px, 1px, 1px);height: 1px;margin: -1px;overflow: hidden;padding: 0;position: absolute;width: 1px;}#sk-container-id-3 div.sk-estimator {font-family: monospace;background-color: #f0f8ff;border: 1px dotted black;border-radius: 0.25em;box-sizing: border-box;margin-bottom: 0.5em;}#sk-container-id-3 div.sk-estimator:hover {background-color: #d4ebff;}#sk-container-id-3 div.sk-parallel-item::after {content: \"\";width: 100%;border-bottom: 1px solid gray;flex-grow: 1;}#sk-container-id-3 div.sk-label:hover label.sk-toggleable__label {background-color: #d4ebff;}#sk-container-id-3 div.sk-serial::before {content: \"\";position: absolute;border-left: 1px solid gray;box-sizing: border-box;top: 0;bottom: 0;left: 50%;z-index: 0;}#sk-container-id-3 div.sk-serial {display: flex;flex-direction: column;align-items: center;background-color: white;padding-right: 0.2em;padding-left: 0.2em;position: relative;}#sk-container-id-3 div.sk-item {position: relative;z-index: 1;}#sk-container-id-3 div.sk-parallel {display: flex;align-items: stretch;justify-content: center;background-color: white;position: relative;}#sk-container-id-3 div.sk-item::before, #sk-container-id-3 div.sk-parallel-item::before {content: \"\";position: absolute;border-left: 1px solid gray;box-sizing: border-box;top: 0;bottom: 0;left: 50%;z-index: -1;}#sk-container-id-3 div.sk-parallel-item {display: flex;flex-direction: column;z-index: 1;position: relative;background-color: white;}#sk-container-id-3 div.sk-parallel-item:first-child::after {align-self: flex-end;width: 50%;}#sk-container-id-3 div.sk-parallel-item:last-child::after {align-self: flex-start;width: 50%;}#sk-container-id-3 div.sk-parallel-item:only-child::after {width: 0;}#sk-container-id-3 div.sk-dashed-wrapped {border: 1px dashed gray;margin: 0 0.4em 0.5em 0.4em;box-sizing: border-box;padding-bottom: 0.4em;background-color: white;}#sk-container-id-3 div.sk-label label {font-family: monospace;font-weight: bold;display: inline-block;line-height: 1.2em;}#sk-container-id-3 div.sk-label-container {text-align: center;}#sk-container-id-3 div.sk-container {/* jupyter's `normalize.less` sets `[hidden] { display: none; }` but bootstrap.min.css set `[hidden] { display: none !important; }` so we also need the `!important` here to be able to override the default hidden behavior on the sphinx rendered scikit-learn.org. See: https://github.com/scikit-learn/scikit-learn/issues/21755 */display: inline-block !important;position: relative;}#sk-container-id-3 div.sk-text-repr-fallback {display: none;}</style><div id=\"sk-container-id-3\" class=\"sk-top-container\"><div class=\"sk-text-repr-fallback\"><pre>DecisionTreeClassifier()</pre><b>In a Jupyter environment, please rerun this cell to show the HTML representation or trust the notebook. <br />On GitHub, the HTML representation is unable to render, please try loading this page with nbviewer.org.</b></div><div class=\"sk-container\" hidden><div class=\"sk-item\"><div class=\"sk-estimator sk-toggleable\"><input class=\"sk-toggleable__control sk-hidden--visually\" id=\"sk-estimator-id-3\" type=\"checkbox\" checked><label for=\"sk-estimator-id-3\" class=\"sk-toggleable__label sk-toggleable__label-arrow\">DecisionTreeClassifier</label><div class=\"sk-toggleable__content\"><pre>DecisionTreeClassifier()</pre></div></div></div></div></div>"
      ],
      "text/plain": [
       "DecisionTreeClassifier()"
      ]
     },
     "execution_count": 188,
     "metadata": {},
     "output_type": "execute_result"
    }
   ],
   "source": [
    "dt = DecisionTreeClassifier()\n",
    "dt.fit(X_train, y_train)"
   ]
  },
  {
   "attachments": {},
   "cell_type": "markdown",
   "metadata": {},
   "source": [
    "Credit risk scoring is a binary classification problem, and for cases like this, AUC (Area Under the Curve) is one of the best evaluation metrics. AUC refers to the area under the ROC (Receiver Operating Characteristic) curve. The ROC curve plots the True Positive Rate (TPR) against the False Positive Rate (FPR) at various threshold settings:\n",
    "\n",
    "$$(FPR, TPR) = \\bigg(\\frac{ \\text{FP} }{\\text{TN}+\\text{FP} },\\frac{\\text{TP}}{\\text{TP} +\\text{FN}} \\bigg)$$\n",
    "\n",
    "\n",
    "where FP denotes the number of False Positives, TN stands for True Negatives, TP symbolizes True Positives, and FN represents False Negatives. The threshold in this context is not a parameter of the model but a cut-off value to decide which category (positive or negative) a particular instance falls into, based on the predicted probabilities produced by the model.\n",
    "\n",
    "By varying the threshold from 0 to 1, each unique predicted probability is considered as a potential threshold and the corresponding TPR and FPR are calculated. These pairs of TPR and FPR form the ROC curve. The AUC provides an aggregate measure of the model performance across all possible thresholds. Thus, in this way, we can visualize and evaluate the performance of the classification model under different threshold settings."
   ]
  },
  {
   "cell_type": "code",
   "execution_count": 189,
   "metadata": {},
   "outputs": [],
   "source": [
    "def plot_ROC(fpr, tpr):\n",
    "    plt.figure(figsize=(5, 5))\n",
    "\n",
    "    plt.plot(fpr, tpr, color='black', linestyle='solid')\n",
    "    plt.plot(fpr, tpr, color='black', linestyle='dashed')\n",
    "    plt.plot([0, 1], [0, 1], color='black', lw=0.7, linestyle='dashed', alpha=0.5)\n",
    "\n",
    "    plt.xlim([-0.02, 1.02])\n",
    "    plt.ylim([-0.02, 1.02])\n",
    "    plt.xlabel('False Positive Rate')\n",
    "    plt.ylabel('True Positive Rate')\n",
    "\n",
    "    plt.title('ROC curve')\n",
    "\n",
    "    plt.show()"
   ]
  },
  {
   "cell_type": "code",
   "execution_count": 190,
   "metadata": {},
   "outputs": [
    {
     "name": "stdout",
     "output_type": "stream",
     "text": [
      "Thresholds : \n",
      " [2. 1. 0.] \n",
      "\n",
      "AUC : \n",
      " 1.0 \n",
      "\n"
     ]
    },
    {
     "data": {
      "image/png": "[encoded data removed]",
      "text/plain": [
       "<Figure size 360x360 with 1 Axes>"
      ]
     },
     "metadata": {
      "needs_background": "light"
     },
     "output_type": "display_data"
    }
   ],
   "source": [
    "y_pred = dt.predict_proba(X_train)[:,1]\n",
    "\n",
    "fpr_train, tpr_train, t_train = roc_curve(y_train, y_pred)\n",
    "auc_train = roc_auc_score(y_train, y_pred)\n",
    "\n",
    "printest(\"Thresholds\", t_train)\n",
    "printest(\"AUC\", auc_train)\n",
    "\n",
    "plot_ROC(fpr_train, tpr_train)\n"
   ]
  },
  {
   "cell_type": "code",
   "execution_count": 191,
   "metadata": {},
   "outputs": [
    {
     "data": {
      "text/plain": [
       "array([1., 1., 0., ..., 0., 0., 0.])"
      ]
     },
     "execution_count": 191,
     "metadata": {},
     "output_type": "execute_result"
    }
   ],
   "source": [
    "y_pred"
   ]
  },
  {
   "attachments": {},
   "cell_type": "markdown",
   "metadata": {},
   "source": [
    "Our analysis suggests we are encountering overfitting. To corroborate this, we can apply the same model to our validation dataset. This is likely to demonstrate that the model, in its learning process, has essentially memorized the outcomes of the training data. Yet, when faced with the validation set, it failed. It lacks the ability to generalize from the patterns it learned from the training data. This is a classic manifestation of overfitting, highlighting the need for a careful balance between learning and generalization in model training."
   ]
  },
  {
   "cell_type": "code",
   "execution_count": 192,
   "metadata": {},
   "outputs": [
    {
     "name": "stdout",
     "output_type": "stream",
     "text": [
      "Thresholds : \n",
      " [0.         0.17515924 1.        ] \n",
      "\n",
      "AUC : \n",
      " 0.6424584049792933 \n",
      "\n"
     ]
    },
    {
     "data": {
      "image/png": "[encoded data removed]",
      "text/plain": [
       "<Figure size 360x360 with 1 Axes>"
      ]
     },
     "metadata": {
      "needs_background": "light"
     },
     "output_type": "display_data"
    }
   ],
   "source": [
    "y_pred = dt.predict_proba(X_val)[:,1]\n",
    "fpr_val, tpr_val, t_val = roc_curve(y_val, y_pred)\n",
    "auc_val = roc_auc_score(y_val, y_pred)\n",
    "\n",
    "printest(\"Thresholds\", fpr_val)\n",
    "printest(\"AUC\", auc_val)\n",
    "\n",
    "\n",
    "plot_ROC(fpr_val, tpr_val)"
   ]
  },
  {
   "attachments": {},
   "cell_type": "markdown",
   "metadata": {},
   "source": [
    "We have multiple ways to control the complexity of a tree. One option is to restrict\n",
    "its size: we can specify the ``max_depth`` parameter, which controls the maximum number\n",
    "of levels. The more levels a tree has, the more complex rules it can learn."
   ]
  },
  {
   "cell_type": "code",
   "execution_count": 193,
   "metadata": {},
   "outputs": [
    {
     "name": "stdout",
     "output_type": "stream",
     "text": [
      "|--- records=yes <= 0.50\n",
      "|   |--- job=partime <= 0.50\n",
      "|   |   |--- class: False\n",
      "|   |--- job=partime >  0.50\n",
      "|   |   |--- class: True\n",
      "|--- records=yes >  0.50\n",
      "|   |--- seniority <= 6.50\n",
      "|   |   |--- class: True\n",
      "|   |--- seniority >  6.50\n",
      "|   |   |--- class: False\n",
      "\n"
     ]
    },
    {
     "data": {
      "image/png": "[encoded data removed]",
      "text/plain": [
       "<Figure size 720x360 with 1 Axes>"
      ]
     },
     "metadata": {
      "needs_background": "light"
     },
     "output_type": "display_data"
    }
   ],
   "source": [
    "dt = DecisionTreeClassifier(max_depth = 2)\n",
    "dt.fit(X_train, y_train)\n",
    "\n",
    "tree_text = export_text(dt, feature_names = dv.feature_names_)\n",
    "print(tree_text)\n",
    "\n",
    "# draw the decision tree \n",
    "fig, ax = plt.subplots(figsize=(10, 5))  \n",
    "plot_tree(dt, ax=ax)\n",
    "plt.show()"
   ]
  },
  {
   "cell_type": "code",
   "execution_count": 194,
   "metadata": {},
   "outputs": [
    {
     "name": "stdout",
     "output_type": "stream",
     "text": [
      "train auc : \n",
      " 0.7054989859726213 \n",
      "\n",
      "validation auc : \n",
      " 0.6685264343319367 \n",
      "\n"
     ]
    }
   ],
   "source": [
    "y_pred = dt.predict_proba(X_train)[:, 1]\n",
    "auc = roc_auc_score(y_train, y_pred)\n",
    "printest('train auc', auc)\n",
    "y_pred = dt.predict_proba(X_val)[:, 1]\n",
    "auc = roc_auc_score(y_val, y_pred)\n",
    "printest('validation auc', auc)"
   ]
  },
  {
   "attachments": {},
   "cell_type": "markdown",
   "metadata": {},
   "source": [
    "## Parameter tuning for Decision Tree"
   ]
  },
  {
   "attachments": {},
   "cell_type": "markdown",
   "metadata": {},
   "source": [
    "We aim to find the optimal values for the parameters ``max_depth`` and ``min_samples_leaf``.\n",
    "\n",
    "- The ``max_depth`` parameter indicates the maximum depth of the tree. It is the longest path from the tree root to a leaf. t's a measure of the maximum amount of overfitting that can occur. Lower values will make the model more conservative and prevent overfitting by ensuring that it doesn't learn the training data too well, but can potentially underfit if the depth is set too low.\n",
    "\n",
    "- The ``min_samples_leaf`` parameter is the minimum number of samples required to be at a leaf node. This parameter is very effective in smoothing the model, especially in regression. When this parameter is small, leaves can have very few samples, resulting in a model that captures a lot of detail and possibly noise. When this parameter is large, the tree becomes more constrained as it has to consider more samples at each leaf."
   ]
  },
  {
   "cell_type": "code",
   "execution_count": 195,
   "metadata": {},
   "outputs": [],
   "source": [
    "def parameter_tune_dt( x, \n",
    "                    y, \n",
    "                    x_val, \n",
    "                    y_val, \n",
    "                    max_depths: list = [1, 2, 3, 4, 5, 6, 10, 15, 20], \n",
    "                    max_samples: list = [1, 5, 10, 15, 20, 50, 100, 200]):\n",
    "\n",
    "    def run_model(x, y, x_val, y_val, max_depth = None, min_samples_leaf = 1):\n",
    "        dt = DecisionTreeClassifier(max_depth = max_depth, min_samples_leaf= min_samples_leaf)\n",
    "        dt.fit(x, y)\n",
    "        y_pred = dt.predict_proba(x_val)[:, 1]\n",
    "        auc = roc_auc_score(y_val, y_pred)\n",
    "        return y_pred, auc\n",
    "\n",
    "    results = []\n",
    "    for depth in max_depths:\n",
    "        y_pred, auc = run_model( x, y, x_val, y_val, max_depth = depth)\n",
    "        results.append({'max_depth': depth, 'auc': auc })\n",
    "\n",
    "    df_depth = pd.DataFrame(results)\n",
    "    df_depth = df_depth.sort_values(by='auc', ascending=False)\n",
    "    max_depth = df_depth.max_depth[:3].to_list()\n",
    "\n",
    "    results = {'sample_leaf': max_samples}\n",
    "    results.update({f'depth={int(d)}|auc': [] for d in max_depth})\n",
    "\n",
    "    for d in max_depth:\n",
    "        for s in max_samples:\n",
    "            y_pred, auc = run_model(x , y, x_val, y_val, max_depth = d, min_samples_leaf = s)\n",
    "            results[f'depth={int(d)}|auc'].append(auc)\n",
    "\n",
    "    df_best_parameters = pd.DataFrame(results).set_index('sample_leaf')\n",
    "    df_depth = df_depth.set_index('max_depth')\n",
    "\n",
    "    return df_depth, df_best_parameters"
   ]
  },
  {
   "cell_type": "code",
   "execution_count": 196,
   "metadata": {},
   "outputs": [
    {
     "data": {
      "text/html": [
       "<div>\n",
       "<style scoped>\n",
       "    .dataframe tbody tr th:only-of-type {\n",
       "        vertical-align: middle;\n",
       "    }\n",
       "\n",
       "    .dataframe tbody tr th {\n",
       "        vertical-align: top;\n",
       "    }\n",
       "\n",
       "    .dataframe thead th {\n",
       "        text-align: right;\n",
       "    }\n",
       "</style>\n",
       "<table border=\"1\" class=\"dataframe\">\n",
       "  <thead>\n",
       "    <tr style=\"text-align: right;\">\n",
       "      <th></th>\n",
       "      <th>auc</th>\n",
       "    </tr>\n",
       "    <tr>\n",
       "      <th>max_depth</th>\n",
       "      <th></th>\n",
       "    </tr>\n",
       "  </thead>\n",
       "  <tbody>\n",
       "    <tr>\n",
       "      <th>5</th>\n",
       "      <td>0.766938</td>\n",
       "    </tr>\n",
       "    <tr>\n",
       "      <th>4</th>\n",
       "      <td>0.761283</td>\n",
       "    </tr>\n",
       "    <tr>\n",
       "      <th>6</th>\n",
       "      <td>0.751141</td>\n",
       "    </tr>\n",
       "    <tr>\n",
       "      <th>3</th>\n",
       "      <td>0.738908</td>\n",
       "    </tr>\n",
       "    <tr>\n",
       "      <th>10</th>\n",
       "      <td>0.703389</td>\n",
       "    </tr>\n",
       "    <tr>\n",
       "      <th>2</th>\n",
       "      <td>0.668526</td>\n",
       "    </tr>\n",
       "    <tr>\n",
       "      <th>15</th>\n",
       "      <td>0.660825</td>\n",
       "    </tr>\n",
       "    <tr>\n",
       "      <th>20</th>\n",
       "      <td>0.655636</td>\n",
       "    </tr>\n",
       "    <tr>\n",
       "      <th>1</th>\n",
       "      <td>0.605864</td>\n",
       "    </tr>\n",
       "  </tbody>\n",
       "</table>\n",
       "</div>"
      ],
      "text/plain": [
       "                auc\n",
       "max_depth          \n",
       "5          0.766938\n",
       "4          0.761283\n",
       "6          0.751141\n",
       "3          0.738908\n",
       "10         0.703389\n",
       "2          0.668526\n",
       "15         0.660825\n",
       "20         0.655636\n",
       "1          0.605864"
      ]
     },
     "metadata": {},
     "output_type": "display_data"
    },
    {
     "data": {
      "text/html": [
       "<div>\n",
       "<style scoped>\n",
       "    .dataframe tbody tr th:only-of-type {\n",
       "        vertical-align: middle;\n",
       "    }\n",
       "\n",
       "    .dataframe tbody tr th {\n",
       "        vertical-align: top;\n",
       "    }\n",
       "\n",
       "    .dataframe thead th {\n",
       "        text-align: right;\n",
       "    }\n",
       "</style>\n",
       "<table border=\"1\" class=\"dataframe\">\n",
       "  <thead>\n",
       "    <tr style=\"text-align: right;\">\n",
       "      <th></th>\n",
       "      <th>depth=5|auc</th>\n",
       "      <th>depth=4|auc</th>\n",
       "      <th>depth=6|auc</th>\n",
       "    </tr>\n",
       "    <tr>\n",
       "      <th>sample_leaf</th>\n",
       "      <th></th>\n",
       "      <th></th>\n",
       "      <th></th>\n",
       "    </tr>\n",
       "  </thead>\n",
       "  <tbody>\n",
       "    <tr>\n",
       "      <th>1</th>\n",
       "      <td>0.766938</td>\n",
       "      <td>0.761283</td>\n",
       "      <td>0.757462</td>\n",
       "    </tr>\n",
       "    <tr>\n",
       "      <th>5</th>\n",
       "      <td>0.767755</td>\n",
       "      <td>0.761283</td>\n",
       "      <td>0.760290</td>\n",
       "    </tr>\n",
       "    <tr>\n",
       "      <th>10</th>\n",
       "      <td>0.762276</td>\n",
       "      <td>0.761283</td>\n",
       "      <td>0.777521</td>\n",
       "    </tr>\n",
       "    <tr>\n",
       "      <th>15</th>\n",
       "      <td>0.772405</td>\n",
       "      <td>0.763726</td>\n",
       "      <td>0.785095</td>\n",
       "    </tr>\n",
       "    <tr>\n",
       "      <th>20</th>\n",
       "      <td>0.773537</td>\n",
       "      <td>0.760910</td>\n",
       "      <td>0.774279</td>\n",
       "    </tr>\n",
       "    <tr>\n",
       "      <th>50</th>\n",
       "      <td>0.768197</td>\n",
       "      <td>0.753457</td>\n",
       "      <td>0.771733</td>\n",
       "    </tr>\n",
       "    <tr>\n",
       "      <th>100</th>\n",
       "      <td>0.763384</td>\n",
       "      <td>0.755937</td>\n",
       "      <td>0.776434</td>\n",
       "    </tr>\n",
       "    <tr>\n",
       "      <th>200</th>\n",
       "      <td>0.759073</td>\n",
       "      <td>0.747260</td>\n",
       "      <td>0.768267</td>\n",
       "    </tr>\n",
       "  </tbody>\n",
       "</table>\n",
       "</div>"
      ],
      "text/plain": [
       "             depth=5|auc  depth=4|auc  depth=6|auc\n",
       "sample_leaf                                       \n",
       "1               0.766938     0.761283     0.757462\n",
       "5               0.767755     0.761283     0.760290\n",
       "10              0.762276     0.761283     0.777521\n",
       "15              0.772405     0.763726     0.785095\n",
       "20              0.773537     0.760910     0.774279\n",
       "50              0.768197     0.753457     0.771733\n",
       "100             0.763384     0.755937     0.776434\n",
       "200             0.759073     0.747260     0.768267"
      ]
     },
     "metadata": {},
     "output_type": "display_data"
    }
   ],
   "source": [
    "df_depth , df_parameter = parameter_tune_dt(X_train, y_train, X_val, y_val)\n",
    "display(df_depth)\n",
    "display(df_parameter)"
   ]
  },
  {
   "cell_type": "code",
   "execution_count": 197,
   "metadata": {},
   "outputs": [
    {
     "data": {
      "text/plain": [
       "depth=5|auc    0.773537\n",
       "depth=4|auc    0.763726\n",
       "depth=6|auc    0.785095\n",
       "dtype: float64"
      ]
     },
     "execution_count": 197,
     "metadata": {},
     "output_type": "execute_result"
    }
   ],
   "source": [
    "df_parameter.max()"
   ]
  },
  {
   "attachments": {},
   "cell_type": "markdown",
   "metadata": {},
   "source": [
    "As we can se the best parameters for the decision three are ``max_depth = 6`` and ``min_sample_leaf  = 15``. Let’s use them to train the final model:"
   ]
  },
  {
   "cell_type": "code",
   "execution_count": 198,
   "metadata": {},
   "outputs": [
    {
     "name": "stdout",
     "output_type": "stream",
     "text": [
      "AUC Decision Tree : \n",
      " 0.7856948245380349 \n",
      "\n"
     ]
    },
    {
     "data": {
      "image/png": "[encoded data removed]",
      "text/plain": [
       "<Figure size 360x360 with 1 Axes>"
      ]
     },
     "metadata": {
      "needs_background": "light"
     },
     "output_type": "display_data"
    }
   ],
   "source": [
    "dt = DecisionTreeClassifier(max_depth=6, min_samples_leaf=15)\n",
    "dt.fit(X_train, y_train)\n",
    "\n",
    "y_pred_dt = dt.predict_proba(X_val)[:, 1]\n",
    "printest('AUC Decision Tree', roc_auc_score(y_val, y_pred_dt))\n",
    "\n",
    "fpr, tpr, t = roc_curve(y_val, y_pred_dt)\n",
    "plot_ROC(fpr, tpr)"
   ]
  },
  {
   "attachments": {},
   "cell_type": "markdown",
   "metadata": {},
   "source": [
    "# Random Forest"
   ]
  },
  {
   "cell_type": "markdown",
   "metadata": {},
   "source": []
  },
  {
   "cell_type": "code",
   "execution_count": 199,
   "metadata": {},
   "outputs": [],
   "source": [
    "def parameter_tune_rf(  x, \n",
    "                        y, \n",
    "                        x_val, \n",
    "                        y_val, \n",
    "                        n_estimators = range(10, 221, 20),\n",
    "                        max_depths: list = [4, 5, 6, 10, 15, 20], \n",
    "                        min_samples: list = [3, 5, 10, 15, 20, 50, 100]):\n",
    "\n",
    "    def run_model(x, y, x_val, y_val, n_estimators = 100, max_depth = None, min_samples_leaf = 1):\n",
    "        dt = RandomForestClassifier(n_estimators = n_estimators, max_depth = max_depth, min_samples_leaf = min_samples_leaf, random_state=1)\n",
    "        dt.fit(x, y)\n",
    "        y_pred = dt.predict_proba(x_val)[:, 1]\n",
    "        auc = roc_auc_score(y_val, y_pred)\n",
    "        return y_pred, auc\n",
    "    \n",
    "    results = {'n_trees': n_estimators}\n",
    "    results.update({f'depth={int(d)}|auc': [] for d in max_depths})\n",
    "    for d in max_depths:\n",
    "        for i in n_estimators:\n",
    "            y_pred, auc = run_model( x, y, x_val, y_val, n_estimators = i, max_depth = d)\n",
    "            results[f'depth={int(d)}|auc'].append(auc)\n",
    "    dt_depths = pd.DataFrame(results).set_index('n_trees') \n",
    "    best_depth_str = dt_depths.max().idxmax()\n",
    "    best_depth = int(best_depth_str.split('=')[1].split('|')[0])\n",
    "\n",
    "    results = {'n_trees': n_estimators}\n",
    "    results.update({f'sample_leaf={int(d)}|auc': [] for d in min_samples})\n",
    "    for l in min_samples:\n",
    "        for i in n_estimators:\n",
    "            y_pred, auc = run_model( x, y, x_val, y_val, n_estimators = i, max_depth = best_depth, min_samples_leaf = l )\n",
    "            results[f'sample_leaf={int(l)}|auc'].append(auc)\n",
    "    dt_leafs = pd.DataFrame(results).set_index('n_trees') \n",
    "    best_leafs_str = dt_leafs.max().idxmax()\n",
    "    best_leafs= int(best_leafs_str.split('=')[1].split('|')[0])\n",
    "\n",
    "    best_parameters = {'max_depth':best_depth, 'min_samples_leaf': best_leafs}\n",
    "\n",
    "    return dt_depths, dt_leafs, best_parameters"
   ]
  },
  {
   "cell_type": "code",
   "execution_count": 200,
   "metadata": {},
   "outputs": [],
   "source": [
    "dt_depths, dt_leafs, best_parameters = parameter_tune_rf(X_train, y_train, X_val, y_val)"
   ]
  },
  {
   "cell_type": "code",
   "execution_count": 201,
   "metadata": {},
   "outputs": [
    {
     "data": {
      "text/html": [
       "<div>\n",
       "<style scoped>\n",
       "    .dataframe tbody tr th:only-of-type {\n",
       "        vertical-align: middle;\n",
       "    }\n",
       "\n",
       "    .dataframe tbody tr th {\n",
       "        vertical-align: top;\n",
       "    }\n",
       "\n",
       "    .dataframe thead th {\n",
       "        text-align: right;\n",
       "    }\n",
       "</style>\n",
       "<table border=\"1\" class=\"dataframe\">\n",
       "  <thead>\n",
       "    <tr style=\"text-align: right;\">\n",
       "      <th></th>\n",
       "      <th>depth=4|auc</th>\n",
       "      <th>depth=5|auc</th>\n",
       "      <th>depth=6|auc</th>\n",
       "      <th>depth=10|auc</th>\n",
       "      <th>depth=15|auc</th>\n",
       "      <th>depth=20|auc</th>\n",
       "    </tr>\n",
       "    <tr>\n",
       "      <th>n_trees</th>\n",
       "      <th></th>\n",
       "      <th></th>\n",
       "      <th></th>\n",
       "      <th></th>\n",
       "      <th></th>\n",
       "      <th></th>\n",
       "    </tr>\n",
       "  </thead>\n",
       "  <tbody>\n",
       "    <tr>\n",
       "      <th>10</th>\n",
       "      <td>0.778036</td>\n",
       "      <td>0.787699</td>\n",
       "      <td>0.800641</td>\n",
       "      <td>0.791365</td>\n",
       "      <td>0.794704</td>\n",
       "      <td>0.776307</td>\n",
       "    </tr>\n",
       "    <tr>\n",
       "      <th>30</th>\n",
       "      <td>0.795812</td>\n",
       "      <td>0.800305</td>\n",
       "      <td>0.813334</td>\n",
       "      <td>0.811584</td>\n",
       "      <td>0.810128</td>\n",
       "      <td>0.813443</td>\n",
       "    </tr>\n",
       "    <tr>\n",
       "      <th>50</th>\n",
       "      <td>0.795655</td>\n",
       "      <td>0.799878</td>\n",
       "      <td>0.811481</td>\n",
       "      <td>0.817058</td>\n",
       "      <td>0.813364</td>\n",
       "      <td>0.814905</td>\n",
       "    </tr>\n",
       "    <tr>\n",
       "      <th>70</th>\n",
       "      <td>0.797538</td>\n",
       "      <td>0.802251</td>\n",
       "      <td>0.811215</td>\n",
       "      <td>0.820230</td>\n",
       "      <td>0.814061</td>\n",
       "      <td>0.814154</td>\n",
       "    </tr>\n",
       "    <tr>\n",
       "      <th>90</th>\n",
       "      <td>0.798627</td>\n",
       "      <td>0.803616</td>\n",
       "      <td>0.812614</td>\n",
       "      <td>0.819843</td>\n",
       "      <td>0.815420</td>\n",
       "      <td>0.814106</td>\n",
       "    </tr>\n",
       "    <tr>\n",
       "      <th>110</th>\n",
       "      <td>0.800523</td>\n",
       "      <td>0.806626</td>\n",
       "      <td>0.814121</td>\n",
       "      <td>0.822646</td>\n",
       "      <td>0.816422</td>\n",
       "      <td>0.816918</td>\n",
       "    </tr>\n",
       "    <tr>\n",
       "      <th>130</th>\n",
       "      <td>0.802630</td>\n",
       "      <td>0.808054</td>\n",
       "      <td>0.815344</td>\n",
       "      <td>0.824517</td>\n",
       "      <td>0.817914</td>\n",
       "      <td>0.818199</td>\n",
       "    </tr>\n",
       "    <tr>\n",
       "      <th>150</th>\n",
       "      <td>0.801727</td>\n",
       "      <td>0.807219</td>\n",
       "      <td>0.815901</td>\n",
       "      <td>0.824166</td>\n",
       "      <td>0.818474</td>\n",
       "      <td>0.818090</td>\n",
       "    </tr>\n",
       "    <tr>\n",
       "      <th>170</th>\n",
       "      <td>0.801836</td>\n",
       "      <td>0.806965</td>\n",
       "      <td>0.815332</td>\n",
       "      <td>0.824632</td>\n",
       "      <td>0.819128</td>\n",
       "      <td>0.817363</td>\n",
       "    </tr>\n",
       "    <tr>\n",
       "      <th>190</th>\n",
       "      <td>0.801885</td>\n",
       "      <td>0.807231</td>\n",
       "      <td>0.814830</td>\n",
       "      <td>0.824535</td>\n",
       "      <td>0.819570</td>\n",
       "      <td>0.817045</td>\n",
       "    </tr>\n",
       "    <tr>\n",
       "      <th>210</th>\n",
       "      <td>0.802188</td>\n",
       "      <td>0.807086</td>\n",
       "      <td>0.814472</td>\n",
       "      <td>0.824329</td>\n",
       "      <td>0.820842</td>\n",
       "      <td>0.818399</td>\n",
       "    </tr>\n",
       "  </tbody>\n",
       "</table>\n",
       "</div>"
      ],
      "text/plain": [
       "         depth=4|auc  depth=5|auc  depth=6|auc  depth=10|auc  depth=15|auc  \\\n",
       "n_trees                                                                      \n",
       "10          0.778036     0.787699     0.800641      0.791365      0.794704   \n",
       "30          0.795812     0.800305     0.813334      0.811584      0.810128   \n",
       "50          0.795655     0.799878     0.811481      0.817058      0.813364   \n",
       "70          0.797538     0.802251     0.811215      0.820230      0.814061   \n",
       "90          0.798627     0.803616     0.812614      0.819843      0.815420   \n",
       "110         0.800523     0.806626     0.814121      0.822646      0.816422   \n",
       "130         0.802630     0.808054     0.815344      0.824517      0.817914   \n",
       "150         0.801727     0.807219     0.815901      0.824166      0.818474   \n",
       "170         0.801836     0.806965     0.815332      0.824632      0.819128   \n",
       "190         0.801885     0.807231     0.814830      0.824535      0.819570   \n",
       "210         0.802188     0.807086     0.814472      0.824329      0.820842   \n",
       "\n",
       "         depth=20|auc  \n",
       "n_trees                \n",
       "10           0.776307  \n",
       "30           0.813443  \n",
       "50           0.814905  \n",
       "70           0.814154  \n",
       "90           0.814106  \n",
       "110          0.816918  \n",
       "130          0.818199  \n",
       "150          0.818090  \n",
       "170          0.817363  \n",
       "190          0.817045  \n",
       "210          0.818399  "
      ]
     },
     "metadata": {},
     "output_type": "display_data"
    },
    {
     "data": {
      "image/png": "[encoded data removed]",
      "text/plain": [
       "<Figure size 432x288 with 1 Axes>"
      ]
     },
     "metadata": {
      "needs_background": "light"
     },
     "output_type": "display_data"
    }
   ],
   "source": [
    "display(dt_depths)\n",
    "\n",
    "plt.figure(figsize=(6, 4))\n",
    "\n",
    "num_trees = list(range(10, 201, 10))\n",
    "\n",
    "plt.plot(dt_depths.index, dt_depths['depth=5|auc'], label='depth=5', color='black', linestyle='dotted')\n",
    "plt.plot(dt_depths.index, dt_depths['depth=10|auc'], label='depth=10', color='navy', linestyle='dashed')\n",
    "plt.plot(dt_depths.index, dt_depths['depth=20|auc'], label='depth=20', color='black', linestyle='solid')\n",
    "    \n",
    "plt.xticks(range(0, 201, 50))\n",
    "plt.legend()\n",
    "\n",
    "plt.title('Number of trees vs AUC')\n",
    "plt.xlabel('Number of trees')\n",
    "plt.ylabel('AUC')\n",
    "\n",
    "plt.show()\n"
   ]
  },
  {
   "cell_type": "code",
   "execution_count": 202,
   "metadata": {},
   "outputs": [
    {
     "data": {
      "text/html": [
       "<div>\n",
       "<style scoped>\n",
       "    .dataframe tbody tr th:only-of-type {\n",
       "        vertical-align: middle;\n",
       "    }\n",
       "\n",
       "    .dataframe tbody tr th {\n",
       "        vertical-align: top;\n",
       "    }\n",
       "\n",
       "    .dataframe thead th {\n",
       "        text-align: right;\n",
       "    }\n",
       "</style>\n",
       "<table border=\"1\" class=\"dataframe\">\n",
       "  <thead>\n",
       "    <tr style=\"text-align: right;\">\n",
       "      <th></th>\n",
       "      <th>sample_leaf=3|auc</th>\n",
       "      <th>sample_leaf=5|auc</th>\n",
       "      <th>sample_leaf=10|auc</th>\n",
       "      <th>sample_leaf=15|auc</th>\n",
       "      <th>sample_leaf=20|auc</th>\n",
       "      <th>sample_leaf=50|auc</th>\n",
       "      <th>sample_leaf=100|auc</th>\n",
       "    </tr>\n",
       "    <tr>\n",
       "      <th>n_trees</th>\n",
       "      <th></th>\n",
       "      <th></th>\n",
       "      <th></th>\n",
       "      <th></th>\n",
       "      <th></th>\n",
       "      <th></th>\n",
       "      <th></th>\n",
       "    </tr>\n",
       "  </thead>\n",
       "  <tbody>\n",
       "    <tr>\n",
       "      <th>10</th>\n",
       "      <td>0.810758</td>\n",
       "      <td>0.812947</td>\n",
       "      <td>0.809665</td>\n",
       "      <td>0.815535</td>\n",
       "      <td>0.804788</td>\n",
       "      <td>0.798891</td>\n",
       "      <td>0.791722</td>\n",
       "    </tr>\n",
       "    <tr>\n",
       "      <th>30</th>\n",
       "      <td>0.822531</td>\n",
       "      <td>0.817802</td>\n",
       "      <td>0.822319</td>\n",
       "      <td>0.816924</td>\n",
       "      <td>0.812256</td>\n",
       "      <td>0.803562</td>\n",
       "      <td>0.802006</td>\n",
       "    </tr>\n",
       "    <tr>\n",
       "      <th>50</th>\n",
       "      <td>0.822937</td>\n",
       "      <td>0.821266</td>\n",
       "      <td>0.822380</td>\n",
       "      <td>0.816537</td>\n",
       "      <td>0.813249</td>\n",
       "      <td>0.805378</td>\n",
       "      <td>0.798222</td>\n",
       "    </tr>\n",
       "    <tr>\n",
       "      <th>70</th>\n",
       "      <td>0.821538</td>\n",
       "      <td>0.822198</td>\n",
       "      <td>0.819383</td>\n",
       "      <td>0.816991</td>\n",
       "      <td>0.812063</td>\n",
       "      <td>0.804712</td>\n",
       "      <td>0.798101</td>\n",
       "    </tr>\n",
       "    <tr>\n",
       "      <th>90</th>\n",
       "      <td>0.823282</td>\n",
       "      <td>0.822470</td>\n",
       "      <td>0.820369</td>\n",
       "      <td>0.816537</td>\n",
       "      <td>0.812620</td>\n",
       "      <td>0.806226</td>\n",
       "      <td>0.800044</td>\n",
       "    </tr>\n",
       "    <tr>\n",
       "      <th>110</th>\n",
       "      <td>0.823403</td>\n",
       "      <td>0.824547</td>\n",
       "      <td>0.819831</td>\n",
       "      <td>0.816809</td>\n",
       "      <td>0.813049</td>\n",
       "      <td>0.805947</td>\n",
       "      <td>0.799542</td>\n",
       "    </tr>\n",
       "    <tr>\n",
       "      <th>130</th>\n",
       "      <td>0.824414</td>\n",
       "      <td>0.825286</td>\n",
       "      <td>0.820515</td>\n",
       "      <td>0.817736</td>\n",
       "      <td>0.813933</td>\n",
       "      <td>0.806202</td>\n",
       "      <td>0.801437</td>\n",
       "    </tr>\n",
       "    <tr>\n",
       "      <th>150</th>\n",
       "      <td>0.824850</td>\n",
       "      <td>0.825031</td>\n",
       "      <td>0.820339</td>\n",
       "      <td>0.817603</td>\n",
       "      <td>0.813340</td>\n",
       "      <td>0.805978</td>\n",
       "      <td>0.800074</td>\n",
       "    </tr>\n",
       "    <tr>\n",
       "      <th>170</th>\n",
       "      <td>0.824959</td>\n",
       "      <td>0.824868</td>\n",
       "      <td>0.819903</td>\n",
       "      <td>0.817584</td>\n",
       "      <td>0.813376</td>\n",
       "      <td>0.805172</td>\n",
       "      <td>0.798845</td>\n",
       "    </tr>\n",
       "    <tr>\n",
       "      <th>190</th>\n",
       "      <td>0.825147</td>\n",
       "      <td>0.825952</td>\n",
       "      <td>0.819758</td>\n",
       "      <td>0.816694</td>\n",
       "      <td>0.813921</td>\n",
       "      <td>0.805596</td>\n",
       "      <td>0.799530</td>\n",
       "    </tr>\n",
       "    <tr>\n",
       "      <th>210</th>\n",
       "      <td>0.824838</td>\n",
       "      <td>0.825031</td>\n",
       "      <td>0.820436</td>\n",
       "      <td>0.817106</td>\n",
       "      <td>0.814055</td>\n",
       "      <td>0.805966</td>\n",
       "      <td>0.800135</td>\n",
       "    </tr>\n",
       "  </tbody>\n",
       "</table>\n",
       "</div>"
      ],
      "text/plain": [
       "         sample_leaf=3|auc  sample_leaf=5|auc  sample_leaf=10|auc  \\\n",
       "n_trees                                                             \n",
       "10                0.810758           0.812947            0.809665   \n",
       "30                0.822531           0.817802            0.822319   \n",
       "50                0.822937           0.821266            0.822380   \n",
       "70                0.821538           0.822198            0.819383   \n",
       "90                0.823282           0.822470            0.820369   \n",
       "110               0.823403           0.824547            0.819831   \n",
       "130               0.824414           0.825286            0.820515   \n",
       "150               0.824850           0.825031            0.820339   \n",
       "170               0.824959           0.824868            0.819903   \n",
       "190               0.825147           0.825952            0.819758   \n",
       "210               0.824838           0.825031            0.820436   \n",
       "\n",
       "         sample_leaf=15|auc  sample_leaf=20|auc  sample_leaf=50|auc  \\\n",
       "n_trees                                                               \n",
       "10                 0.815535            0.804788            0.798891   \n",
       "30                 0.816924            0.812256            0.803562   \n",
       "50                 0.816537            0.813249            0.805378   \n",
       "70                 0.816991            0.812063            0.804712   \n",
       "90                 0.816537            0.812620            0.806226   \n",
       "110                0.816809            0.813049            0.805947   \n",
       "130                0.817736            0.813933            0.806202   \n",
       "150                0.817603            0.813340            0.805978   \n",
       "170                0.817584            0.813376            0.805172   \n",
       "190                0.816694            0.813921            0.805596   \n",
       "210                0.817106            0.814055            0.805966   \n",
       "\n",
       "         sample_leaf=100|auc  \n",
       "n_trees                       \n",
       "10                  0.791722  \n",
       "30                  0.802006  \n",
       "50                  0.798222  \n",
       "70                  0.798101  \n",
       "90                  0.800044  \n",
       "110                 0.799542  \n",
       "130                 0.801437  \n",
       "150                 0.800074  \n",
       "170                 0.798845  \n",
       "190                 0.799530  \n",
       "210                 0.800135  "
      ]
     },
     "metadata": {},
     "output_type": "display_data"
    },
    {
     "data": {
      "image/png": "[encoded data removed]",
      "text/plain": [
       "<Figure size 432x288 with 1 Axes>"
      ]
     },
     "metadata": {
      "needs_background": "light"
     },
     "output_type": "display_data"
    }
   ],
   "source": [
    "display(dt_leafs)\n",
    "\n",
    "plt.figure(figsize=(6, 4))\n",
    "\n",
    "num_trees = list(range(10, 201, 10))\n",
    "\n",
    "plt.plot(dt_depths.index, dt_leafs['sample_leaf=3|auc'], label='sample_leaf=3', color='black', linestyle='dotted')\n",
    "plt.plot(dt_depths.index, dt_leafs['sample_leaf=5|auc'], label='sample_leaf=5', color='navy', linestyle='dashed')\n",
    "plt.plot(dt_depths.index, dt_leafs['sample_leaf=10|auc'], label='sample_leaf=20', color='black', linestyle='solid')\n",
    "    \n",
    "plt.xticks(range(0, 201, 50))\n",
    "plt.legend()\n",
    "\n",
    "plt.title('Number of trees vs AUC')\n",
    "plt.xlabel('Number of trees')\n",
    "plt.ylabel('AUC')\n",
    "\n",
    "plt.show()"
   ]
  },
  {
   "attachments": {},
   "cell_type": "markdown",
   "metadata": {},
   "source": [
    "As we can se the best parameters for the Random forest are ``max_depth = 10``, ``min_sample_leaf  = 5`` and ``n_estimators=200``. Let’s use them to train the final model:"
   ]
  },
  {
   "cell_type": "code",
   "execution_count": 203,
   "metadata": {},
   "outputs": [
    {
     "name": "stdout",
     "output_type": "stream",
     "text": [
      "AUC Random Forest : \n",
      " 0.8253826499721489 \n",
      "\n",
      "AUC Decision Tree : \n",
      " 0.7856948245380349 \n",
      "\n"
     ]
    },
    {
     "data": {
      "image/png": "[encoded data removed]",
      "text/plain": [
       "<Figure size 360x360 with 1 Axes>"
      ]
     },
     "metadata": {
      "needs_background": "light"
     },
     "output_type": "display_data"
    }
   ],
   "source": [
    "# colocar legenda\n",
    "rf = RandomForestClassifier(n_estimators=200, max_depth = best_parameters['max_depth'], min_samples_leaf = best_parameters['min_samples_leaf'], random_state=1)\n",
    "rf.fit(X_train, y_train)\n",
    "\n",
    "y_pred_rf = rf.predict_proba(X_val)[:, 1]\n",
    "printest('AUC Random Forest' , roc_auc_score(y_val, y_pred_rf))\n",
    "printest('AUC Decision Tree' , roc_auc_score(y_val, y_pred_dt))\n",
    "\n",
    "\n",
    "plt.figure(figsize=(5, 5))\n",
    "\n",
    "fpr, tpr, _ = roc_curve(y_val, y_pred_rf)\n",
    "plt.plot(fpr, tpr, color='navy', linestyle='solid', label = 'Random Forest')\n",
    "\n",
    "fpr, tpr, _ = roc_curve(y_val, y_pred_dt)\n",
    "plt.plot(fpr, tpr, color='black', linestyle='dashed', label = 'Decision Tree')\n",
    "\n",
    "plt.plot([0, 1], [0, 1], color='black', lw=0.7, linestyle='dashed', alpha=0.5)\n",
    "\n",
    "plt.xlim([-0.02, 1.02])\n",
    "plt.ylim([-0.02, 1.02])\n",
    "plt.legend()\n",
    "plt.xlabel('False Positive Rate')\n",
    "plt.ylabel('True Positive Rate')\n",
    "\n",
    "plt.title('ROC curve')\n",
    "\n",
    "plt.show()\n"
   ]
  },
  {
   "attachments": {},
   "cell_type": "markdown",
   "metadata": {},
   "source": [
    "# XGBoost: Extreme Gradient Boosting"
   ]
  },
  {
   "cell_type": "markdown",
   "metadata": {},
   "source": []
  },
  {
   "cell_type": "code",
   "execution_count": 204,
   "metadata": {},
   "outputs": [
    {
     "name": "stdout",
     "output_type": "stream",
     "text": [
      "[0]\ttrain-auc:0.86300\tval-auc:0.76818\n",
      "[10]\ttrain-auc:0.95002\tval-auc:0.81558\n",
      "[20]\ttrain-auc:0.97316\tval-auc:0.81775\n",
      "[30]\ttrain-auc:0.98772\tval-auc:0.81787\n",
      "[40]\ttrain-auc:0.99456\tval-auc:0.81387\n",
      "[50]\ttrain-auc:0.99688\tval-auc:0.81128\n",
      "[60]\ttrain-auc:0.99889\tval-auc:0.80801\n",
      "[70]\ttrain-auc:0.99944\tval-auc:0.80732\n",
      "[80]\ttrain-auc:0.99985\tval-auc:0.80677\n",
      "[90]\ttrain-auc:0.99992\tval-auc:0.80637\n",
      "[99]\ttrain-auc:0.99998\tval-auc:0.80546\n"
     ]
    }
   ],
   "source": [
    "# Data structure that is designed for efficiency and speed in XGBoost\n",
    "dtrain = xgb.DMatrix(X_train, label=y_train, feature_names=dv.feature_names_)\n",
    "dval = xgb.DMatrix(X_val, label=y_val, feature_names=dv.feature_names_)\n",
    "\n",
    "# XGBoost will print out performance metrics for each dataset in watchlist\n",
    "watchlist = [(dtrain, 'train'), (dval, 'val')]\n",
    "\n",
    "# Save evaluation metrics\n",
    "evals_result = {}\n",
    "\n",
    "# Some default parameters for XGBoost\n",
    "xgb_params = {\n",
    "    'eta': 0.3,\n",
    "    'max_depth': 6,\n",
    "    'min_child_weight': 1,\n",
    "    'objective': 'binary:logistic',\n",
    "    'eval_metric': 'auc',\n",
    "    'nthread': 6,\n",
    "    'seed': 1\n",
    "}\n",
    "\n",
    "model = xgb.train(xgb_params, dtrain, num_boost_round=100, \n",
    "                  evals = watchlist, evals_result = evals_result, verbose_eval = 10)"
   ]
  },
  {
   "attachments": {},
   "cell_type": "markdown",
   "metadata": {},
   "source": [
    "In gradient boosting, the number of trees (also called ``num_boost_round``) directly corresponds to the iteration number. For example, after 10 iterations (or \"boosting rounds\"), you have 10 trees in your ensemble.\n",
    "\n",
    "So, if we have a list of AUC scores for each iteration, the number of trees corresponding to each AUC score is simply the index of the score in the list plus one."
   ]
  },
  {
   "cell_type": "code",
   "execution_count": 205,
   "metadata": {},
   "outputs": [
    {
     "data": {
      "image/png": "[encoded data removed]",
      "text/plain": [
       "<Figure size 432x288 with 1 Axes>"
      ]
     },
     "metadata": {
      "needs_background": "light"
     },
     "output_type": "display_data"
    }
   ],
   "source": [
    "# auc scores for each set\n",
    "train_auc = evals_result['train']['auc']\n",
    "val_auc = evals_result['val']['auc']\n",
    "# number of trees\n",
    "n_trees = list(range(1, len(train_auc) + 1))\n",
    "\n",
    "\n",
    "plt.figure(figsize=(6, 4))\n",
    "\n",
    "plt.plot(n_trees, train_auc, color='black', linestyle='dashed', label='Train AUC')\n",
    "plt.plot(n_trees, val_auc, color='black', linestyle='solid', label='Validation AUC')\n",
    "plt.xticks(range(0, 101, 25))\n",
    "\n",
    "plt.legend()\n",
    "\n",
    "plt.title('XGBoost: number of trees vs AUC')\n",
    "plt.xlabel('Number of trees')\n",
    "plt.ylabel('AUC')\n",
    "\n",
    "plt.show()"
   ]
  },
  {
   "attachments": {},
   "cell_type": "markdown",
   "metadata": {},
   "source": [
    "The effect of the number of trees on the AUC from train and validation sets. This behavior is expected: in boosting, every next model tries to fix the mistakes from\n",
    "the previous step, so the score is always improving.\n",
    "For the validation score, however, this is not the case. It goes up initially but then\n",
    "starts to decrease. This is the effect of overfitting: our model becomes more and more\n",
    "complex until it simply memorizes the entire training set."
   ]
  },
  {
   "attachments": {},
   "cell_type": "markdown",
   "metadata": {},
   "source": [
    "## Hyperparameters Tuning"
   ]
  },
  {
   "attachments": {},
   "cell_type": "markdown",
   "metadata": {},
   "source": [
    "A hyperparameter is a type of parameter, external to the model, set before the learning process begins. It’s tunable and can directly affect how well a model performs.\n",
    "\n",
    "- ``max_depth``: The maximum depth per tree. This is the maximum number of nodes from the root to the farthest leaf of a tree. Deeper trees can model more complex relationships by adding more nodes, but they also risk overfitting.\n",
    "  - The value must be an integer greater than 0. Default is 6.\n",
    "\n",
    "- **learning_rate** ($\\eta$): The $\\eta$, also known as the learning rate, affects the step size at each iteration while moving toward the minimum of the loss function. While a higher $\\eta$ value can make the model train faster, it could also overshoot the optimal solution, leading to a less accurate model.\n",
    "  - The value must be between 0 and 1. Default is 0.3.\n",
    "\n",
    "- ``num_boost_round``: This is the number of boosting rounds or trees to build. It's equivalent to the number of iterations in gradient boosting. More rounds lead to a more complex model, but too many rounds can lead to overfitting.\n",
    "\n",
    "- ``min_child_weight``: If the tree partition step results in a leaf node with the sum of instance weight less than min_child_weight, then the building process gives up further partitioning. This controls overfitting as well. The larger, the more conservative the algorithm will be.\n",
    "\n",
    "- ``subsample``: Corresponds to the fraction of observations (the rows) to subsample at each step. By default it is set to 1 meaning that we use all rows. This is similar to the subsampling made in the Random Forest algorithm, where at each step the model are choosing a random subset of the dataset to prevent overfitting. "
   ]
  },
  {
   "attachments": {},
   "cell_type": "markdown",
   "metadata": {},
   "source": [
    "**Learning rate**\n",
    "\n",
    "The default value of 0.3 is reasonably good for large datasets, but for smaller datasets, we should try smaller values like 0.1 or even 0.05"
   ]
  },
  {
   "cell_type": "code",
   "execution_count": 206,
   "metadata": {},
   "outputs": [],
   "source": [
    "eta_values =  [0.5, 0.1, 0.05, 0.01]\n",
    "auc_eta = []\n",
    "for eta in eta_values:\n",
    "    evals_result = {}\n",
    "    xgb_params = {\n",
    "        'eta': eta,\n",
    "        'max_depth': 6,\n",
    "        'min_child_weight': 1,\n",
    "        'objective': 'binary:logistic',\n",
    "        'eval_metric': 'auc',\n",
    "        'nthread': 6,\n",
    "        'seed': 1\n",
    "    }\n",
    "    model = xgb.train(xgb_params, dtrain, num_boost_round=700, verbose_eval=False,\n",
    "                      evals_result = evals_result, evals=watchlist)\n",
    "    \n",
    "    auc_eta.append({\n",
    "        \"eta\": eta,\n",
    "        \"train_auc\": evals_result['train']['auc'],  # The last AUC for the training set\n",
    "        \"val_auc\": evals_result['val']['auc']       \n",
    "    })"
   ]
  },
  {
   "cell_type": "code",
   "execution_count": 207,
   "metadata": {},
   "outputs": [
    {
     "data": {
      "image/png": "[encoded data removed]",
      "text/plain": [
       "<Figure size 432x288 with 1 Axes>"
      ]
     },
     "metadata": {
      "needs_background": "light"
     },
     "output_type": "display_data"
    }
   ],
   "source": [
    "# number of trees\n",
    "n_trees = list(range(1, len(auc_eta[0]['train_auc']) + 1))\n",
    "\n",
    "plt.figure(figsize=(6, 4))\n",
    "\n",
    "plt.plot(n_trees, auc_eta[0]['val_auc'], color='grey', linestyle='dashed', label=f'$\\eta$ = {auc_eta[0][\"eta\"]}')\n",
    "plt.plot(n_trees, auc_eta[1]['val_auc'], color='navy', linestyle='solid', label=f'$\\eta$ ={auc_eta[1][\"eta\"]}')\n",
    "plt.plot(n_trees, auc_eta[2]['val_auc'], color='black', linestyle='dashed', label=f'$\\eta$ ={auc_eta[2][\"eta\"]}')\n",
    "plt.plot(n_trees, auc_eta[3]['val_auc'], color='black', linestyle='dotted', label=f'$\\eta$ ={auc_eta[3][\"eta\"]}')\n",
    "\n",
    "plt.xticks(range(0, 501, 100))\n",
    "\n",
    "plt.legend()\n",
    "\n",
    "plt.title('The effect of $\\eta$ on model performance')\n",
    "plt.xlabel('Number of trees')\n",
    "plt.ylabel('AUC (validation)')\n",
    "\n",
    "# plt.savefig('ch06-figures/06_xgb_eta_2.svg')\n",
    "\n",
    "plt.show()"
   ]
  },
  {
   "attachments": {},
   "cell_type": "markdown",
   "metadata": {},
   "source": [
    "When $\\eta = 0.05$, the performance is similar to $\\eta = 0.1$, but it takes more iterations to\n",
    "reach the peak. For $\\eta = 0.01$, it grows too slowly, and even after 500 iterations, it hasn’t reached\n",
    "the peak. If we tried it for more iterations, it could potentially get to the same level of AUC as other values. Thus, we use the value of $\\eta = 0.1$."
   ]
  },
  {
   "attachments": {},
   "cell_type": "markdown",
   "metadata": {},
   "source": [
    "**max_depth**"
   ]
  },
  {
   "cell_type": "code",
   "execution_count": 208,
   "metadata": {},
   "outputs": [],
   "source": [
    "eta = 0.1\n",
    "max_depths = [3, 4, 6, 10] \n",
    "auc_depth = []\n",
    "for depth in max_depths:\n",
    "    evals_result = {}\n",
    "    xgb_params = {\n",
    "        'eta': eta,\n",
    "        'max_depth': depth,\n",
    "        'min_child_weight': 1,\n",
    "        'objective': 'binary:logistic',\n",
    "        'eval_metric': 'auc',\n",
    "        'nthread': 6,\n",
    "        'seed': 1\n",
    "    }\n",
    "    model = xgb.train(xgb_params, dtrain, num_boost_round = 500, verbose_eval=False,\n",
    "                      evals_result = evals_result, evals=watchlist)\n",
    "    \n",
    "    auc_depth.append({\n",
    "        \"depth\": depth,\n",
    "        \"train_auc\": evals_result['train']['auc'],\n",
    "        \"val_auc\": evals_result['val']['auc']       \n",
    "    })"
   ]
  },
  {
   "cell_type": "code",
   "execution_count": 209,
   "metadata": {},
   "outputs": [
    {
     "data": {
      "image/png": "[encoded data removed]",
      "text/plain": [
       "<Figure size 432x288 with 1 Axes>"
      ]
     },
     "metadata": {
      "needs_background": "light"
     },
     "output_type": "display_data"
    }
   ],
   "source": [
    "# number of trees\n",
    "n_trees = list(range(1, len(auc_depth[0]['train_auc']) + 1))\n",
    "\n",
    "plt.figure(figsize=(6, 4))\n",
    "\n",
    "plt.plot(n_trees, auc_depth[0]['val_auc'], color='navy', linestyle='dashed', label=f'max_depth = {auc_depth[0][\"depth\"]}')\n",
    "plt.plot(n_trees, auc_depth[1]['val_auc'], color='grey', linestyle='solid', label=f'max_depth ={auc_depth[1][\"depth\"]}')\n",
    "plt.plot(n_trees, auc_depth[2]['val_auc'], color='black', linestyle='dashed', label=f'max_depth ={auc_depth[2][\"depth\"]}')\n",
    "plt.plot(n_trees, auc_depth[3]['val_auc'], color='black', linestyle='dotted', label=f'max_depth ={auc_depth[3][\"depth\"]}')\n",
    "\n",
    "plt.xticks(range(0, 501, 100))\n",
    "\n",
    "plt.legend()\n",
    "\n",
    "plt.title('Effect of max_depth on model performance')\n",
    "plt.xlabel('Number of trees')\n",
    "plt.ylabel('AUC (validation)')\n",
    "\n",
    "# plt.savefig('ch06-figures/06_xgb_eta_2.svg')\n",
    "\n",
    "plt.show()"
   ]
  },
  {
   "attachments": {},
   "cell_type": "markdown",
   "metadata": {},
   "source": [
    "As we can see the best AUC is for ``max_depth`` equals 3."
   ]
  },
  {
   "attachments": {},
   "cell_type": "markdown",
   "metadata": {},
   "source": [
    "**min_child_weight**"
   ]
  },
  {
   "cell_type": "code",
   "execution_count": 210,
   "metadata": {},
   "outputs": [],
   "source": [
    "eta = 0.1\n",
    "max_depth = 3\n",
    "min_child_weight = [1, 10, 20, 30] \n",
    "auc_wight = []\n",
    "for child_weight in min_child_weight:\n",
    "    evals_result = {}\n",
    "    xgb_params = {\n",
    "        'eta': eta,\n",
    "        'max_depth': max_depth,\n",
    "        'min_child_weight': child_weight,\n",
    "        'objective': 'binary:logistic',\n",
    "        'eval_metric': 'auc',\n",
    "        'nthread': 6,\n",
    "        'seed': 1\n",
    "    }\n",
    "    model = xgb.train(xgb_params, dtrain, num_boost_round = 500, verbose_eval=False,\n",
    "                      evals_result = evals_result, evals=watchlist)\n",
    "    \n",
    "    auc_wight.append({\n",
    "        \"depth\": child_weight,\n",
    "        \"train_auc\": evals_result['train']['auc'],\n",
    "        \"val_auc\": evals_result['val']['auc']       \n",
    "    })"
   ]
  },
  {
   "cell_type": "code",
   "execution_count": 211,
   "metadata": {},
   "outputs": [
    {
     "data": {
      "image/png": "[encoded data removed]",
      "text/plain": [
       "<Figure size 432x288 with 1 Axes>"
      ]
     },
     "metadata": {
      "needs_background": "light"
     },
     "output_type": "display_data"
    }
   ],
   "source": [
    "# number of trees\n",
    "n_trees = list(range(1, len(auc_wight[0]['train_auc']) + 1))\n",
    "\n",
    "plt.figure(figsize=(6, 4))\n",
    "\n",
    "plt.plot(n_trees, auc_wight[0]['val_auc'], color='navy', linestyle='dashed', label=f'max_depth = {auc_wight[0][\"depth\"]}')\n",
    "plt.plot(n_trees, auc_wight[1]['val_auc'], color='grey', linestyle='solid', label=f'max_depth ={auc_wight[1][\"depth\"]}')\n",
    "plt.plot(n_trees, auc_wight[2]['val_auc'], color='black', linestyle='dashed', label=f'max_depth ={auc_wight[2][\"depth\"]}')\n",
    "plt.plot(n_trees, auc_wight[3]['val_auc'], color='black', linestyle='dotted', label=f'max_depth ={auc_wight[3][\"depth\"]}')\n",
    "\n",
    "plt.ylim(0.82, 0.84)\n",
    "plt.xlim(0, 510)\n",
    "plt.xticks(range(0, 501, 100))\n",
    "plt.yticks(np.linspace(0.82, 0.84, 5))\n",
    "\n",
    "plt.legend()\n",
    "\n",
    "plt.title('Effect of min_child_weight on model performance')\n",
    "plt.xlabel('Number of trees')\n",
    "plt.ylabel('AUC (validation)')\n",
    "\n",
    "# plt.savefig('ch06-figures/06_xgb_eta_2.svg')\n",
    "\n",
    "plt.show()"
   ]
  },
  {
   "attachments": {},
   "cell_type": "markdown",
   "metadata": {},
   "source": [
    "The optimal value for ``min_child_weight`` is 1, but it’s not drastically different from other values for this parameter"
   ]
  },
  {
   "attachments": {},
   "cell_type": "markdown",
   "metadata": {},
   "source": [
    "**number of trees**"
   ]
  },
  {
   "cell_type": "code",
   "execution_count": 212,
   "metadata": {},
   "outputs": [
    {
     "name": "stdout",
     "output_type": "stream",
     "text": [
      "[0]\ttrain-auc:0.76588\tval-auc:0.73459\n",
      "[100]\ttrain-auc:0.89334\tval-auc:0.83354\n",
      "[200]\ttrain-auc:0.90527\tval-auc:0.83451\n",
      "[300]\ttrain-auc:0.91489\tval-auc:0.83338\n",
      "[400]\ttrain-auc:0.92208\tval-auc:0.83199\n",
      "[499]\ttrain-auc:0.92766\tval-auc:0.83072\n"
     ]
    }
   ],
   "source": [
    "eta = 0.1\n",
    "max_depth = 3\n",
    "min_child_weight = 1\n",
    "evals_result = {}\n",
    "\n",
    "xgb_params = {\n",
    "    'eta': eta,\n",
    "    'max_depth': max_depth,\n",
    "    'min_child_weight': child_weight,\n",
    "    'objective': 'binary:logistic',\n",
    "    'eval_metric': 'auc',\n",
    "    'nthread': 8,\n",
    "    'seed': 1\n",
    "}\n",
    "model = xgb.train(xgb_params, dtrain, num_boost_round = 500, verbose_eval=100,\n",
    "                      evals_result = evals_result, evals=watchlist)"
   ]
  },
  {
   "cell_type": "code",
   "execution_count": 213,
   "metadata": {},
   "outputs": [
    {
     "data": {
      "text/plain": [
       "(0.8355725218570633, 165)"
      ]
     },
     "execution_count": 213,
     "metadata": {},
     "output_type": "execute_result"
    }
   ],
   "source": [
    "# Selecting the best AUC for the number of trees\n",
    "train_auc = evals_result['train']['auc']\n",
    "val_auc = evals_result['val']['auc']\n",
    "n_trees = list(range(1, len(val_auc) +1 ))\n",
    "\n",
    "max(zip(val_auc, n_trees))"
   ]
  },
  {
   "cell_type": "code",
   "execution_count": 214,
   "metadata": {},
   "outputs": [
    {
     "data": {
      "image/png": "[encoded data removed]",
      "text/plain": [
       "<Figure size 432x288 with 1 Axes>"
      ]
     },
     "metadata": {
      "needs_background": "light"
     },
     "output_type": "display_data"
    }
   ],
   "source": [
    "plt.figure(figsize=(6, 4))\n",
    "\n",
    "plt.plot(n_trees, val_auc, color='black', linestyle='solid')\n",
    "\n",
    "\n",
    "plt.ylim(0.80, 0.84)\n",
    "plt.xlim(0, 510)\n",
    "plt.xticks(range(0, 501, 100))\n",
    "plt.yticks(np.linspace(0.80, 0.84, 9))\n",
    "\n",
    "\n",
    "plt.vlines(165, 0, 1, color='navy', linestyle='dashed', linewidth=0.9)\n",
    "\n",
    "plt.title('Selecting the number of trees')\n",
    "plt.xlabel('Number of trees')\n",
    "plt.ylabel('AUC (validation)')\n",
    "\n",
    "# plt.savefig('ch06-figures/06_xgb_number_trees.svg')\n",
    "\n",
    "plt.show()"
   ]
  },
  {
   "attachments": {},
   "cell_type": "markdown",
   "metadata": {},
   "source": [
    "## Best hyperparameters"
   ]
  },
  {
   "cell_type": "code",
   "execution_count": 215,
   "metadata": {},
   "outputs": [],
   "source": [
    "eta = 0.1\n",
    "max_depth = 3\n",
    "min_child_weight = 1\n",
    "\n",
    "evals_result = {}\n",
    "xgb_params = {\n",
    "    'eta': eta,\n",
    "    'max_depth': max_depth,\n",
    "    'min_child_weight': child_weight,\n",
    "    'objective': 'binary:logistic',\n",
    "    'eval_metric': 'auc',\n",
    "    'nthread': 6,\n",
    "    'seed': 1\n",
    "}\n",
    "model = xgb.train(xgb_params, dtrain, num_boost_round = 165, verbose_eval= False,\n",
    "                      evals_result = evals_result, evals=watchlist)"
   ]
  },
  {
   "cell_type": "code",
   "execution_count": 216,
   "metadata": {},
   "outputs": [
    {
     "name": "stdout",
     "output_type": "stream",
     "text": [
      "AUC Decision Tree : \n",
      " 0.7856948245380349 \n",
      "\n",
      "AUC Random Forest : \n",
      " 0.8253826499721489 \n",
      "\n",
      "AUC XGBoost : \n",
      " 0.8355725218570632 \n",
      "\n"
     ]
    },
    {
     "data": {
      "image/png": "[encoded data removed]",
      "text/plain": [
       "<Figure size 360x360 with 1 Axes>"
      ]
     },
     "metadata": {
      "needs_background": "light"
     },
     "output_type": "display_data"
    }
   ],
   "source": [
    "y_pred_xgb = model.predict(dval)\n",
    "\n",
    "y_pred_rf = rf.predict_proba(X_val)[:, 1]\n",
    "printest('AUC Decision Tree' , roc_auc_score(y_val, y_pred_dt))\n",
    "printest('AUC Random Forest' , roc_auc_score(y_val, y_pred_rf))\n",
    "printest('AUC XGBoost', roc_auc_score(y_val, y_pred_xgb))\n",
    "\n",
    "\n",
    "plt.figure(figsize=(5, 5))\n",
    "\n",
    "fpr, tpr, _ = roc_curve(y_val, y_pred_rf)\n",
    "plt.plot(fpr, tpr, color='black', linestyle='solid', label = 'Random Forest')\n",
    "\n",
    "fpr, tpr, _ = roc_curve(y_val, y_pred_dt)\n",
    "plt.plot(fpr, tpr, color='black', linestyle='dashed', label = 'Decision Tree')\n",
    "\n",
    "fpr, tpr, _ = roc_curve(y_val, y_pred_xgb)\n",
    "plt.plot(fpr, tpr, color='navy', linestyle='solid', label = 'XGBoost')\n",
    "\n",
    "plt.plot([0, 1], [0, 1], color='black', lw=0.7, linestyle='dashed', alpha=0.5)\n",
    "\n",
    "plt.xlim([-0.02, 1.02])\n",
    "plt.ylim([-0.02, 1.02])\n",
    "plt.legend()\n",
    "plt.xlabel('False Positive Rate')\n",
    "plt.ylabel('True Positive Rate')\n",
    "\n",
    "plt.title('ROC curve')\n",
    "\n",
    "plt.show()"
   ]
  },
  {
   "attachments": {},
   "cell_type": "markdown",
   "metadata": {},
   "source": [
    "# Final Model on Test Set"
   ]
  },
  {
   "attachments": {},
   "cell_type": "markdown",
   "metadata": {},
   "source": [
    "We should proceed to retrain our final model, but this time using a combination of both the training and validation datasets. Since we no longer need the validation set as a separate entity, it can be used in conjunction with the training set to provide more data for our model's learning process. This approach may improve the performance of our model.\n",
    "\n",
    "Following this step, we test our model on the test dataset. This dataset, which we set aside from the very beginning, serves as entirely new data for the model. By evaluating our model on this dataset, we can ensure that it generalizes well and does not overfit to the training data. The performance on this test dataset gives us a fair idea of how the model might perform with real-world unseen data."
   ]
  },
  {
   "cell_type": "code",
   "execution_count": 217,
   "metadata": {},
   "outputs": [],
   "source": [
    "# Train Random Forest with 80% of dataset  and predict on 20%  of dataset\n",
    "rf_final = RandomForestClassifier(n_estimators=200, max_depth=10, min_samples_leaf=5, random_state=1)\n",
    "rf_final.fit(X_train_full, y_train_full)\n",
    "\n",
    "y_pred_rf = rf.predict_proba(X_test)[:, 1]"
   ]
  },
  {
   "cell_type": "code",
   "execution_count": 218,
   "metadata": {},
   "outputs": [],
   "source": [
    "# Train XGBoost with 80% of dataset and predict on 20% of dataset\n",
    "dtrain_full = xgb.DMatrix(X_train_full, label=y_train_full, feature_names=dv.feature_names_)\n",
    "dtest = xgb.DMatrix(X_test, label= y_test, feature_names=dv.feature_names_)\n",
    "\n",
    "xgb_params = {\n",
    "    'eta': 0.1,\n",
    "    'max_depth': 3,\n",
    "    'min_child_weight': 1,\n",
    "    'objective': 'binary:logistic',\n",
    "    'eval_metric': 'auc',\n",
    "    'nthread': 8,\n",
    "    'seed': 1,\n",
    "}\n",
    "\n",
    "num_trees = 165\n",
    "\n",
    "xgb_final = xgb.train(xgb_params, dtrain_full, num_boost_round=num_trees)\n",
    "y_pred_xgb = xgb_final.predict(dtest)"
   ]
  },
  {
   "cell_type": "code",
   "execution_count": 219,
   "metadata": {},
   "outputs": [
    {
     "name": "stdout",
     "output_type": "stream",
     "text": [
      "AUC Random Forest : \n",
      " 0.8241777039245393 \n",
      "\n",
      "AUC XGBoost : \n",
      " 0.8322540442793608 \n",
      "\n"
     ]
    }
   ],
   "source": [
    "printest('AUC Random Forest',roc_auc_score(y_test, y_pred_rf))\n",
    "printest('AUC XGBoost',roc_auc_score(y_test, y_pred_xgb))"
   ]
  },
  {
   "attachments": {},
   "cell_type": "markdown",
   "metadata": {},
   "source": [
    "|-| Validation | Test |\n",
    "|---------| --------- | ---------- |\n",
    "|Random Forest| 0.825     | 0.824 |\n",
    "|XGBoost | 0.836     | 0.832 |\n"
   ]
  },
  {
   "attachments": {},
   "cell_type": "markdown",
   "metadata": {},
   "source": [
    "The output for XGBoost is 83.2%, which is comparable to 83.6% — the performance on the validation\n",
    "set. It means that our model doesn’t overfit and can work well with customers it\n",
    "hasn’t seen."
   ]
  }
 ],
 "metadata": {
  "kernelspec": {
   "display_name": "Python 3",
   "language": "python",
   "name": "python3"
  },
  "language_info": {
   "codemirror_mode": {
    "name": "ipython",
    "version": 3
   },
   "file_extension": ".py",
   "mimetype": "text/x-python",
   "name": "python",
   "nbconvert_exporter": "python",
   "pygments_lexer": "ipython3",
   "version": "3.10.2"
  },
  "orig_nbformat": 4,
  "vscode": {
   "interpreter": {
    "hash": "0743c798041383927c03f3bae5eca888e94e4777f716cdd511cdff96fbdedc02"
   }
  }
 },
 "nbformat": 4,
 "nbformat_minor": 2
}
