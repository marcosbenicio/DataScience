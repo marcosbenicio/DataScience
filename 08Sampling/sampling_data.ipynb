{
 "cells": [
  {
   "cell_type": "code",
   "execution_count": 1,
   "metadata": {},
   "outputs": [],
   "source": [
    "import pandas as pd\n",
    "import numpy as np\n",
    "from scipy import stats\n",
    "from sklearn.utils import resample\n",
    "import random\n",
    "\n",
    "import seaborn as sns\n",
    "import matplotlib.pylab as plt"
   ]
  },
  {
   "cell_type": "code",
   "execution_count": 2,
   "metadata": {},
   "outputs": [],
   "source": [
    "ATTRITION_POP = 'Data/attrition.feather'\n",
    "SPOTIFY = 'Data/spotify_2000_2020.feather'"
   ]
  },
  {
   "cell_type": "code",
   "execution_count": 3,
   "metadata": {},
   "outputs": [],
   "source": [
    "def printest(args, value):\n",
    "    return print( \"{} : \\n {} \\n\".format(args, value) )"
   ]
  },
  {
   "attachments": {},
   "cell_type": "markdown",
   "metadata": {},
   "source": [
    "# Data and Sampling Distributions"
   ]
  },
  {
   "attachments": {},
   "cell_type": "markdown",
   "metadata": {},
   "source": [
    "# **Random Sampling**\n",
    "\n",
    "Random sampling helps to reduce selection bias. When samples are not randomly selected, there's a risk that the samples may be biased in some way. Bias can occur when samples are selected based on convenience or the subjective judgement of the researcher. A random sample helps to ensure that every member of the population has an equal chance of being included, which reduces the potential for bias.\n",
    "\n",
    "The more random and less biased the sample, the more likely it is to reflect the true characteristics of the population, and therefore, the smaller the sampling error."
   ]
  },
  {
   "attachments": {},
   "cell_type": "markdown",
   "metadata": {},
   "source": [
    "Here we use a synthetic (fictional) employee attrition dataset from IBM, where \"attrition\" in this context means leaving the company.\n",
    "\n"
   ]
  },
  {
   "cell_type": "code",
   "execution_count": 4,
   "metadata": {},
   "outputs": [
    {
     "data": {
      "text/html": [
       "<div>\n",
       "<style scoped>\n",
       "    .dataframe tbody tr th:only-of-type {\n",
       "        vertical-align: middle;\n",
       "    }\n",
       "\n",
       "    .dataframe tbody tr th {\n",
       "        vertical-align: top;\n",
       "    }\n",
       "\n",
       "    .dataframe thead th {\n",
       "        text-align: right;\n",
       "    }\n",
       "</style>\n",
       "<table border=\"1\" class=\"dataframe\">\n",
       "  <thead>\n",
       "    <tr style=\"text-align: right;\">\n",
       "      <th></th>\n",
       "      <th>Age</th>\n",
       "      <th>Attrition</th>\n",
       "      <th>BusinessTravel</th>\n",
       "      <th>DailyRate</th>\n",
       "      <th>Department</th>\n",
       "      <th>DistanceFromHome</th>\n",
       "      <th>Education</th>\n",
       "      <th>EducationField</th>\n",
       "      <th>EnvironmentSatisfaction</th>\n",
       "      <th>Gender</th>\n",
       "      <th>...</th>\n",
       "      <th>PerformanceRating</th>\n",
       "      <th>RelationshipSatisfaction</th>\n",
       "      <th>StockOptionLevel</th>\n",
       "      <th>TotalWorkingYears</th>\n",
       "      <th>TrainingTimesLastYear</th>\n",
       "      <th>WorkLifeBalance</th>\n",
       "      <th>YearsAtCompany</th>\n",
       "      <th>YearsInCurrentRole</th>\n",
       "      <th>YearsSinceLastPromotion</th>\n",
       "      <th>YearsWithCurrManager</th>\n",
       "    </tr>\n",
       "  </thead>\n",
       "  <tbody>\n",
       "    <tr>\n",
       "      <th>0</th>\n",
       "      <td>21</td>\n",
       "      <td>0.0</td>\n",
       "      <td>Travel_Rarely</td>\n",
       "      <td>391</td>\n",
       "      <td>Research_Development</td>\n",
       "      <td>15</td>\n",
       "      <td>College</td>\n",
       "      <td>Life_Sciences</td>\n",
       "      <td>High</td>\n",
       "      <td>Male</td>\n",
       "      <td>...</td>\n",
       "      <td>Excellent</td>\n",
       "      <td>Very_High</td>\n",
       "      <td>0</td>\n",
       "      <td>0</td>\n",
       "      <td>6</td>\n",
       "      <td>Better</td>\n",
       "      <td>0</td>\n",
       "      <td>0</td>\n",
       "      <td>0</td>\n",
       "      <td>0</td>\n",
       "    </tr>\n",
       "    <tr>\n",
       "      <th>1</th>\n",
       "      <td>19</td>\n",
       "      <td>1.0</td>\n",
       "      <td>Travel_Rarely</td>\n",
       "      <td>528</td>\n",
       "      <td>Sales</td>\n",
       "      <td>22</td>\n",
       "      <td>Below_College</td>\n",
       "      <td>Marketing</td>\n",
       "      <td>Very_High</td>\n",
       "      <td>Male</td>\n",
       "      <td>...</td>\n",
       "      <td>Excellent</td>\n",
       "      <td>Very_High</td>\n",
       "      <td>0</td>\n",
       "      <td>0</td>\n",
       "      <td>2</td>\n",
       "      <td>Good</td>\n",
       "      <td>0</td>\n",
       "      <td>0</td>\n",
       "      <td>0</td>\n",
       "      <td>0</td>\n",
       "    </tr>\n",
       "  </tbody>\n",
       "</table>\n",
       "<p>2 rows × 31 columns</p>\n",
       "</div>"
      ],
      "text/plain": [
       "   Age  Attrition BusinessTravel  DailyRate            Department  \\\n",
       "0   21        0.0  Travel_Rarely        391  Research_Development   \n",
       "1   19        1.0  Travel_Rarely        528                 Sales   \n",
       "\n",
       "   DistanceFromHome      Education EducationField EnvironmentSatisfaction  \\\n",
       "0                15        College  Life_Sciences                    High   \n",
       "1                22  Below_College      Marketing               Very_High   \n",
       "\n",
       "  Gender  ...  PerformanceRating RelationshipSatisfaction  StockOptionLevel  \\\n",
       "0   Male  ...          Excellent                Very_High                 0   \n",
       "1   Male  ...          Excellent                Very_High                 0   \n",
       "\n",
       "  TotalWorkingYears TrainingTimesLastYear WorkLifeBalance  YearsAtCompany  \\\n",
       "0                 0                     6          Better               0   \n",
       "1                 0                     2            Good               0   \n",
       "\n",
       "   YearsInCurrentRole  YearsSinceLastPromotion YearsWithCurrManager  \n",
       "0                   0                        0                    0  \n",
       "1                   0                        0                    0  \n",
       "\n",
       "[2 rows x 31 columns]"
      ]
     },
     "execution_count": 4,
     "metadata": {},
     "output_type": "execute_result"
    }
   ],
   "source": [
    "attrition_pop = pd.read_feather(ATTRITION_POP)\n",
    "attrition_pop.head(2)"
   ]
  },
  {
   "attachments": {},
   "cell_type": "markdown",
   "metadata": {},
   "source": [
    "**Simple Random Sampling**\n",
    "\n",
    "Each member of the population has an equal chance of being chosen. It is an unbiased method of drawing a sample from a larger population. This sampling method is as 'random' as possible, and every member of the population is equally likely to be chosen."
   ]
  },
  {
   "cell_type": "code",
   "execution_count": 5,
   "metadata": {},
   "outputs": [
    {
     "name": "stdout",
     "output_type": "stream",
     "text": [
      "Simple Random Sampling:\n"
     ]
    },
    {
     "data": {
      "text/html": [
       "<div>\n",
       "<style scoped>\n",
       "    .dataframe tbody tr th:only-of-type {\n",
       "        vertical-align: middle;\n",
       "    }\n",
       "\n",
       "    .dataframe tbody tr th {\n",
       "        vertical-align: top;\n",
       "    }\n",
       "\n",
       "    .dataframe thead th {\n",
       "        text-align: right;\n",
       "    }\n",
       "</style>\n",
       "<table border=\"1\" class=\"dataframe\">\n",
       "  <thead>\n",
       "    <tr style=\"text-align: right;\">\n",
       "      <th></th>\n",
       "      <th>Age</th>\n",
       "      <th>Attrition</th>\n",
       "      <th>BusinessTravel</th>\n",
       "      <th>DailyRate</th>\n",
       "      <th>Department</th>\n",
       "      <th>DistanceFromHome</th>\n",
       "      <th>Education</th>\n",
       "      <th>EducationField</th>\n",
       "      <th>EnvironmentSatisfaction</th>\n",
       "      <th>Gender</th>\n",
       "      <th>...</th>\n",
       "      <th>PerformanceRating</th>\n",
       "      <th>RelationshipSatisfaction</th>\n",
       "      <th>StockOptionLevel</th>\n",
       "      <th>TotalWorkingYears</th>\n",
       "      <th>TrainingTimesLastYear</th>\n",
       "      <th>WorkLifeBalance</th>\n",
       "      <th>YearsAtCompany</th>\n",
       "      <th>YearsInCurrentRole</th>\n",
       "      <th>YearsSinceLastPromotion</th>\n",
       "      <th>YearsWithCurrManager</th>\n",
       "    </tr>\n",
       "  </thead>\n",
       "  <tbody>\n",
       "    <tr>\n",
       "      <th>1134</th>\n",
       "      <td>35</td>\n",
       "      <td>0.0</td>\n",
       "      <td>Travel_Rarely</td>\n",
       "      <td>583</td>\n",
       "      <td>Research_Development</td>\n",
       "      <td>25</td>\n",
       "      <td>Master</td>\n",
       "      <td>Medical</td>\n",
       "      <td>High</td>\n",
       "      <td>Female</td>\n",
       "      <td>...</td>\n",
       "      <td>Excellent</td>\n",
       "      <td>High</td>\n",
       "      <td>1</td>\n",
       "      <td>16</td>\n",
       "      <td>3</td>\n",
       "      <td>Good</td>\n",
       "      <td>16</td>\n",
       "      <td>10</td>\n",
       "      <td>10</td>\n",
       "      <td>1</td>\n",
       "    </tr>\n",
       "    <tr>\n",
       "      <th>1150</th>\n",
       "      <td>52</td>\n",
       "      <td>0.0</td>\n",
       "      <td>Non-Travel</td>\n",
       "      <td>585</td>\n",
       "      <td>Sales</td>\n",
       "      <td>29</td>\n",
       "      <td>Master</td>\n",
       "      <td>Life_Sciences</td>\n",
       "      <td>Low</td>\n",
       "      <td>Male</td>\n",
       "      <td>...</td>\n",
       "      <td>Excellent</td>\n",
       "      <td>Medium</td>\n",
       "      <td>2</td>\n",
       "      <td>16</td>\n",
       "      <td>3</td>\n",
       "      <td>Good</td>\n",
       "      <td>9</td>\n",
       "      <td>8</td>\n",
       "      <td>0</td>\n",
       "      <td>0</td>\n",
       "    </tr>\n",
       "  </tbody>\n",
       "</table>\n",
       "<p>2 rows × 31 columns</p>\n",
       "</div>"
      ],
      "text/plain": [
       "      Age  Attrition BusinessTravel  DailyRate            Department  \\\n",
       "1134   35        0.0  Travel_Rarely        583  Research_Development   \n",
       "1150   52        0.0     Non-Travel        585                 Sales   \n",
       "\n",
       "      DistanceFromHome Education EducationField EnvironmentSatisfaction  \\\n",
       "1134                25    Master        Medical                    High   \n",
       "1150                29    Master  Life_Sciences                     Low   \n",
       "\n",
       "      Gender  ...  PerformanceRating RelationshipSatisfaction  \\\n",
       "1134  Female  ...          Excellent                     High   \n",
       "1150    Male  ...          Excellent                   Medium   \n",
       "\n",
       "      StockOptionLevel TotalWorkingYears TrainingTimesLastYear  \\\n",
       "1134                 1                16                     3   \n",
       "1150                 2                16                     3   \n",
       "\n",
       "     WorkLifeBalance  YearsAtCompany  YearsInCurrentRole  \\\n",
       "1134            Good              16                  10   \n",
       "1150            Good               9                   8   \n",
       "\n",
       "      YearsSinceLastPromotion YearsWithCurrManager  \n",
       "1134                       10                    1  \n",
       "1150                        0                    0  \n",
       "\n",
       "[2 rows x 31 columns]"
      ]
     },
     "metadata": {},
     "output_type": "display_data"
    }
   ],
   "source": [
    "# Sample 70 rows with simple random sampling\n",
    "attrition_samp = attrition_pop.sample(n = 70 , random_state = 18900217)\n",
    "print('Simple Random Sampling:')\n",
    "display(attrition_samp.head(2))"
   ]
  },
  {
   "attachments": {},
   "cell_type": "markdown",
   "metadata": {},
   "source": [
    "**Systematic Random Sampling**\n",
    "\n",
    "This method involves choosing members from the population at regular intervals, starting from a randomly selected point. The interval, known as the sampling interval, is determined by dividing the total population size by the desired sample size:\n",
    "\n",
    "$$\\Delta = \\frac{\\text{Population size}}{\\text{Sample size}}$$\n",
    "\n",
    "Systematic sampling should only be used when the population data doesn't show a specific pattern. If a scatter plot of the data only seems to show random noise, then it's safe to use.\n",
    "\n",
    "Shuffling the rows in a dataset and applying systematic sampling is the same as proceed with a simple random sampling. When shuffle a dataset, all rows are randomly rearrange. If then we apply systematic sampling to this shuffled dataset, we're effectively selecting data points at regular intervals from a completely randomized set of data.\n",
    "\n",
    "It is more efficient in cases when the data is collected over time (e.g., quality control in manufacturing) or when the population is spread over a large geographic area."
   ]
  },
  {
   "cell_type": "code",
   "execution_count": 6,
   "metadata": {},
   "outputs": [
    {
     "name": "stdout",
     "output_type": "stream",
     "text": [
      "Random Start Point: 3\n",
      "Systematic Random Sampling:\n"
     ]
    },
    {
     "data": {
      "text/html": [
       "<div>\n",
       "<style scoped>\n",
       "    .dataframe tbody tr th:only-of-type {\n",
       "        vertical-align: middle;\n",
       "    }\n",
       "\n",
       "    .dataframe tbody tr th {\n",
       "        vertical-align: top;\n",
       "    }\n",
       "\n",
       "    .dataframe thead th {\n",
       "        text-align: right;\n",
       "    }\n",
       "</style>\n",
       "<table border=\"1\" class=\"dataframe\">\n",
       "  <thead>\n",
       "    <tr style=\"text-align: right;\">\n",
       "      <th></th>\n",
       "      <th>Age</th>\n",
       "      <th>Attrition</th>\n",
       "      <th>BusinessTravel</th>\n",
       "      <th>DailyRate</th>\n",
       "      <th>Department</th>\n",
       "      <th>DistanceFromHome</th>\n",
       "      <th>Education</th>\n",
       "      <th>EducationField</th>\n",
       "      <th>EnvironmentSatisfaction</th>\n",
       "      <th>Gender</th>\n",
       "      <th>...</th>\n",
       "      <th>PerformanceRating</th>\n",
       "      <th>RelationshipSatisfaction</th>\n",
       "      <th>StockOptionLevel</th>\n",
       "      <th>TotalWorkingYears</th>\n",
       "      <th>TrainingTimesLastYear</th>\n",
       "      <th>WorkLifeBalance</th>\n",
       "      <th>YearsAtCompany</th>\n",
       "      <th>YearsInCurrentRole</th>\n",
       "      <th>YearsSinceLastPromotion</th>\n",
       "      <th>YearsWithCurrManager</th>\n",
       "    </tr>\n",
       "  </thead>\n",
       "  <tbody>\n",
       "    <tr>\n",
       "      <th>0</th>\n",
       "      <td>21</td>\n",
       "      <td>0.0</td>\n",
       "      <td>Travel_Rarely</td>\n",
       "      <td>391</td>\n",
       "      <td>Research_Development</td>\n",
       "      <td>15</td>\n",
       "      <td>College</td>\n",
       "      <td>Life_Sciences</td>\n",
       "      <td>High</td>\n",
       "      <td>Male</td>\n",
       "      <td>...</td>\n",
       "      <td>Excellent</td>\n",
       "      <td>Very_High</td>\n",
       "      <td>0</td>\n",
       "      <td>0</td>\n",
       "      <td>6</td>\n",
       "      <td>Better</td>\n",
       "      <td>0</td>\n",
       "      <td>0</td>\n",
       "      <td>0</td>\n",
       "      <td>0</td>\n",
       "    </tr>\n",
       "    <tr>\n",
       "      <th>21</th>\n",
       "      <td>19</td>\n",
       "      <td>0.0</td>\n",
       "      <td>Travel_Rarely</td>\n",
       "      <td>1181</td>\n",
       "      <td>Research_Development</td>\n",
       "      <td>3</td>\n",
       "      <td>Below_College</td>\n",
       "      <td>Medical</td>\n",
       "      <td>Medium</td>\n",
       "      <td>Female</td>\n",
       "      <td>...</td>\n",
       "      <td>Excellent</td>\n",
       "      <td>Very_High</td>\n",
       "      <td>0</td>\n",
       "      <td>1</td>\n",
       "      <td>3</td>\n",
       "      <td>Better</td>\n",
       "      <td>1</td>\n",
       "      <td>0</td>\n",
       "      <td>0</td>\n",
       "      <td>0</td>\n",
       "    </tr>\n",
       "    <tr>\n",
       "      <th>42</th>\n",
       "      <td>45</td>\n",
       "      <td>0.0</td>\n",
       "      <td>Travel_Rarely</td>\n",
       "      <td>252</td>\n",
       "      <td>Research_Development</td>\n",
       "      <td>2</td>\n",
       "      <td>Bachelor</td>\n",
       "      <td>Life_Sciences</td>\n",
       "      <td>Medium</td>\n",
       "      <td>Female</td>\n",
       "      <td>...</td>\n",
       "      <td>Excellent</td>\n",
       "      <td>Very_High</td>\n",
       "      <td>0</td>\n",
       "      <td>1</td>\n",
       "      <td>3</td>\n",
       "      <td>Better</td>\n",
       "      <td>1</td>\n",
       "      <td>0</td>\n",
       "      <td>0</td>\n",
       "      <td>0</td>\n",
       "    </tr>\n",
       "    <tr>\n",
       "      <th>63</th>\n",
       "      <td>23</td>\n",
       "      <td>0.0</td>\n",
       "      <td>Travel_Rarely</td>\n",
       "      <td>373</td>\n",
       "      <td>Research_Development</td>\n",
       "      <td>1</td>\n",
       "      <td>College</td>\n",
       "      <td>Life_Sciences</td>\n",
       "      <td>Very_High</td>\n",
       "      <td>Male</td>\n",
       "      <td>...</td>\n",
       "      <td>Outstanding</td>\n",
       "      <td>Very_High</td>\n",
       "      <td>1</td>\n",
       "      <td>1</td>\n",
       "      <td>2</td>\n",
       "      <td>Better</td>\n",
       "      <td>1</td>\n",
       "      <td>0</td>\n",
       "      <td>0</td>\n",
       "      <td>1</td>\n",
       "    </tr>\n",
       "    <tr>\n",
       "      <th>84</th>\n",
       "      <td>30</td>\n",
       "      <td>1.0</td>\n",
       "      <td>Travel_Rarely</td>\n",
       "      <td>945</td>\n",
       "      <td>Sales</td>\n",
       "      <td>9</td>\n",
       "      <td>Bachelor</td>\n",
       "      <td>Medical</td>\n",
       "      <td>Medium</td>\n",
       "      <td>Male</td>\n",
       "      <td>...</td>\n",
       "      <td>Excellent</td>\n",
       "      <td>High</td>\n",
       "      <td>0</td>\n",
       "      <td>1</td>\n",
       "      <td>3</td>\n",
       "      <td>Good</td>\n",
       "      <td>1</td>\n",
       "      <td>0</td>\n",
       "      <td>0</td>\n",
       "      <td>0</td>\n",
       "    </tr>\n",
       "  </tbody>\n",
       "</table>\n",
       "<p>5 rows × 31 columns</p>\n",
       "</div>"
      ],
      "text/plain": [
       "    Age  Attrition BusinessTravel  DailyRate            Department  \\\n",
       "0    21        0.0  Travel_Rarely        391  Research_Development   \n",
       "21   19        0.0  Travel_Rarely       1181  Research_Development   \n",
       "42   45        0.0  Travel_Rarely        252  Research_Development   \n",
       "63   23        0.0  Travel_Rarely        373  Research_Development   \n",
       "84   30        1.0  Travel_Rarely        945                 Sales   \n",
       "\n",
       "    DistanceFromHome      Education EducationField EnvironmentSatisfaction  \\\n",
       "0                 15        College  Life_Sciences                    High   \n",
       "21                 3  Below_College        Medical                  Medium   \n",
       "42                 2       Bachelor  Life_Sciences                  Medium   \n",
       "63                 1        College  Life_Sciences               Very_High   \n",
       "84                 9       Bachelor        Medical                  Medium   \n",
       "\n",
       "    Gender  ...  PerformanceRating RelationshipSatisfaction  StockOptionLevel  \\\n",
       "0     Male  ...          Excellent                Very_High                 0   \n",
       "21  Female  ...          Excellent                Very_High                 0   \n",
       "42  Female  ...          Excellent                Very_High                 0   \n",
       "63    Male  ...        Outstanding                Very_High                 1   \n",
       "84    Male  ...          Excellent                     High                 0   \n",
       "\n",
       "   TotalWorkingYears TrainingTimesLastYear WorkLifeBalance  YearsAtCompany  \\\n",
       "0                  0                     6          Better               0   \n",
       "21                 1                     3          Better               1   \n",
       "42                 1                     3          Better               1   \n",
       "63                 1                     2          Better               1   \n",
       "84                 1                     3            Good               1   \n",
       "\n",
       "    YearsInCurrentRole  YearsSinceLastPromotion YearsWithCurrManager  \n",
       "0                    0                        0                    0  \n",
       "21                   0                        0                    0  \n",
       "42                   0                        0                    0  \n",
       "63                   0                        0                    1  \n",
       "84                   0                        0                    0  \n",
       "\n",
       "[5 rows x 31 columns]"
      ]
     },
     "metadata": {},
     "output_type": "display_data"
    }
   ],
   "source": [
    "# Systematic Random Sampling\n",
    "\n",
    "sample_size = 70\n",
    "\n",
    "# Calculate the population size from attrition_pop\n",
    "pop_size = len(attrition_pop)\n",
    "\n",
    "# Calculate the interval\n",
    "interval = pop_size // sample_size\n",
    "\n",
    "# Systematically sample 70 rows\n",
    "# Alternatively attrition_pop.iloc[::interval]\n",
    "start = np.random.randint(0, interval)\n",
    "print('Random Start Point:',start )\n",
    "attrition_sys_samp = attrition_pop.iloc[slice(None, None, interval)]\n",
    "\n",
    "print('Systematic Random Sampling:')\n",
    "display(attrition_sys_samp.head())"
   ]
  },
  {
   "attachments": {},
   "cell_type": "markdown",
   "metadata": {},
   "source": [
    "**Stratified Random Sampling**\n",
    "\n",
    "Stratified Random Sampling is a technique that breaks your population into separate groups or strata that share similar characteristics. Each of these groups is homogeneous. After these groups are formed, a random sample is taken from each one. The characteristics that define these groups could be anything from gender, age group, income level, etc.\n",
    "\n",
    "The goal of this technique is to ensure every subgroup within the population is adequately represented in the sample. This is especially beneficial when dealing with large, diverse populations.\n",
    "\n",
    "- Identify the Strata: The first step is to identify the characteristic that define the strata within your population. \n",
    "\n",
    "- Divide the Population: Next, divide population into distinct strata, based on the identified characteristic.\n",
    "\n",
    "- Sample from Each Stratum: Finally, perform a simple random sample within each stratum.\n",
    "\n",
    "In the code example below, we execute a Stratified Random Sampling procedure where the 'Education' column determines the strata. We take a 40% sample from each stratum.\n"
   ]
  },
  {
   "cell_type": "code",
   "execution_count": 7,
   "metadata": {},
   "outputs": [
    {
     "name": "stdout",
     "output_type": "stream",
     "text": [
      "Proportion for the population of each group:\n"
     ]
    },
    {
     "data": {
      "text/plain": [
       "Education\n",
       "Bachelor         0.389116\n",
       "Master           0.270748\n",
       "College          0.191837\n",
       "Below_College    0.115646\n",
       "Doctor           0.032653\n",
       "Name: proportion, dtype: float64"
      ]
     },
     "metadata": {},
     "output_type": "display_data"
    },
    {
     "name": "stdout",
     "output_type": "stream",
     "text": [
      "Proportion for the sample of each group:\n"
     ]
    },
    {
     "data": {
      "text/plain": [
       "Education\n",
       "Bachelor         0.389456\n",
       "Master           0.270408\n",
       "College          0.192177\n",
       "Below_College    0.115646\n",
       "Doctor           0.032313\n",
       "Name: proportion, dtype: float64"
      ]
     },
     "metadata": {},
     "output_type": "display_data"
    }
   ],
   "source": [
    "# Proportion of employees by Education level\n",
    "education_counts_pop = attrition_pop['Education'].value_counts(normalize=True)\n",
    "\n",
    "print('Proportion for the population of each group:')\n",
    "display(education_counts_pop)\n",
    "\n",
    "# Proportional stratified sampling for 40% of each Education group\n",
    "attrition_strat = attrition_pop.groupby('Education')\\\n",
    "\t.sample(frac=0.4, random_state=2022)\n",
    "\n",
    "education_counts_strat = attrition_strat['Education'].value_counts(normalize = True)\n",
    "\n",
    "print('Proportion for the sample of each group:')\n",
    "display(education_counts_strat)"
   ]
  },
  {
   "attachments": {},
   "cell_type": "markdown",
   "metadata": {},
   "source": [
    "By using group-based sampling, we ensure that each group's size in the sample accurately reflects its size in the population.\n",
    "\n",
    "In cases where we don't want a subgroup's larger size in the population to influence our analysis, we can use equal counts stratified sampling. This gives us samples where each subgroup has the same amount of data. For instance, if analyzing blood types, even though O is the most common worldwide, we might prefer having equal amounts of O, A, B, and AB in our sample.\n",
    "\n",
    "So if we want each subgroup to have equal weight in the analyses, then equal counts stratified sampling is the appropriate technique, as show in te following example:"
   ]
  },
  {
   "cell_type": "code",
   "execution_count": 8,
   "metadata": {},
   "outputs": [
    {
     "name": "stdout",
     "output_type": "stream",
     "text": [
      "Equal counts for each group:\n"
     ]
    },
    {
     "data": {
      "text/plain": [
       "Education\n",
       "Below_College    0.2\n",
       "College          0.2\n",
       "Bachelor         0.2\n",
       "Master           0.2\n",
       "Doctor           0.2\n",
       "Name: proportion, dtype: float64"
      ]
     },
     "metadata": {},
     "output_type": "display_data"
    }
   ],
   "source": [
    "# Get 30 employees from each Education group\n",
    "attrition_eq = attrition_pop.groupby('Education')\\\n",
    "\t.sample(n=30, random_state=2022)      \n",
    "\n",
    "# Get the proportions from attrition_eq\n",
    "education_counts_eq = attrition_eq['Education'].value_counts(normalize = True)\n",
    "\n",
    "print('Equal counts for each group:')\n",
    "display(education_counts_eq)"
   ]
  },
  {
   "attachments": {},
   "cell_type": "markdown",
   "metadata": {},
   "source": [
    "**Weighted Random Sampling**\n",
    "\n",
    "Weighted Random Sampling is a technique where each member of a population doesn't have an equal chance of selection. Instead, the selection probability is determined by predefined weights. These weights reflect the significance or frequency of each population member.\n",
    "\n",
    "For instance, if your population leans towards a particular attribute, your sampling can be weighted to acknowledge this bias. Weighted random sampling proves helpful when certain observations carry more importance and should be more present in the sample. An example could be a customer satisfaction survey, where frequent buyers might have more weight, as their feedback could be more valuable to the business.\n",
    "\n",
    "However, this method requires thoughtful weight assignment and can be more complicated than simple random sampling.\n",
    "\n",
    "Weighted sampling is a broad version of stratified sampling, allowing you to set rules about the probability of selecting rows at an individual level. The chance of selecting any given row aligns with its corresponding weight value.\n",
    "\n",
    "In the code snippet below, we demonstrate a weighted random sampling based on the 'YearsAtCompany' column. We sample 400 employees where the selection probability of each employee is proportional to their years at the company."
   ]
  },
  {
   "cell_type": "code",
   "execution_count": 9,
   "metadata": {},
   "outputs": [
    {
     "data": {
      "image/png": "[encoded data removed]",
      "text/plain": [
       "<Figure size 640x480 with 1 Axes>"
      ]
     },
     "metadata": {},
     "output_type": "display_data"
    }
   ],
   "source": [
    "# Plot YearsAtCompany from attrition_pop as a histogram\n",
    "attrition_pop['YearsAtCompany'].hist(bins=np.arange(0, 41, 1))\n",
    "plt.show()"
   ]
  },
  {
   "cell_type": "code",
   "execution_count": 10,
   "metadata": {},
   "outputs": [
    {
     "data": {
      "image/png": "[encoded data removed]",
      "text/plain": [
       "<Figure size 640x480 with 1 Axes>"
      ]
     },
     "metadata": {},
     "output_type": "display_data"
    }
   ],
   "source": [
    "# Sample 400 employees weighted by YearsAtCompany\n",
    "attrition_weight = attrition_pop.sample(n=400, weights=\"YearsAtCompany\")\n",
    "\n",
    "# Plot YearsAtCompany from attrition_weight as a histogram\n",
    "attrition_weight['YearsAtCompany'].hist(bins=np.arange(0, 41, 1))\n",
    "plt.show()"
   ]
  },
  {
   "attachments": {},
   "cell_type": "markdown",
   "metadata": {},
   "source": [
    "After sampling, the histogram of 'YearsAtCompany' shows a distribution that represents the years of service within the company more accurately."
   ]
  },
  {
   "attachments": {},
   "cell_type": "markdown",
   "metadata": {},
   "source": [
    "**Cluster Random Sampling**\n",
    "\n",
    "Cluster random sampling is a technique employed when dealing with larger populations that are dispersed across a wide area. This technique is particularly beneficial when simple random sampling is impractical or too expensive.\n",
    "\n",
    "The procedure involves dividing the larger population into separate groups known as clusters. These clusters could be naturally occurring groups (e.g., geographical regions, schools) or determined arbitrarily by the researcher. A crucial requirement is that each cluster should ideally represent a miniature version of the population, mimicking the characteristics of the entire group as closely as possible.\n",
    "\n",
    "The primary advantage of cluster random sampling is its ability to significantly reduce sampling costs by concentrating the sampling effort on a select number of areas or groups. This technique proves especially useful in large-scale surveys where the population is geographically dispersed. However, it is worth noting that it could lead to larger sampling errors compared to simple random sampling, especially if the clusters themselves are not homogeneous.\n",
    "\n",
    "In the code snippet below, we illustrate the use of cluster random sampling with the employee attrition dataset."
   ]
  },
  {
   "cell_type": "code",
   "execution_count": 11,
   "metadata": {},
   "outputs": [
    {
     "data": {
      "text/html": [
       "<div>\n",
       "<style scoped>\n",
       "    .dataframe tbody tr th:only-of-type {\n",
       "        vertical-align: middle;\n",
       "    }\n",
       "\n",
       "    .dataframe tbody tr th {\n",
       "        vertical-align: top;\n",
       "    }\n",
       "\n",
       "    .dataframe thead th {\n",
       "        text-align: right;\n",
       "    }\n",
       "</style>\n",
       "<table border=\"1\" class=\"dataframe\">\n",
       "  <thead>\n",
       "    <tr style=\"text-align: right;\">\n",
       "      <th></th>\n",
       "      <th>Age</th>\n",
       "      <th>Attrition</th>\n",
       "      <th>BusinessTravel</th>\n",
       "      <th>DailyRate</th>\n",
       "      <th>Department</th>\n",
       "      <th>DistanceFromHome</th>\n",
       "      <th>Education</th>\n",
       "      <th>EducationField</th>\n",
       "      <th>EnvironmentSatisfaction</th>\n",
       "      <th>Gender</th>\n",
       "      <th>...</th>\n",
       "      <th>PerformanceRating</th>\n",
       "      <th>RelationshipSatisfaction</th>\n",
       "      <th>StockOptionLevel</th>\n",
       "      <th>TotalWorkingYears</th>\n",
       "      <th>TrainingTimesLastYear</th>\n",
       "      <th>WorkLifeBalance</th>\n",
       "      <th>YearsAtCompany</th>\n",
       "      <th>YearsInCurrentRole</th>\n",
       "      <th>YearsSinceLastPromotion</th>\n",
       "      <th>YearsWithCurrManager</th>\n",
       "    </tr>\n",
       "  </thead>\n",
       "  <tbody>\n",
       "    <tr>\n",
       "      <th>1348</th>\n",
       "      <td>44</td>\n",
       "      <td>1.0</td>\n",
       "      <td>Travel_Rarely</td>\n",
       "      <td>1376</td>\n",
       "      <td>Human_Resources</td>\n",
       "      <td>1</td>\n",
       "      <td>College</td>\n",
       "      <td>Medical</td>\n",
       "      <td>Medium</td>\n",
       "      <td>Male</td>\n",
       "      <td>...</td>\n",
       "      <td>Excellent</td>\n",
       "      <td>Very_High</td>\n",
       "      <td>1</td>\n",
       "      <td>24</td>\n",
       "      <td>1</td>\n",
       "      <td>Better</td>\n",
       "      <td>20</td>\n",
       "      <td>6</td>\n",
       "      <td>3</td>\n",
       "      <td>6</td>\n",
       "    </tr>\n",
       "    <tr>\n",
       "      <th>886</th>\n",
       "      <td>41</td>\n",
       "      <td>0.0</td>\n",
       "      <td>Non-Travel</td>\n",
       "      <td>552</td>\n",
       "      <td>Human_Resources</td>\n",
       "      <td>4</td>\n",
       "      <td>Bachelor</td>\n",
       "      <td>Human_Resources</td>\n",
       "      <td>High</td>\n",
       "      <td>Male</td>\n",
       "      <td>...</td>\n",
       "      <td>Excellent</td>\n",
       "      <td>Medium</td>\n",
       "      <td>1</td>\n",
       "      <td>10</td>\n",
       "      <td>4</td>\n",
       "      <td>Better</td>\n",
       "      <td>3</td>\n",
       "      <td>2</td>\n",
       "      <td>1</td>\n",
       "      <td>2</td>\n",
       "    </tr>\n",
       "    <tr>\n",
       "      <th>983</th>\n",
       "      <td>39</td>\n",
       "      <td>0.0</td>\n",
       "      <td>Travel_Rarely</td>\n",
       "      <td>141</td>\n",
       "      <td>Human_Resources</td>\n",
       "      <td>3</td>\n",
       "      <td>Bachelor</td>\n",
       "      <td>Human_Resources</td>\n",
       "      <td>High</td>\n",
       "      <td>Female</td>\n",
       "      <td>...</td>\n",
       "      <td>Excellent</td>\n",
       "      <td>High</td>\n",
       "      <td>1</td>\n",
       "      <td>12</td>\n",
       "      <td>3</td>\n",
       "      <td>Bad</td>\n",
       "      <td>8</td>\n",
       "      <td>3</td>\n",
       "      <td>3</td>\n",
       "      <td>6</td>\n",
       "    </tr>\n",
       "    <tr>\n",
       "      <th>88</th>\n",
       "      <td>27</td>\n",
       "      <td>1.0</td>\n",
       "      <td>Travel_Frequently</td>\n",
       "      <td>1337</td>\n",
       "      <td>Human_Resources</td>\n",
       "      <td>22</td>\n",
       "      <td>Bachelor</td>\n",
       "      <td>Human_Resources</td>\n",
       "      <td>Low</td>\n",
       "      <td>Female</td>\n",
       "      <td>...</td>\n",
       "      <td>Excellent</td>\n",
       "      <td>Low</td>\n",
       "      <td>0</td>\n",
       "      <td>1</td>\n",
       "      <td>2</td>\n",
       "      <td>Better</td>\n",
       "      <td>1</td>\n",
       "      <td>0</td>\n",
       "      <td>0</td>\n",
       "      <td>0</td>\n",
       "    </tr>\n",
       "    <tr>\n",
       "      <th>189</th>\n",
       "      <td>34</td>\n",
       "      <td>0.0</td>\n",
       "      <td>Travel_Rarely</td>\n",
       "      <td>829</td>\n",
       "      <td>Human_Resources</td>\n",
       "      <td>3</td>\n",
       "      <td>College</td>\n",
       "      <td>Human_Resources</td>\n",
       "      <td>High</td>\n",
       "      <td>Male</td>\n",
       "      <td>...</td>\n",
       "      <td>Excellent</td>\n",
       "      <td>High</td>\n",
       "      <td>1</td>\n",
       "      <td>4</td>\n",
       "      <td>1</td>\n",
       "      <td>Bad</td>\n",
       "      <td>3</td>\n",
       "      <td>2</td>\n",
       "      <td>0</td>\n",
       "      <td>2</td>\n",
       "    </tr>\n",
       "  </tbody>\n",
       "</table>\n",
       "<p>5 rows × 31 columns</p>\n",
       "</div>"
      ],
      "text/plain": [
       "      Age  Attrition     BusinessTravel  DailyRate       Department  \\\n",
       "1348   44        1.0      Travel_Rarely       1376  Human_Resources   \n",
       "886    41        0.0         Non-Travel        552  Human_Resources   \n",
       "983    39        0.0      Travel_Rarely        141  Human_Resources   \n",
       "88     27        1.0  Travel_Frequently       1337  Human_Resources   \n",
       "189    34        0.0      Travel_Rarely        829  Human_Resources   \n",
       "\n",
       "      DistanceFromHome Education   EducationField EnvironmentSatisfaction  \\\n",
       "1348                 1   College          Medical                  Medium   \n",
       "886                  4  Bachelor  Human_Resources                    High   \n",
       "983                  3  Bachelor  Human_Resources                    High   \n",
       "88                  22  Bachelor  Human_Resources                     Low   \n",
       "189                  3   College  Human_Resources                    High   \n",
       "\n",
       "      Gender  ...  PerformanceRating RelationshipSatisfaction  \\\n",
       "1348    Male  ...          Excellent                Very_High   \n",
       "886     Male  ...          Excellent                   Medium   \n",
       "983   Female  ...          Excellent                     High   \n",
       "88    Female  ...          Excellent                      Low   \n",
       "189     Male  ...          Excellent                     High   \n",
       "\n",
       "      StockOptionLevel TotalWorkingYears TrainingTimesLastYear  \\\n",
       "1348                 1                24                     1   \n",
       "886                  1                10                     4   \n",
       "983                  1                12                     3   \n",
       "88                   0                 1                     2   \n",
       "189                  1                 4                     1   \n",
       "\n",
       "     WorkLifeBalance  YearsAtCompany  YearsInCurrentRole  \\\n",
       "1348          Better              20                   6   \n",
       "886           Better               3                   2   \n",
       "983              Bad               8                   3   \n",
       "88            Better               1                   0   \n",
       "189              Bad               3                   2   \n",
       "\n",
       "      YearsSinceLastPromotion YearsWithCurrManager  \n",
       "1348                        3                    6  \n",
       "886                         1                    2  \n",
       "983                         3                    6  \n",
       "88                          0                    0  \n",
       "189                         0                    2  \n",
       "\n",
       "[5 rows x 31 columns]"
      ]
     },
     "metadata": {},
     "output_type": "display_data"
    }
   ],
   "source": [
    "# Create a list of unique JobRole values\n",
    "job_roles_pop = list(attrition_pop['JobRole'].unique())\n",
    "\n",
    "# Randomly sample four JobRole values\n",
    "job_roles_samp = random.sample(job_roles_pop, k=4)\n",
    "\n",
    "# Filter for rows where JobRole is in job_roles_samp\n",
    "jobrole_condition = attrition_pop['JobRole'].isin(job_roles_samp)\n",
    "attrition_filtered = attrition_pop[jobrole_condition]\n",
    "\n",
    "# After filtering, categorical values type retains all its original categories.\n",
    "# we call remove_unused_categories() to only include those categories \n",
    "# that are actually in the filtered dataset\n",
    "attrition_filtered.loc[:, 'JobRole'] = attrition_filtered['JobRole'].cat\\\n",
    "                                        .remove_unused_categories()\n",
    "\n",
    "# Randomly sample 10 employees from each sampled job role\n",
    "attrition_clust = attrition_filtered.groupby('JobRole')\\\n",
    "                    .sample(n = 10, random_state = 2022)\n",
    "\n",
    "# Print the sample\n",
    "display(attrition_clust.head())"
   ]
  },
  {
   "attachments": {},
   "cell_type": "markdown",
   "metadata": {},
   "source": [
    "In this example, we treat each 'JobRole' as a cluster. We randomly select four roles, filter our data to include only employees with these roles, and then perform simple random sampling within each of these clusters. By doing so, we ensure that our final sample contains a balanced representation of each selected 'JobRole'."
   ]
  },
  {
   "attachments": {},
   "cell_type": "markdown",
   "metadata": {},
   "source": [
    "# **Sampling Distribution of a Statistic**"
   ]
  },
  {
   "attachments": {},
   "cell_type": "markdown",
   "metadata": {},
   "source": [
    "In statistics, the concept of \"sampling distribution of a statistic\" signifies how a specific sample statistic (like the mean) could fluctuate across multiple samples extracted from the same population.\n",
    "\n",
    "Generally, when we extract a sample from a population, our objective is to measure a specific outcome. However, our measurements or predictions are subject to error, given that they are reliant on a sample. In other words, if we were to draw a different sample, we could get different results. Therefore, we're interested in assessing how varied these results could potentially be, a phenomenon we refer to as sampling variability.\n",
    "\n",
    "In cases where we have access to lot of data, we could draw multiple samples and directly observe the variability of the sample statistic. An interesting observation is that the distribution of a sample statistic, such as the mean, tends to be more normalized and bell-shaped compared to the distribution of the original data.\n",
    "\n",
    "Furthermore, the more data our sample statistic is based on, the closer its distribution comes to a bell-shaped curve. Larger samples also result in a narrower distribution of the sample statistic. Hence, as we collect more data, our sample statistic becomes a more accurate estimate of the population's true value.\n",
    "\n",
    "The following block of code demonstrates this concept. Here, we take 1000 samples, each of size 60, from our population. For each sample, we calculate the mean attrition, and then plot a histogram of these means."
   ]
  },
  {
   "cell_type": "code",
   "execution_count": 12,
   "metadata": {},
   "outputs": [],
   "source": [
    "def sample_statistic(df, column, replication, sample_size, statistic):\n",
    "    stats = []\n",
    "    for _ in range(replication):\n",
    "        sample = df.sample(n = sample_size)[column]\n",
    "        if statistic == 'mean':\n",
    "            stats.append(sample.mean())\n",
    "        elif statistic == 'std':\n",
    "            stats.append(sample.std(ddof = 1))\n",
    "    return stats"
   ]
  },
  {
   "cell_type": "code",
   "execution_count": 13,
   "metadata": {},
   "outputs": [
    {
     "data": {
      "image/png": "[encoded data removed]",
      "text/plain": [
       "<Figure size 500x500 with 1 Axes>"
      ]
     },
     "metadata": {},
     "output_type": "display_data"
    }
   ],
   "source": [
    "mean_attritions = sample_statistic(attrition_pop, 'Attrition', 1000, 60, 'mean')\n",
    "fig = plt.figure(figsize = (5,5))\n",
    "plt.hist(mean_attritions, bins=16)\n",
    "plt.show()"
   ]
  },
  {
   "attachments": {},
   "cell_type": "markdown",
   "metadata": {},
   "source": [
    "## **Central Limit Theorem**\n",
    "\n",
    "The Central Limit Theorem (CLT) is a key principle in statistics, stating that when an high number of samples are taken from a population, the distribution of sample means will approximate a normal curve, regardless of the shape of the population distribution. However, this holds true only when the sample size is sufficiently large and the data's deviation from normality isn't too significant.\n",
    "\n",
    "To illustrate this, let's analyze how varying sample sizes - specifically, 20, 100, 400, and 800 - affect the distribution of sample means:"
   ]
  },
  {
   "cell_type": "code",
   "execution_count": 14,
   "metadata": {},
   "outputs": [
    {
     "data": {
      "image/png": "[encoded data removed]",
      "text/plain": [
       "<Figure size 500x500 with 4 Axes>"
      ]
     },
     "metadata": {},
     "output_type": "display_data"
    }
   ],
   "source": [
    "sample_sizes = [20, 100, 400, 800]\n",
    "\n",
    "# Create a 2x2 grid of subplots\n",
    "fig, axs = plt.subplots(2, 2, figsize=(5, 5))\n",
    "\n",
    "# Flatten the axes array for easier iterating\n",
    "axs = axs.flatten()\n",
    "\n",
    "for i, sample_size in enumerate(sample_sizes):\n",
    "    mean_attritions = sample_statistic(attrition_pop, 'Attrition', 1000, sample_size, 'mean')\n",
    "    axs[i].hist(mean_attritions, bins=16)\n",
    "    axs[i].set_title(f'Sample size = {sample_size}')\n",
    "\n",
    "plt.tight_layout()\n",
    "plt.show()\n"
   ]
  },
  {
   "attachments": {},
   "cell_type": "markdown",
   "metadata": {},
   "source": [
    "The visualization demonstrates the two primary implications of the CLT:\n",
    "\n",
    "1. Normality: The distribution of sample means progressively approximates a normal distribution as the sample size increases. This outcome holds even if the underlying population distribution isn't normal.\n",
    "\n",
    "2. Decreasing Variability(standard error): The spread of the sampling distribution narrows with larger sample sizes, indicating that larger samples provide more consistent and reliable estimates of the population mean.\n",
    "\n",
    "**Standard Error**\n",
    "\n",
    "The standard error (SE) quantifies the potential variation of our sample mean from the true population mean. It serves as an indicator of our sample mean's precision.\n",
    "\n",
    "A smaller standard error implies that the sample mean is a more trustworthy estimator of the population mean.\n",
    "\n",
    "The theoretical standard error can be calculated when the population parameters are known. In practice, this is rarely the case, but it serves as a benchmark. The formula for this is:\n",
    "\n",
    "$$\\text{SE} = \\frac{\\sigma}{\\sqrt{n}} $$\n",
    "\n",
    "where $\\sigma$ represents the standard deviation of the population and $n$ represents the sample size.\n",
    "\n",
    "In reality, the population parameters are rarely known. Instead, we estimate them from the sample data. Here's how you can estimate the standard error:\n",
    "\n",
    "1. Collect a number of brand-new samples from the population.\n",
    "   \n",
    "2. For each new sample, calculate the statistic (e.g., mean).\n",
    "\n",
    "3. Calculate the standard deviation of the statistics computed in step 2; use this as\n",
    "your estimate of standard error.\n",
    "\n",
    "The estimated standard error will get closer to the theoretical standard error as the sample size increases, assuming that the sample is representative of the population."
   ]
  },
  {
   "cell_type": "code",
   "execution_count": 15,
   "metadata": {},
   "outputs": [
    {
     "name": "stdout",
     "output_type": "stream",
     "text": [
      "Sample size = 20, Standard Error = 0.081\n",
      "Sample size = 100, Standard Error = 0.036\n",
      "Sample size = 400, Standard Error = 0.016\n",
      "Sample size = 800, Standard Error = 0.009\n"
     ]
    }
   ],
   "source": [
    "sample_sizes = [20, 100, 400, 800]\n",
    "standard_errors = []\n",
    "\n",
    "for sample_size in sample_sizes:\n",
    "    sample_means = sample_statistic(attrition_pop, 'Attrition', 1000, sample_size, 'mean')\n",
    "    standard_error = np.std(sample_means, ddof=1)\n",
    "    \n",
    "    standard_errors.append(standard_error)\n",
    "\n",
    "for i, sample_size in enumerate(sample_sizes):\n",
    "    print(f'Sample size = {sample_size}, Standard Error = {standard_errors[i]:.3f}')"
   ]
  },
  {
   "attachments": {},
   "cell_type": "markdown",
   "metadata": {},
   "source": [
    "When the population standard deviation (σ) is known, we can directly calculate the standard error for each sample size:"
   ]
  },
  {
   "cell_type": "code",
   "execution_count": 16,
   "metadata": {},
   "outputs": [
    {
     "name": "stdout",
     "output_type": "stream",
     "text": [
      "Sample size = 20, Standard Error = 0.082\n",
      "Sample size = 100, Standard Error = 0.037\n",
      "Sample size = 400, Standard Error = 0.018\n",
      "Sample size = 800, Standard Error = 0.013\n"
     ]
    }
   ],
   "source": [
    "pop_std_dev = attrition_pop['Attrition'].std(ddof=1)\n",
    "\n",
    "sample_sizes = [20, 100, 400, 800]\n",
    "\n",
    "standard_errors = [pop_std_dev / np.sqrt(n) for n in sample_sizes]\n",
    "\n",
    "for i, sample_size in enumerate(sample_sizes):\n",
    "    print(f'Sample size = {sample_size}, Standard Error = {standard_errors[i]:.3f}')\n"
   ]
  },
  {
   "attachments": {},
   "cell_type": "markdown",
   "metadata": {},
   "source": [
    "# **Bootstrap Distribution**\n",
    "\n",
    "Bootstrap resampling (i.e., sampling with replacement from a data set) is a powerful statistical technique that provides a robust way to estimate the sampling distribution of a statistic or model parameters. It involves drawing additional samples, with replacement, from the original sample and recalculating the statistic or model for each resample. The fundamental advantage of this approach is that it makes no assumptions about the data or the sample statistic being normally distributed.\n"
   ]
  },
  {
   "attachments": {},
   "cell_type": "markdown",
   "metadata": {},
   "source": [
    "The bootstrap approach can be conceptualized as replicating the original sample thousands or even millions of times to generate a hypothetical population that encapsulates all the knowledge from your original sample but in a larger volume. Samples are then drawn from this hypothetical population to estimate a sampling distribution.\n",
    "\n",
    "<center><img src = \"Images/bootstrap.png\" width=\"600\" height=\"200\"/></center>\n",
    "\n",
    "In practice, it's not necessary to replicate the sample a vast number of times physically. Instead, we sample with replacement, effectively creating an infinite population where the probability of an element being drawn remains consistent from draw to draw.\n",
    "\n",
    "To implement bootstrap resampling for estimating the mean from a sample of size $n$, follow these steps:\n",
    "\n",
    "1. **Select an original sample from the population:** Draw a sample of $n$ observations selected from the population. The sample mean of this original sample serves as an estimate of the population mean.\n",
    "2. **Generate a bootstrap sample:** Draw a sample of size $n$ with replacement from the original sample. This means you're creating a new sample by randomly selecting n observations from your original sample, and some observations may appear more than once while others may not appear at all.\n",
    "3. **Calculate the statistic of interest:** Record the mean of the $n$ resampled values.\n",
    "4. **Repeat steps 1–3 N times**: This process generates a distribution of means from N bootstrap samples.\n",
    "5. **Analyze the bootstrap distribution:**\n",
    "    - Calculate their standard deviation, which estimates the sample mean standard error.\n",
    "    - Produce a histogram or boxplot to visually assess the distribution of the resampled means.\n",
    "    - Calculate a confidence interval to quantify the precision of the estimated mean.\n",
    "\n",
    "\n",
    "In the realm of machine learning, bootstrapping is often used in ensemble methods, such as Bagging and Random Forests, to improve model robustness and stability. It involves creating multiple subsets of the original dataset, with replacement, training a model on each subset, and then aggregating the predictions. The aggregation could be a simple average in the case of regression, or a majority vote for classification. This method helps reduce variance and overfitting."
   ]
  },
  {
   "cell_type": "code",
   "execution_count": 17,
   "metadata": {},
   "outputs": [
    {
     "data": {
      "text/html": [
       "<div>\n",
       "<style scoped>\n",
       "    .dataframe tbody tr th:only-of-type {\n",
       "        vertical-align: middle;\n",
       "    }\n",
       "\n",
       "    .dataframe tbody tr th {\n",
       "        vertical-align: top;\n",
       "    }\n",
       "\n",
       "    .dataframe thead th {\n",
       "        text-align: right;\n",
       "    }\n",
       "</style>\n",
       "<table border=\"1\" class=\"dataframe\">\n",
       "  <thead>\n",
       "    <tr style=\"text-align: right;\">\n",
       "      <th></th>\n",
       "      <th>acousticness</th>\n",
       "      <th>artists</th>\n",
       "      <th>danceability</th>\n",
       "      <th>duration_ms</th>\n",
       "      <th>duration_minutes</th>\n",
       "      <th>energy</th>\n",
       "      <th>explicit</th>\n",
       "      <th>id</th>\n",
       "      <th>instrumentalness</th>\n",
       "      <th>key</th>\n",
       "      <th>liveness</th>\n",
       "      <th>loudness</th>\n",
       "      <th>mode</th>\n",
       "      <th>name</th>\n",
       "      <th>popularity</th>\n",
       "      <th>release_date</th>\n",
       "      <th>speechiness</th>\n",
       "      <th>tempo</th>\n",
       "      <th>valence</th>\n",
       "      <th>year</th>\n",
       "    </tr>\n",
       "  </thead>\n",
       "  <tbody>\n",
       "    <tr>\n",
       "      <th>0</th>\n",
       "      <td>0.972</td>\n",
       "      <td>['David Bauer']</td>\n",
       "      <td>0.567</td>\n",
       "      <td>313293.0</td>\n",
       "      <td>5.22155</td>\n",
       "      <td>0.227</td>\n",
       "      <td>0.0</td>\n",
       "      <td>0w0D8H1ubRerCXHWYJkinO</td>\n",
       "      <td>0.601000</td>\n",
       "      <td>10.0</td>\n",
       "      <td>0.110</td>\n",
       "      <td>-13.441</td>\n",
       "      <td>1.0</td>\n",
       "      <td>Shout to the Lord</td>\n",
       "      <td>47.0</td>\n",
       "      <td>2000</td>\n",
       "      <td>0.0290</td>\n",
       "      <td>136.123</td>\n",
       "      <td>0.0396</td>\n",
       "      <td>2000.0</td>\n",
       "    </tr>\n",
       "    <tr>\n",
       "      <th>1</th>\n",
       "      <td>0.321</td>\n",
       "      <td>['Etta James']</td>\n",
       "      <td>0.821</td>\n",
       "      <td>360240.0</td>\n",
       "      <td>6.00400</td>\n",
       "      <td>0.418</td>\n",
       "      <td>0.0</td>\n",
       "      <td>4JVeqfE2tpi7Pv63LJZtPh</td>\n",
       "      <td>0.000372</td>\n",
       "      <td>9.0</td>\n",
       "      <td>0.222</td>\n",
       "      <td>-9.841</td>\n",
       "      <td>0.0</td>\n",
       "      <td>Miss You</td>\n",
       "      <td>51.0</td>\n",
       "      <td>2000-12-12</td>\n",
       "      <td>0.0407</td>\n",
       "      <td>117.382</td>\n",
       "      <td>0.8030</td>\n",
       "      <td>2000.0</td>\n",
       "    </tr>\n",
       "  </tbody>\n",
       "</table>\n",
       "</div>"
      ],
      "text/plain": [
       "   acousticness          artists  danceability  duration_ms  duration_minutes  \\\n",
       "0         0.972  ['David Bauer']         0.567     313293.0           5.22155   \n",
       "1         0.321   ['Etta James']         0.821     360240.0           6.00400   \n",
       "\n",
       "   energy  explicit                      id  instrumentalness   key  liveness  \\\n",
       "0   0.227       0.0  0w0D8H1ubRerCXHWYJkinO          0.601000  10.0     0.110   \n",
       "1   0.418       0.0  4JVeqfE2tpi7Pv63LJZtPh          0.000372   9.0     0.222   \n",
       "\n",
       "   loudness  mode               name  popularity release_date  speechiness  \\\n",
       "0   -13.441   1.0  Shout to the Lord        47.0         2000       0.0290   \n",
       "1    -9.841   0.0           Miss You        51.0   2000-12-12       0.0407   \n",
       "\n",
       "     tempo  valence    year  \n",
       "0  136.123   0.0396  2000.0  \n",
       "1  117.382   0.8030  2000.0  "
      ]
     },
     "execution_count": 17,
     "metadata": {},
     "output_type": "execute_result"
    }
   ],
   "source": [
    "spotify_pop = pd.read_feather(SPOTIFY)\n",
    "spotify_pop.head(2)"
   ]
  },
  {
   "cell_type": "code",
   "execution_count": 18,
   "metadata": {},
   "outputs": [
    {
     "data": {
      "image/png": "[encoded data removed]",
      "text/plain": [
       "<Figure size 640x480 with 1 Axes>"
      ]
     },
     "metadata": {},
     "output_type": "display_data"
    }
   ],
   "source": [
    "mean_danceability_1000 = []\n",
    "# Bootstrap\n",
    "for i in range(1000):\n",
    "\tmean_danceability_1000.append(\n",
    "        np.mean(spotify_pop.sample(frac=1, replace=True)['danceability'])\n",
    "\t)\n",
    "\n",
    "# histogram of the resample means\n",
    "plt.hist(mean_danceability_1000)\n",
    "plt.show()"
   ]
  },
  {
   "attachments": {},
   "cell_type": "markdown",
   "metadata": {},
   "source": [
    "## **Sampling vs Bootstrap distributions**\n",
    "\n",
    "Bootstrap distributions often reflect the sample mean closely, but this doesn't always yield beneficial outcomes. If the original sample doesn't accurately represent the population, the bootstrap distribution mean may not be an accurate estimate of the population mean. Bootstrap method doesn't have the power to rectify any potential biases arising due to differences between the sample and the population.\n",
    "\n",
    "Let's illustrate this by comparing the means of our population, bootstrap distribution, and sample distribution:\n"
   ]
  },
  {
   "cell_type": "code",
   "execution_count": 19,
   "metadata": {},
   "outputs": [
    {
     "name": "stdout",
     "output_type": "stream",
     "text": [
      "Population mean : \n",
      " 54.837142308430955 \n",
      "\n",
      "Sample mean : \n",
      " 54.88270597272902 \n",
      "\n",
      "Bootstrap Distribution mean : \n",
      " 54.88749683118878 \n",
      "\n",
      "Sample Distribution mean : \n",
      " 54.88927655079701 \n",
      "\n"
     ]
    }
   ],
   "source": [
    "# Population mean\n",
    "mean_pop = spotify_pop['popularity'].mean()\n",
    "printest('Population mean',mean_pop)\n",
    "\n",
    "# Initial Sample from Population\n",
    "initial_sample = spotify_pop.sample(frac = 0.5)\n",
    "\n",
    "# Sample mean\n",
    "mean_pop = initial_sample['popularity'].mean()\n",
    "printest('Sample mean', mean_pop)\n",
    "\n",
    "# Mean Bootstrap Distribution\n",
    "mean_popularity_1000 = []\n",
    "for i in range(500):\n",
    "    mean_popularity_1000.append(\n",
    "        np.mean(initial_sample.sample(frac=1, replace=True)['popularity'])\n",
    "    )\n",
    "bootstrap_dist_mean = mean_popularity_1000\n",
    "printest('Bootstrap Distribution mean', np.mean(bootstrap_dist_mean))\n",
    "\n",
    "# Mean Sampling Distribution from the initial sample\n",
    "mean_popularity_1000 = []\n",
    "for i in range(500):\n",
    "    mean_popularity_1000.append(\n",
    "        np.mean(initial_sample.sample(frac = 0.5)['popularity'])\n",
    "    )\n",
    "sampling_dist_mean = mean_popularity_1000\n",
    "printest('Sample Distribution mean', np.mean(sampling_dist_mean))\n"
   ]
  },
  {
   "attachments": {},
   "cell_type": "markdown",
   "metadata": {},
   "source": [
    "In conclusion,\n",
    "\n",
    " - The sample mean serves as an estimate of the population mean, computed from a single sample of data.\n",
    "\n",
    "- The mean of the bootstrap distribution approximates the mean of our original sample. It gives us an understanding of the variability and possible bias in our sample mean estimate.\n",
    "\n",
    "While the bootstrap method can be useful for understanding the variability and potential bias in our sample mean, it doesn't necessarily provide a reliable estimate of the population mean, especially when the original sample isn't a good representation of the population. This is where traditional sampling methods and the concept of confidence intervals become crucial, as they assist us in making more robust estimates of population parameters."
   ]
  },
  {
   "attachments": {},
   "cell_type": "markdown",
   "metadata": {},
   "source": [
    "**Sampling and Bootstrap Standard Deviations**\n",
    "\n",
    "One of the primary objectives of bootstrapping is to quantify the variability we might anticipate in our sample statistic as it varies from one sample to another. This measure of variability, also known as the standard error, can be obtained through the standard deviation of the sampling distribution of our statistic.\n",
    "\n",
    "The standard deviation of the bootstrap means is a powerful estimator of this variability. When we multiply the standard error by the square root of the sample size, we get an estimate of the standard deviation of the population.\n",
    "\n",
    "\n",
    "\n",
    "\n",
    "\n"
   ]
  },
  {
   "cell_type": "code",
   "execution_count": 26,
   "metadata": {},
   "outputs": [
    {
     "name": "stdout",
     "output_type": "stream",
     "text": [
      "std dev popularity : \n",
      " 10.880195870824291 \n",
      "\n",
      "Sample std dev : \n",
      " 10.801446656663524 \n",
      "\n",
      "Bootstrap Distribution std dev : \n",
      " 10.749558218242186 \n",
      "\n",
      "Sample Distribution std dev : \n",
      " 9.772667647310712 \n",
      "\n"
     ]
    }
   ],
   "source": [
    "# std dev popularity\n",
    "std_pop = spotify_pop['popularity'].std()\n",
    "printest('std dev popularity', std_pop)\n",
    "\n",
    "initial_sample = spotify_pop.sample(frac = 0.5)\n",
    "\n",
    "# Sample std dev popularity\n",
    "std_pop = initial_sample['popularity'].std()\n",
    "printest('Sample std dev', std_pop)\n",
    "\n",
    "printest('Bootstrap Distribution std dev', np.std(bootstrap_dist_mean, ddof=1)* np.sqrt(len(initial_sample)))\n",
    "\n",
    "printest('Sample Distribution std dev', np.std(sampling_dist_mean, ddof=1)*np.sqrt(len(initial_sample)))"
   ]
  },
  {
   "cell_type": "markdown",
   "metadata": {},
   "source": [
    "As we can see, the standard deviation of the bootstrap distribution provides a close estimate to the standard deviation of the population, indicating that bootstrapping can effectively quantify the variability in our sample statistic. This is because the standard error is an estimate of the standard deviation of the sample mean, and when multiplied by the square root of the sample size (which is the number of sample means we have), it approximates the standard deviation of the population.\n",
    "\n",
    "This method is particularly useful when the population standard deviation is unknown and only a single sample from the population is available, which is often the case in practical scenarios."
   ]
  },
  {
   "attachments": {},
   "cell_type": "markdown",
   "metadata": {},
   "source": [
    "# **Confidence Intervals**"
   ]
  },
  {
   "cell_type": "markdown",
   "metadata": {},
   "source": [
    "Confidence intervals are associated with a coverage level, usually expressed as a high percentage, such as $90\\%$ or $95\\%$. The coverage level refers to the probability that the interval contains the population parameter. A $90\\%$ confidence interval can be understood as the range that encompasses the central $90\\%$ of the bootstrap sampling distribution of a sample statistic.\n",
    "\n",
    "To put it another way, an $x\\%$ confidence interval around a sample estimate is expected to contain similar sample estimates $x\\%$ of the time, provided a comparable sampling procedure is employed.\n",
    "\n",
    "For constructing a bootstrap confidence interval for a sample statistic from a sample of size n, follow these steps:\n",
    "\n",
    "1. Draw a random sample of size n with replacement from the data (a resample).\n",
    "2. Record the statistic of interest for the resample.\n",
    "3. Repeat steps 1–2 many (N) times.\n",
    "4. For an $x\\%$ confidence interval, trim [(100-x) / 2]% of the N resample results from\n",
    "either end of the distribution.\n",
    "5. The trim points are the endpoints of an $x\\%$ bootstrap confidence interval.\n",
    "\n",
    "This procedure provides an empirical approach to gauging uncertainty and does not make any assumptions about the population's distribution, making it widely applicable and robust.\n",
    "\n",
    "Let's say you are calculating a 95% confidence interval. This implies that you want the middle 95% of the data. The term [(100 - 95) / 2] calculates how much data to trim from each end of the distribution to achieve this. In this case, you would trim 2.5% from the lower end and 2.5% from the upper end. The remaining data, between these two trimmed points, make up your 95% confidence interval."
   ]
  },
  {
   "cell_type": "code",
   "execution_count": null,
   "metadata": {},
   "outputs": [],
   "source": []
  },
  {
   "cell_type": "markdown",
   "metadata": {},
   "source": [
    "In essence, you are cutting off the most extreme values (both high and low) and keeping the central part of the distribution, which contains the most likely values for your parameter of interest according to the bootstrap procedure."
   ]
  }
 ],
 "metadata": {
  "kernelspec": {
   "display_name": "Python 3",
   "language": "python",
   "name": "python3"
  },
  "language_info": {
   "codemirror_mode": {
    "name": "ipython",
    "version": 3
   },
   "file_extension": ".py",
   "mimetype": "text/x-python",
   "name": "python",
   "nbconvert_exporter": "python",
   "pygments_lexer": "ipython3",
   "version": "3.10.6"
  },
  "orig_nbformat": 4
 },
 "nbformat": 4,
 "nbformat_minor": 2
}
